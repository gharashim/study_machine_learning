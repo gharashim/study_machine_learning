{
 "cells": [
  {
   "attachments": {},
   "cell_type": "markdown",
   "metadata": {},
   "source": [
    "# 1. 문제 정의"
   ]
  },
  {
   "attachments": {},
   "cell_type": "markdown",
   "metadata": {},
   "source": [
    "## 사용 데이터"
   ]
  },
  {
   "attachments": {},
   "cell_type": "markdown",
   "metadata": {},
   "source": [
    "데이터 불러오기"
   ]
  },
  {
   "cell_type": "code",
   "execution_count": 25,
   "metadata": {},
   "outputs": [],
   "source": [
    "import pandas as pd\n",
    "df = pd.read_csv('../data/classification/vehicle.csv')\n",
    "X = df.drop('y', axis = 1)\n",
    "y = df['y']"
   ]
  },
  {
   "attachments": {},
   "cell_type": "markdown",
   "metadata": {},
   "source": [
    "## 하이퍼 파라미터 범위 및 평가방법"
   ]
  },
  {
   "attachments": {},
   "cell_type": "markdown",
   "metadata": {},
   "source": [
    "고려하는 모델은 LightGBM이며 하이퍼 파라미터는 결정 나무 개수(n_estimator), 학습률(learning_rate), 최대 잎 노드 개수(num_leaves) 입니다."
   ]
  },
  {
   "attachments": {},
   "cell_type": "markdown",
   "metadata": {},
   "source": [
    "하이퍼 파라미터 범위\n",
    "- 결정 나무 개수 : 10 ~ 100\n",
    "- 학습률 : 0.001 ~ 0.5\n",
    "- 최대 잎 노드 개수 : 20 ~ 120"
   ]
  },
  {
   "attachments": {},
   "cell_type": "markdown",
   "metadata": {},
   "source": [
    "# 2. 구성 요소 정의"
   ]
  },
  {
   "attachments": {},
   "cell_type": "markdown",
   "metadata": {},
   "source": [
    "## 목적 함수 정의"
   ]
  },
  {
   "attachments": {},
   "cell_type": "markdown",
   "metadata": {},
   "source": [
    "목적 함수는 하이퍼 파라미터에 따른 5-겹 교차 검증 방식으로 계산한 정확도 입니다."
   ]
  },
  {
   "attachments": {},
   "cell_type": "markdown",
   "metadata": {},
   "source": [
    "목적 함수"
   ]
  },
  {
   "cell_type": "code",
   "execution_count": 26,
   "metadata": {},
   "outputs": [],
   "source": [
    "from sklearn.model_selection import cross_val_score\n",
    "from lightgbm import LGBMClassifier as LGBC\n",
    "def obj_func(parameter):\n",
    "    model = LGBC(\n",
    "        random_state = 2022,\n",
    "        n_estimators = int(parameter[0]),\n",
    "        learning_rate = parameter[1],\n",
    "        num_leaves = int(parameter[2])\n",
    "    )\n",
    "    score = cross_val_score(model, X, y, scoring = 'accuracy', cv = 5).mean()\n",
    "    return score"
   ]
  },
  {
   "attachments": {},
   "cell_type": "markdown",
   "metadata": {},
   "source": [
    "- 라인 3: 크기가 3인 배열 parameter를 입력받는 obj_func 함수를 정의 합니다. 여기서 0번째 요소는 결정 나무 개수, 1번째 요소는 학습률, 2번째 요소는 잎노드 개수를 나타냅니다.\n",
    "- 라인 4~7: 입력 받은 하이퍼 파라미터를 갖는 LightGBM 모델 인스턴스인model을정의합니다. 이때 공정한 평가를 위해 random_state는 2022로 고정 했습니다.\n",
    "- 라인 9: 5-겹교차 검증 방식으로 계산한 model의평균 정확도를 score에 저장합니다.\n"
   ]
  },
  {
   "attachments": {},
   "cell_type": "markdown",
   "metadata": {},
   "source": [
    "## 샘플러 정의\n",
    "각 하이퍼 파라미터는 유니폼 분포로부터 샘플링하겠습니다. 샘플러는 다음과 같이 정의합니다."
   ]
  },
  {
   "attachments": {},
   "cell_type": "markdown",
   "metadata": {},
   "source": [
    "샘플러"
   ]
  },
  {
   "cell_type": "code",
   "execution_count": 27,
   "metadata": {},
   "outputs": [],
   "source": [
    "import numpy as np\n",
    "from scipy.stats import uniform\n",
    "def sampler(n):\n",
    "    n_estimator = np.random.randint(10, 100, n)\n",
    "    learning_rate = uniform(0.001, 0.5).rvs(n)\n",
    "    num_leaves = np.random.randint(20, 120, n)\n",
    "    parameter_arr = np.vstack([n_estimator, learning_rate, num_leaves]).T\n",
    "    return parameter_arr"
   ]
  },
  {
   "attachments": {},
   "cell_type": "markdown",
   "metadata": {},
   "source": [
    "- 라인 4: 10부터 100 사이의 n개의 정수를 n_estimator에 저장합니다.\n",
    "- 라인 5: 0.001부터 0.5 사이의 n 개의 실수를 learning_rate에 저장합니다.\n",
    "- 라인 7: 크기가 n인 배열 n_estimator, learning_rate, num_leaves를 수직 방향으로 병합한 뒤, T를 사용해 전치시킵니다. 칼럼별로 샘플링한 결과를 합칠 때 사용하는 테크닉입니다."
   ]
  },
  {
   "attachments": {},
   "cell_type": "markdown",
   "metadata": {},
   "source": [
    "## 칼럼별 샘플링 결과 병합 테크닉"
   ]
  },
  {
   "attachments": {},
   "cell_type": "markdown",
   "metadata": {},
   "source": [
    "## 획득 함수 정의\n",
    "획득 함수로 개선 기대 함수를 사용하겠습니다."
   ]
  },
  {
   "attachments": {},
   "cell_type": "markdown",
   "metadata": {},
   "source": [
    "획득 함수"
   ]
  },
  {
   "cell_type": "code",
   "execution_count": 28,
   "metadata": {},
   "outputs": [],
   "source": [
    "from scipy.stats import norm\n",
    "def EI(X_new, model, best_mu, e = 0.01):\n",
    "    mu, sigma = model.predict(X_new, return_std = True)\n",
    "    z = np.zeros(len(X_new))\n",
    "    z[sigma > 0] = ((mu - best_mu -e)/sigma)[sigma > 0]\n",
    "    return (mu - best_mu - e) * norm.cdf(z) + sigma * norm.pdf(z)"
   ]
  },
  {
   "attachments": {},
   "cell_type": "markdown",
   "metadata": {},
   "source": [
    "# 3. 메인 코드"
   ]
  },
  {
   "attachments": {},
   "cell_type": "markdown",
   "metadata": {},
   "source": [
    "## 메인 함수\n",
    "초기에 n1 개의 해를 평가하고, 매 이터레이션마다 n2 개의 후보 해를 샘플링해서 획득 함수를 사용해 k개의 해를 선택하여 평가합니다."
   ]
  },
  {
   "cell_type": "code",
   "execution_count": 29,
   "metadata": {},
   "outputs": [],
   "source": [
    "from sklearn.gaussian_process import GaussianProcessRegressor as GPR\n",
    "from sklearn.gaussian_process.kernels import RBF, WhiteKernel\n",
    "\n",
    "def main(n1, n2, k, num_iter):\n",
    "    P = sampler(n1)\n",
    "    E = np.apply_along_axis(obj_func, axis = 1, arr = P)\n",
    "    for _ in range(num_iter):\n",
    "        model = GPR(kernel = RBF() + WhiteKernel(), random_state = 2022).fit(P, E)\n",
    "        best_mu = max(model.predict(P))\n",
    "        P_new = sampler(n2)\n",
    "        score_list = EI(P_new, model, best_mu)\n",
    "\n",
    "        P_new_star = P_new[(-score_list.argsort())[:k]]\n",
    "        E_new = np.apply_along_axis(obj_func, axis = 1, arr = P_new_star)\n",
    "        P = np.vstack([P, P_new_star])\n",
    "        E = np.append(E, E_new)\n",
    "    \n",
    "    return P[E.argmax()], E.max()"
   ]
  },
  {
   "attachments": {},
   "cell_type": "markdown",
   "metadata": {},
   "source": [
    "- 라인 5~6: n1 개의 해를 임의로 샘플링한 결과를 P에 저장하고 obj_func 함수로 P의 각 요소를 평가한 결과를 E에 저장합니다.\n",
    "- 라인 10~11: n2개의 해를 임의로 샘플링하여 획득 함수인 EI로 각각의 해를 평가 합니다.\n",
    "- 라인 13: P_new에서 EI함수의 출력이 가장 큰 상위 k 개의 해를 P_new_star에 저장합니다.\n",
    "- 라인 14: P_new_star에 있는 해를 obj_func 함수로 평가하고 그 결과를 E_new에 저장합니다.\n",
    "- 라인 15~16: P_new_star와 E_new를 각각 P와 E에 추가합니다."
   ]
  },
  {
   "attachments": {},
   "cell_type": "markdown",
   "metadata": {},
   "source": [
    "## 하이퍼 파라미터 튜닝 수행"
   ]
  },
  {
   "cell_type": "code",
   "execution_count": 30,
   "metadata": {},
   "outputs": [
    {
     "name": "stdout",
     "output_type": "stream",
     "text": [
      "(array([90.      ,  0.431995, 37.      ]), 0.7931569787678384)\n"
     ]
    }
   ],
   "source": [
    "print(main(100, 100, 10, 50))"
   ]
  },
  {
   "attachments": {},
   "cell_type": "markdown",
   "metadata": {},
   "source": [
    "- 라인 1: n1 = 100, n2 = 100, k = 10, num_iter = 50으로 설정했습니다."
   ]
  }
 ],
 "metadata": {
  "kernelspec": {
   "display_name": "base",
   "language": "python",
   "name": "python3"
  },
  "language_info": {
   "codemirror_mode": {
    "name": "ipython",
    "version": 3
   },
   "file_extension": ".py",
   "mimetype": "text/x-python",
   "name": "python",
   "nbconvert_exporter": "python",
   "pygments_lexer": "ipython3",
   "version": "3.9.12"
  },
  "orig_nbformat": 4,
  "vscode": {
   "interpreter": {
    "hash": "bb3e04fb40beff7675317d1c1c8fb49eb61db4a7ae559ce0ef4a250a17faaf57"
   }
  }
 },
 "nbformat": 4,
 "nbformat_minor": 2
}
