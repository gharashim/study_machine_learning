{
 "cells": [
  {
   "attachments": {},
   "cell_type": "markdown",
   "metadata": {},
   "source": [
    "# 1. 문제정의 : 외판원 순회 문제"
   ]
  },
  {
   "attachments": {},
   "cell_type": "markdown",
   "metadata": {},
   "source": [
    "## 외판원 순회 문제\n",
    "외판원 순회 문제는 시작 노드에서 출발해서 모든 노드를 방문하고 다시 시작 노드로 되돌아오는 최소 거리를 구하는 문제입니다."
   ]
  },
  {
   "attachments": {},
   "cell_type": "markdown",
   "metadata": {},
   "source": [
    "## 데이터"
   ]
  },
  {
   "attachments": {},
   "cell_type": "markdown",
   "metadata": {},
   "source": [
    "데이터: code/06. 유전 알고리즘/외판원순회문제.csv"
   ]
  },
  {
   "attachments": {},
   "cell_type": "markdown",
   "metadata": {},
   "source": [
    "| |S|A|B|C|D|E|F|G|H|I|J|\n",
    "|-|-|-|-|-|-|-|-|-|-|-|-|\n",
    "|S|0|14|17|23|21|18|17|3|25|15|22|\n",
    "|A|14|0|2|3|9|16|18|27|1|22|6|\n",
    "|B|17|2|0|6|20|10|15|23|5|28|10|\n",
    "|C|23|3|6|0|27|12|12|3|29|23|1|\n",
    "|D|21|9|20|27|0|15|5|19|22|29|11|\n",
    "|E|18|16|10|12|15|0|12|15|15|20|10|\n",
    "|F|17|18|15|12|5|12|0|14|24|9|8|\n",
    "|G|3|27|23|3|19|15|14|0|27|15|26|\n",
    "|H|25|1|5|29|22|15|24|27|0|9|24|\n",
    "|I|15|22|28|23|29|20|9|15|9|0|28|\n",
    "|J|22|6|10|1|11|10|8|26|24|28|0|"
   ]
  },
  {
   "attachments": {},
   "cell_type": "markdown",
   "metadata": {},
   "source": [
    "- 시작점: S\n",
    "- 지점: A ~ J\n",
    "- 한 지점에서 같은 지점으로 가는 거리는 0\n",
    "- 출발점부터 도착점까지거리는 도착점부터 출발점까지 거리와 같음\n",
    "- 따라서 여기서 사용하는 데이터는 대각 성분이 0인대칭 행렬임"
   ]
  },
  {
   "attachments": {},
   "cell_type": "markdown",
   "metadata": {},
   "source": [
    "데이터 불러오기"
   ]
  },
  {
   "cell_type": "code",
   "execution_count": 24,
   "metadata": {},
   "outputs": [
    {
     "data": {
      "text/html": [
       "<div>\n",
       "<style scoped>\n",
       "    .dataframe tbody tr th:only-of-type {\n",
       "        vertical-align: middle;\n",
       "    }\n",
       "\n",
       "    .dataframe tbody tr th {\n",
       "        vertical-align: top;\n",
       "    }\n",
       "\n",
       "    .dataframe thead th {\n",
       "        text-align: right;\n",
       "    }\n",
       "</style>\n",
       "<table border=\"1\" class=\"dataframe\">\n",
       "  <thead>\n",
       "    <tr style=\"text-align: right;\">\n",
       "      <th></th>\n",
       "      <th>S</th>\n",
       "      <th>A</th>\n",
       "      <th>B</th>\n",
       "      <th>C</th>\n",
       "      <th>D</th>\n",
       "      <th>E</th>\n",
       "      <th>F</th>\n",
       "      <th>G</th>\n",
       "      <th>H</th>\n",
       "      <th>I</th>\n",
       "      <th>J</th>\n",
       "    </tr>\n",
       "  </thead>\n",
       "  <tbody>\n",
       "    <tr>\n",
       "      <th>S</th>\n",
       "      <td>0</td>\n",
       "      <td>14</td>\n",
       "      <td>17</td>\n",
       "      <td>23</td>\n",
       "      <td>21</td>\n",
       "      <td>18</td>\n",
       "      <td>17</td>\n",
       "      <td>3</td>\n",
       "      <td>25</td>\n",
       "      <td>15</td>\n",
       "      <td>22</td>\n",
       "    </tr>\n",
       "    <tr>\n",
       "      <th>A</th>\n",
       "      <td>14</td>\n",
       "      <td>0</td>\n",
       "      <td>2</td>\n",
       "      <td>3</td>\n",
       "      <td>9</td>\n",
       "      <td>16</td>\n",
       "      <td>18</td>\n",
       "      <td>27</td>\n",
       "      <td>1</td>\n",
       "      <td>22</td>\n",
       "      <td>6</td>\n",
       "    </tr>\n",
       "    <tr>\n",
       "      <th>B</th>\n",
       "      <td>17</td>\n",
       "      <td>2</td>\n",
       "      <td>0</td>\n",
       "      <td>6</td>\n",
       "      <td>20</td>\n",
       "      <td>10</td>\n",
       "      <td>15</td>\n",
       "      <td>23</td>\n",
       "      <td>5</td>\n",
       "      <td>28</td>\n",
       "      <td>10</td>\n",
       "    </tr>\n",
       "    <tr>\n",
       "      <th>C</th>\n",
       "      <td>23</td>\n",
       "      <td>3</td>\n",
       "      <td>6</td>\n",
       "      <td>0</td>\n",
       "      <td>27</td>\n",
       "      <td>12</td>\n",
       "      <td>12</td>\n",
       "      <td>3</td>\n",
       "      <td>29</td>\n",
       "      <td>23</td>\n",
       "      <td>1</td>\n",
       "    </tr>\n",
       "    <tr>\n",
       "      <th>D</th>\n",
       "      <td>21</td>\n",
       "      <td>9</td>\n",
       "      <td>20</td>\n",
       "      <td>27</td>\n",
       "      <td>0</td>\n",
       "      <td>15</td>\n",
       "      <td>5</td>\n",
       "      <td>19</td>\n",
       "      <td>22</td>\n",
       "      <td>29</td>\n",
       "      <td>11</td>\n",
       "    </tr>\n",
       "    <tr>\n",
       "      <th>E</th>\n",
       "      <td>18</td>\n",
       "      <td>16</td>\n",
       "      <td>10</td>\n",
       "      <td>12</td>\n",
       "      <td>15</td>\n",
       "      <td>0</td>\n",
       "      <td>12</td>\n",
       "      <td>15</td>\n",
       "      <td>15</td>\n",
       "      <td>20</td>\n",
       "      <td>10</td>\n",
       "    </tr>\n",
       "    <tr>\n",
       "      <th>F</th>\n",
       "      <td>17</td>\n",
       "      <td>18</td>\n",
       "      <td>15</td>\n",
       "      <td>12</td>\n",
       "      <td>5</td>\n",
       "      <td>12</td>\n",
       "      <td>0</td>\n",
       "      <td>14</td>\n",
       "      <td>24</td>\n",
       "      <td>9</td>\n",
       "      <td>8</td>\n",
       "    </tr>\n",
       "    <tr>\n",
       "      <th>G</th>\n",
       "      <td>3</td>\n",
       "      <td>27</td>\n",
       "      <td>23</td>\n",
       "      <td>3</td>\n",
       "      <td>19</td>\n",
       "      <td>15</td>\n",
       "      <td>14</td>\n",
       "      <td>0</td>\n",
       "      <td>27</td>\n",
       "      <td>15</td>\n",
       "      <td>26</td>\n",
       "    </tr>\n",
       "    <tr>\n",
       "      <th>H</th>\n",
       "      <td>25</td>\n",
       "      <td>1</td>\n",
       "      <td>5</td>\n",
       "      <td>29</td>\n",
       "      <td>22</td>\n",
       "      <td>15</td>\n",
       "      <td>24</td>\n",
       "      <td>27</td>\n",
       "      <td>0</td>\n",
       "      <td>9</td>\n",
       "      <td>24</td>\n",
       "    </tr>\n",
       "    <tr>\n",
       "      <th>I</th>\n",
       "      <td>15</td>\n",
       "      <td>22</td>\n",
       "      <td>28</td>\n",
       "      <td>23</td>\n",
       "      <td>29</td>\n",
       "      <td>20</td>\n",
       "      <td>9</td>\n",
       "      <td>15</td>\n",
       "      <td>9</td>\n",
       "      <td>0</td>\n",
       "      <td>28</td>\n",
       "    </tr>\n",
       "    <tr>\n",
       "      <th>J</th>\n",
       "      <td>22</td>\n",
       "      <td>6</td>\n",
       "      <td>10</td>\n",
       "      <td>1</td>\n",
       "      <td>11</td>\n",
       "      <td>10</td>\n",
       "      <td>8</td>\n",
       "      <td>26</td>\n",
       "      <td>24</td>\n",
       "      <td>28</td>\n",
       "      <td>0</td>\n",
       "    </tr>\n",
       "  </tbody>\n",
       "</table>\n",
       "</div>"
      ],
      "text/plain": [
       "    S   A   B   C   D   E   F   G   H   I   J\n",
       "S   0  14  17  23  21  18  17   3  25  15  22\n",
       "A  14   0   2   3   9  16  18  27   1  22   6\n",
       "B  17   2   0   6  20  10  15  23   5  28  10\n",
       "C  23   3   6   0  27  12  12   3  29  23   1\n",
       "D  21   9  20  27   0  15   5  19  22  29  11\n",
       "E  18  16  10  12  15   0  12  15  15  20  10\n",
       "F  17  18  15  12   5  12   0  14  24   9   8\n",
       "G   3  27  23   3  19  15  14   0  27  15  26\n",
       "H  25   1   5  29  22  15  24  27   0   9  24\n",
       "I  15  22  28  23  29  20   9  15   9   0  28\n",
       "J  22   6  10   1  11  10   8  26  24  28   0"
      ]
     },
     "metadata": {},
     "output_type": "display_data"
    }
   ],
   "source": [
    "import pandas as pd\n",
    "data = pd.read_csv('./외판원순회문제.csv', index_col=0)\n",
    "display(data)"
   ]
  },
  {
   "attachments": {},
   "cell_type": "markdown",
   "metadata": {},
   "source": [
    "- 라인 2: 불러오고자 하는 데이터의 0번째 열이 인덱스로 사용돼야 하므로 index_col 인자를 0으로 설정했습니다. 이 인자는 인덱스로 사용할 컬럼을 설정합니다."
   ]
  },
  {
   "attachments": {},
   "cell_type": "markdown",
   "metadata": {},
   "source": [
    "## 거리 계산\n",
    "이 데이터에서 각 거리는 loc를 사용해 참조하겠습니다. 예를 들어, 경로 H> J> B의 거리는 H행 J열의 값과 J행 B열의 값을 더한 것으로 계산합니다."
   ]
  },
  {
   "attachments": {},
   "cell_type": "markdown",
   "metadata": {},
   "source": [
    "거리 계산 예제"
   ]
  },
  {
   "cell_type": "code",
   "execution_count": 65,
   "metadata": {},
   "outputs": [
    {
     "name": "stdout",
     "output_type": "stream",
     "text": [
      "34\n"
     ]
    }
   ],
   "source": [
    "print(data.loc[\"H\", \"J\"] + data.loc[\"J\", \"B\"])"
   ]
  },
  {
   "attachments": {},
   "cell_type": "markdown",
   "metadata": {},
   "source": [
    "# 2. 연산 정의"
   ]
  },
  {
   "attachments": {},
   "cell_type": "markdown",
   "metadata": {},
   "source": [
    "## 해 표현 및 초기 해 집단 생성\n",
    "유전 알고리즘의 해는 순열 인코딩을 사용해 표현하겠습니다."
   ]
  },
  {
   "attachments": {},
   "cell_type": "markdown",
   "metadata": {},
   "source": [
    "유전자 예시\n",
    "\n",
    "- 유전자 A\n",
    "\n",
    "|A|B|C|D|E|F|G|H|I|J|\n",
    "|-|-|-|-|-|-|-|-|-|-|\n",
    "\n",
    "- 유전자 B\n",
    "  \n",
    "|I|D|C|J|G|E|F|H|A|B|\n",
    "|-|-|-|-|-|-|-|-|-|-|"
   ]
  },
  {
   "attachments": {},
   "cell_type": "markdown",
   "metadata": {},
   "source": [
    "초기 해 생성"
   ]
  },
  {
   "cell_type": "code",
   "execution_count": 25,
   "metadata": {},
   "outputs": [],
   "source": [
    "import numpy as np\n",
    "def initalize(n, points):\n",
    "    X = [np.random.permutation(points) for _ in range(n)]\n",
    "    X = np.array(X)\n",
    "    return X"
   ]
  },
  {
   "attachments": {},
   "cell_type": "markdown",
   "metadata": {},
   "source": [
    "- 라인 3: points를 임의로 섞은 n개의 배열로 구성된 X를 생성합니다. 즉, X[i,j]는 i번째 해가 시작점을 제외하고 j번째에 방문할 지점입니다."
   ]
  },
  {
   "attachments": {},
   "cell_type": "markdown",
   "metadata": {},
   "source": [
    "## 적합도 함수\n",
    "적합도는 거리가 가까울수록 높은 적합도를 갖도록 거리의 역수를 사용하겠습니다."
   ]
  },
  {
   "attachments": {},
   "cell_type": "markdown",
   "metadata": {},
   "source": [
    "적합도 함수"
   ]
  },
  {
   "cell_type": "code",
   "execution_count": 26,
   "metadata": {},
   "outputs": [],
   "source": [
    "def fitness(data, x):\n",
    "    score = data.loc['S', x[0]]\n",
    "    for i in range(len(x)-1):\n",
    "        score += data.loc[x[i], x[i+1]]\n",
    "    score += data.loc[x[-1], 'S']\n",
    "    return 1/score"
   ]
  },
  {
   "attachments": {},
   "cell_type": "markdown",
   "metadata": {},
   "source": [
    "- 라인 2: \"S\"와 x[0]의 거리로 score를 초기화합니다.\n",
    "- 라인 3-4: 모든 i에 대해 x[i]와 x[i+1]의 거리를 score에 더합니다.\n",
    "- 라인 5: x의 마지막 요소와 \"S\"까지의 거리를 score에 더합니다."
   ]
  },
  {
   "attachments": {},
   "cell_type": "markdown",
   "metadata": {},
   "source": [
    "## 선택 연산자\n",
    "선택 연산자로는 룰렛 휠 방법을 사용하겠습니다."
   ]
  },
  {
   "attachments": {},
   "cell_type": "markdown",
   "metadata": {},
   "source": [
    "선택 연산자"
   ]
  },
  {
   "cell_type": "code",
   "execution_count": 27,
   "metadata": {},
   "outputs": [],
   "source": [
    "def selection(X, S, k):\n",
    "    selected_index = []\n",
    "    _S = S.copy()\n",
    "    for _ in range(k):\n",
    "        probs = _S / _S.sum()\n",
    "        x_idx = np.random.multinomial(1, probs).argmax()\n",
    "        selected_index.append(x_idx)\n",
    "        _S[x_idx] = 0\n",
    "    return X[selected_index]"
   ]
  },
  {
   "attachments": {},
   "cell_type": "markdown",
   "metadata": {},
   "source": [
    "## 교차 연산자\n",
    "교차 연산자로는 순서가 있는 교차 연산자를 사용하겠습니다."
   ]
  },
  {
   "attachments": {},
   "cell_type": "markdown",
   "metadata": {},
   "source": [
    "교차 연산자"
   ]
  },
  {
   "cell_type": "code",
   "execution_count": 28,
   "metadata": {},
   "outputs": [],
   "source": [
    "def crossover(x1, x2):\n",
    "    start_idx = np.random.choice(range(0, len(x1)))\n",
    "    end_idx = np.random.choice(range(start_idx + 1, len(x1) + 1))\n",
    "    new_x = np.empty(len(x1), dtype = object)\n",
    "    new_x[start_idx:end_idx] = x1[start_idx:end_idx]\n",
    "    new_x[~np.isin(x1, x1[start_idx:end_idx])] = x2[~np.isin(x2, x1[start_idx:end_idx])]\n",
    "    return new_x"
   ]
  },
  {
   "attachments": {},
   "cell_type": "markdown",
   "metadata": {},
   "source": [
    "- 라인 4: 새로운 해를 빈 배열로 초기화합니다. 이때, 모든 해가 A부터 J까지의 문자열로 구성되므로 dtype을 object로 설정합니다. 만약 dtype을 설정하지 않으면 float 자료형으로 인식되어 라인 5와 6에서 값을 변경할 때 오류가 발생합니다."
   ]
  },
  {
   "attachments": {},
   "cell_type": "markdown",
   "metadata": {},
   "source": [
    "## 돌연변이 연산자\n",
    "돌연변이 연산자로는 순서 변경 돌연변이 연산자를 사용하겠습니다."
   ]
  },
  {
   "attachments": {},
   "cell_type": "markdown",
   "metadata": {},
   "source": [
    "돌연변이 연산자"
   ]
  },
  {
   "cell_type": "code",
   "execution_count": 29,
   "metadata": {},
   "outputs": [],
   "source": [
    "def mutation(x):\n",
    "    a, b = np.random.choice(range(len(x)), 2, replace = False)\n",
    "    (x[b], x[a]) = (x[a], x[b])\n",
    "    return x"
   ]
  },
  {
   "attachments": {},
   "cell_type": "markdown",
   "metadata": {},
   "source": [
    "# 3. 메인 함수"
   ]
  },
  {
   "attachments": {},
   "cell_type": "markdown",
   "metadata": {},
   "source": [
    "## 메인 함수"
   ]
  },
  {
   "cell_type": "code",
   "execution_count": 66,
   "metadata": {},
   "outputs": [],
   "source": [
    "def main(n, data, points, k, q, num_generation):\n",
    "    best_score = -1\n",
    "    X = initalize(n, points) # 초기해 생성\n",
    "    for _ in range(num_generation):\n",
    "        # 해 평가\n",
    "        S = np.array([fitness(data, x) for x in X])\n",
    "        current_best_score = S.max()\n",
    "        current_best_x = X[S.argmax()]\n",
    "\n",
    "        # 최고 해 업데이트\n",
    "        if current_best_score > best_score:\n",
    "            best_score = current_best_score\n",
    "            best_x = current_best_x\n",
    "\n",
    "        # k개 해 선택\n",
    "        X_new = selection(X, S, k)\n",
    "\n",
    "        # 교배 및 돌연변이 연산\n",
    "        children = []\n",
    "        for _ in range(n-k):\n",
    "            parent_idx = np.random.choice(range(k), 2, replace = False)\n",
    "            child = crossover(X_new[parent_idx[0]], X_new[parent_idx[1]])\n",
    "            if np.random.random() < q:\n",
    "                child = mutation(child)\n",
    "            X_new = np.vstack([X_new, child])\n",
    "        X = X_new\n",
    "    return best_x, best_score"
   ]
  },
  {
   "attachments": {},
   "cell_type": "markdown",
   "metadata": {},
   "source": [
    "- 라인 1: 세대당 해의 개수 n, 거리 행렬 data, 선택할 해의 개수 k, 돌연변이 확률 q, 세대 수 num_generation을 입력으로 받습니다."
   ]
  },
  {
   "attachments": {},
   "cell_type": "markdown",
   "metadata": {},
   "source": [
    "## 외판원 순회 문제 해결"
   ]
  },
  {
   "attachments": {},
   "cell_type": "markdown",
   "metadata": {},
   "source": [
    "유전 알고리즘의 하이퍼 파라미터 설정"
   ]
  },
  {
   "cell_type": "code",
   "execution_count": 31,
   "metadata": {},
   "outputs": [],
   "source": [
    "n = 100\n",
    "num_generation = 100\n",
    "points = data.columns[1:]\n",
    "k = 60\n",
    "q = 0.05"
   ]
  },
  {
   "attachments": {},
   "cell_type": "markdown",
   "metadata": {},
   "source": [
    "- 라인 1-2: n을 100으로, num_generation을 100으로 설정함으로써 최대 1만 개의 해를 탐색합니다.\n",
    "- 라인 3: data.columns의 0번째 요소는 S이므로 1번째 요소부터 슬라이싱합니다."
   ]
  },
  {
   "attachments": {},
   "cell_type": "markdown",
   "metadata": {},
   "source": [
    "해 탐색"
   ]
  },
  {
   "cell_type": "code",
   "execution_count": 67,
   "metadata": {},
   "outputs": [
    {
     "name": "stdout",
     "output_type": "stream",
     "text": [
      "['I' 'H' 'A' 'C' 'J' 'B' 'E' 'D' 'F' 'G'] 86.0\n"
     ]
    }
   ],
   "source": [
    "GA_best_x, GA_best_score = main(n, data, points, k, q, num_generation)\n",
    "print(GA_best_x, 1/GA_best_score)"
   ]
  },
  {
   "attachments": {},
   "cell_type": "markdown",
   "metadata": {},
   "source": [
    "## 랜덤 서치와 비교\n",
    "임의로 해를 만드는 함수인 initailize와 해를 평가하는 fitness 함수가 있으니, 이 두 함수를 활용해서 랜덤 서치를 구현하겠습니다."
   ]
  },
  {
   "attachments": {},
   "cell_type": "markdown",
   "metadata": {},
   "source": [
    "랜덤 서치 구현"
   ]
  },
  {
   "cell_type": "code",
   "execution_count": 68,
   "metadata": {},
   "outputs": [
    {
     "name": "stdout",
     "output_type": "stream",
     "text": [
      "['J' 'C' 'B' 'A' 'H' 'I' 'F' 'D' 'E' 'G'] 88.0\n"
     ]
    }
   ],
   "source": [
    "# 랜덤 서치\n",
    "RS_best_score = -1\n",
    "for x in initalize(10000, data.columns[1:]):\n",
    "    score = fitness(data, x)\n",
    "    if score > RS_best_score:\n",
    "        RS_best_score = score\n",
    "        RS_best_x = x\n",
    "\n",
    "print(RS_best_x, 1/RS_best_score)"
   ]
  },
  {
   "attachments": {},
   "cell_type": "markdown",
   "metadata": {},
   "source": [
    "- 유전 알고리즘을 사용해 찾은 해보다 좋지 않은 해를 찾았음\n",
    "- 그러나 유전 알고리즘과 랜덤 서치 모두 임의성이 강하므로 실행할 때마다 결과에 차이가 있을 수 있음"
   ]
  }
 ],
 "metadata": {
  "kernelspec": {
   "display_name": "Python 3",
   "language": "python",
   "name": "python3"
  },
  "language_info": {
   "codemirror_mode": {
    "name": "ipython",
    "version": 3
   },
   "file_extension": ".py",
   "mimetype": "text/x-python",
   "name": "python",
   "nbconvert_exporter": "python",
   "pygments_lexer": "ipython3",
   "version": "3.8.6"
  },
  "orig_nbformat": 4,
  "vscode": {
   "interpreter": {
    "hash": "107109ef1f3d2c1d8ef2422d7f3c7553b0305ed5b701a76fbc5bdcb10e21ee2d"
   }
  }
 },
 "nbformat": 4,
 "nbformat_minor": 2
}
