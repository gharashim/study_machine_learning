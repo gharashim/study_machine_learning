{
 "cells": [
  {
   "attachments": {},
   "cell_type": "markdown",
   "metadata": {},
   "source": [
    "# 2. 유전자 표현 방법\n",
    "## 이진 인코딩\n",
    "이진 인코딩(binary encoding)은 가장 널리 사용되는 해 표현 방법으로, 모든 해를 0과 1, 혹은 False와 True로 구성된 이진 벡터로 표현합니다.\n",
    "\n",
    "- 이진 벡터는 교배 연산과 돌연변이 연산을 적용하기에 좋은 구조임\n",
    "- 그러나 표현할 수 있는 범위가 한정적이라는 단점이 있음\n",
    "- 이진 인코딩은 특징 선택을 비롯한 조합 최적화(combinational optimization) 문제의 해를 표현하는 데 주로 활용함"
   ]
  },
  {
   "attachments": {},
   "cell_type": "markdown",
   "metadata": {},
   "source": [
    "## 이진 인코딩 구현\n",
    "이진 인코딩(binary encoding)은 가장 널리 사용되는 해 표현 방법으로, 모든 해를 0과 1, 혹은 False와 True로 구성된 이진 벡터로 표현합니다."
   ]
  },
  {
   "cell_type": "code",
   "execution_count": 1,
   "metadata": {},
   "outputs": [],
   "source": [
    "import numpy as np\n",
    "def binary_init(n, m, bool_type=False):\n",
    "    X = np.random.choice([0,1],(n,m))\n",
    "    if bool_type:\n",
    "        X = X.astype(bool)\n",
    "    return X"
   ]
  },
  {
   "attachments": {},
   "cell_type": "markdown",
   "metadata": {},
   "source": [
    "- 라인 2: 해 개수(n), 해의 길이(m), 불을 반활할지(bool_type)를 입력받아 이진 인코딩 구조의 초기 해를 생성하는 binary_init 함수를 작성합니다.\n",
    "- 라인 3: np.random.choice를 이용해 0과 1 가운데 하나를 임의로 골라 (n,m) 크기의 배열을 만듭니다.\n",
    "- 라인 4-5: bool_type이 True라면 astype 메서드를 사용해 X의 데이터 타입을 bool로 변환합니다."
   ]
  },
  {
   "cell_type": "code",
   "execution_count": 2,
   "metadata": {},
   "outputs": [
    {
     "data": {
      "text/plain": [
       "array([[1, 0, 1],\n",
       "       [0, 1, 0],\n",
       "       [1, 0, 0],\n",
       "       [1, 1, 0],\n",
       "       [1, 0, 0]])"
      ]
     },
     "metadata": {},
     "output_type": "display_data"
    },
    {
     "data": {
      "text/plain": [
       "array([[ True, False,  True],\n",
       "       [ True, False,  True],\n",
       "       [False,  True,  True],\n",
       "       [ True, False,  True],\n",
       "       [ True, False,  True]])"
      ]
     },
     "metadata": {},
     "output_type": "display_data"
    }
   ],
   "source": [
    "n = 5\n",
    "m = 3\n",
    "display(binary_init(n,m,bool_type=False))\n",
    "display(binary_init(n,m,bool_type=True))"
   ]
  },
  {
   "attachments": {},
   "cell_type": "markdown",
   "metadata": {},
   "source": [
    "## 순열 인코딩\n",
    "순열 인코딩(permutation encoding)은 외판원 순회 문제와 같이 순서를 결정하는 문제에 주로 사용하는 해 표현 방법으로 각 해가 순서를 나타냅니다.\n",
    "- 순서를 나타내므로 요소 간 중복이 없음\n",
    "- 교차 연산과 변이 연산 등을 했을 때 실행 가능하지 않은 해가 만들어질 위험이 있음"
   ]
  },
  {
   "cell_type": "code",
   "execution_count": 3,
   "metadata": {},
   "outputs": [],
   "source": [
    "def permutation_init(n,m):\n",
    "    X = [np.random.permutation(m) for _ in range(n)]\n",
    "    X = np.array(X)\n",
    "    return X"
   ]
  },
  {
   "attachments": {},
   "cell_type": "markdown",
   "metadata": {},
   "source": [
    "- 라인 2: np.random.permutaion을 사용해 [0,1,2 ... ,m-1]을 임의로 정렬한 배열 n개를 만들어 X에 리스트로 저장 합니다. 즉, X[i]는 임의로 정렬된 i번째 순열 입니다.\n",
    "- 라인 3: 리스트를 ndarray로 변환합니다."
   ]
  },
  {
   "cell_type": "code",
   "execution_count": 4,
   "metadata": {},
   "outputs": [
    {
     "data": {
      "text/plain": [
       "array([[3, 2, 0, 4, 1],\n",
       "       [0, 3, 1, 4, 2]])"
      ]
     },
     "execution_count": 4,
     "metadata": {},
     "output_type": "execute_result"
    }
   ],
   "source": [
    "n = 2\n",
    "m = 5\n",
    "permutation_init(n,m)"
   ]
  },
  {
   "attachments": {},
   "cell_type": "markdown",
   "metadata": {},
   "source": [
    "## 값 인코딩\n",
    "값 인코딩(value encoding)은 해를 실수 벡터 형태로 표현하는 방법으로, 해의 범위나 해가 따르는 확률 분포 등을 활용하여 해를 생성합니다.\n",
    "- 유전 알고리즘으로 신경망을 비롯한 머신러닝 모델의 가중치를 추정하는 데 사용하는 해 표현 방식이기도 함\n",
    "- 이 표현 방법은 거의 모든 종류의 해를 표현할 수 있음\n",
    "- 교차 및 돌연변이 연산을 정의하기 어려움"
   ]
  },
  {
   "attachments": {},
   "cell_type": "markdown",
   "metadata": {},
   "source": [
    "# 3. 적합도와 선택 연산\n",
    "## 적합도\n",
    "적합도란 각 해가 얼마나 문제의 답으로 적합한지를 평가하기 위한 함수로, 목적 함수를 사용하는 것이 일반적입니다."
   ]
  },
  {
   "attachments": {},
   "cell_type": "markdown",
   "metadata": {},
   "source": [
    "## np.apply_along_axis 함수\n",
    "apply_along_axis는 이름 그대로 ndarray의 축에 따라 일괄적으로 함수를 적용하며, 판다스의 apply와 유사합니다."
   ]
  },
  {
   "attachments": {},
   "cell_type": "markdown",
   "metadata": {},
   "source": [
    "주요인자\n",
    "- func1d\n",
    "    - ndarray의 각 요소에 일괄적으로 적용할 함수로, 이 함수의 입력은 1차원 배열입니다.\n",
    "- axis\n",
    "    - 함수를 적용할 축을 의미합니다.\n",
    "- arr\n",
    "    - 함수를 적용할 배열입니다."
   ]
  },
  {
   "attachments": {},
   "cell_type": "markdown",
   "metadata": {},
   "source": [
    "일반적으로 1차원 ndarray로해를 정의하고 2차원 ndarray로해집합을 정의하므로, np.apply_along_axis를 이용해 각 해의 적합도를 평가합니다."
   ]
  },
  {
   "attachments": {},
   "cell_type": "markdown",
   "metadata": {},
   "source": [
    "적합도 함수 예시"
   ]
  },
  {
   "cell_type": "code",
   "execution_count": 5,
   "metadata": {},
   "outputs": [],
   "source": [
    "def fitness(x):\n",
    "    return sum(x*np.array([10,1,2,5]))+3"
   ]
  },
  {
   "attachments": {},
   "cell_type": "markdown",
   "metadata": {},
   "source": [
    "크기가 4인 이진 벡터 X와 (10,1,2,5)의 내적에 3을 더한 값이 적합도 입니다."
   ]
  },
  {
   "cell_type": "code",
   "execution_count": 6,
   "metadata": {},
   "outputs": [
    {
     "data": {
      "text/plain": [
       "array([16, 15, 18, 20,  4])"
      ]
     },
     "metadata": {},
     "output_type": "display_data"
    }
   ],
   "source": [
    "X = binary_init(5,4,bool_type=False)\n",
    "S = np.apply_along_axis(fitness, 1, X)\n",
    "display(S)"
   ]
  },
  {
   "attachments": {},
   "cell_type": "markdown",
   "metadata": {},
   "source": [
    "- 라인 2: 각 행에 함수를 적용하기 위해 axis를 1로 설정했습니다. axis는 계산 방향으로 설정하는 인자로, axis=0은 행 방향(위에서 아래 방향↓)으로 계산하고, axis=1은 열 방향(왼쪽에서 오른쪽 →)으로 계산합니다."
   ]
  },
  {
   "attachments": {},
   "cell_type": "markdown",
   "metadata": {},
   "source": [
    "## axis 인자에 대한 이해\n",
    "axis 인자는 apply_along_axis 함수뿐만 아니라 넘파이와 판다스의 다양한 함수에서 사용되므로 반드시 그 내용을 이해하고 넘어가야 합니다.\n",
    "\n",
    "- axis = 1은 열 방향(왼쪽에서 오른쪽)으로 계산함을 나타냄\n",
    "- axis = 0은 행 방향(위에서 아래 방향)으로 계산한다는 것을 나타냄\n",
    "- 연산 결과가 1차원이라면 axis 값과 배열 방향이 같음.\n",
    "즉, axis = 0이면 행벡터 꼴의 결과가 나오며 axis = 1이면 열벡터 꼴의 결과가 나옵니다."
   ]
  },
  {
   "attachments": {},
   "cell_type": "markdown",
   "metadata": {},
   "source": [
    "## 룰렛 휠 선택\n",
    "룰렛 휠(roulette wheel) 선택은 각 해를 적합도 에 비례하여 확률적으로 선택합니다.\n",
    "\n",
    "단, 같은 해가 중복해서 선택되는 것을 방지하기 위해 이미 선택된 해는 후보에서 제외함"
   ]
  },
  {
   "attachments": {},
   "cell_type": "markdown",
   "metadata": {},
   "source": [
    "## 다항 분포\n",
    "다항 분포는 이산형 확률 분포로, n번의 독립 시행에서 k번째 값이 m(≤n)번 나올 확률을 정의합니다.\n",
    "\n",
    "### np.random.multinominal 함수\n",
    "- np.random.multinomial(n, probs)는 각 값이 선택될 확률이 probs일 때 n개의 값을 선택한 결과를 반환함\n",
    "- np.random.multinomial(1, probs)과 argmax를 이용하면 하나의 값을 확률적으로 샘플링할 수 있음"
   ]
  },
  {
   "cell_type": "code",
   "execution_count": 7,
   "metadata": {},
   "outputs": [
    {
     "data": {
      "text/plain": [
       "2"
      ]
     },
     "execution_count": 7,
     "metadata": {},
     "output_type": "execute_result"
    }
   ],
   "source": [
    "result1 = np.random.multinomial(5, [0.2, 0.3, 0.5]) # [1, 1, 3]\n",
    "result2 = np.random.multinomial(1, [0.2, 0.3, 0.5]) # [0, 0, 1] \n",
    "np.argmax(result2) # 2"
   ]
  },
  {
   "attachments": {},
   "cell_type": "markdown",
   "metadata": {},
   "source": [
    "## 룰렛 휠 선택 구현\n",
    "룰렛 휠 선택은 각 해를 적합도에 비례하여 확률적으로 선택합니다."
   ]
  },
  {
   "cell_type": "code",
   "execution_count": 58,
   "metadata": {},
   "outputs": [],
   "source": [
    "def roulette_wheel(X, S, k):\n",
    "    selected_index = []\n",
    "    _S = S.copy()\n",
    "    for _ in range(k): # k개 해를 얻기 위해 k번 반복한다.\n",
    "        probs = _S / _S.sum() # probs는 룰렛 휠 선택을 위한 확률들의 list / _S로 list인 점을 참고!\n",
    "        x_idx = np.random.multinomial(1, probs).argmax() # probs에 기반하여 각 사건 중 1개를 고를 경우의 수 / 그중 최대값의 index를 구함 = argmax()\n",
    "        selected_index.append(x_idx)\n",
    "        _S[x_idx] = 0\n",
    "    return X[selected_index]"
   ]
  },
  {
   "attachments": {},
   "cell_type": "markdown",
   "metadata": {},
   "source": [
    "- 라인 1: 해 집단 X, 적합도 점수 목록 S, 선택할 해의 개수 k를 입력받는 함수 roulette_wheel을 작성합니다.\n",
    "- 라인 2: 선택된 인덱스 목록 selected_index를 빈 리스트로 초기화합니다. 이 리스트는 라인 9에서 X의 인덱스로 사용합니다.\n",
    "- 라인 3: S의 요소가 바뀌는 것을 방지하기 위해 copy 메서드를 이용해 S를 복사해서 _S에 저장합니다.\n",
    "-라인 5: 점수 목록 _S를 _S의 합으로 나눠 각 해가 선택할 확률 probs를 계산합니다.\n",
    "- 라인 6: probs를 파라미터로 하는 다항 분포로부터 하나의 해를 샘플링하고 argmax를 사용해 가증 큰 값인 1의 인덱스를 x_idx에 저장합니다. 즉, x_idx는 선택된 값의 인덱스라고 할 수 있습니다.\n",
    "- 라인 7: x_idx를 selected_index에 추가합니다.\n",
    "- 라인 8: 인덱스가 x_idx인 요소가 다시 선택되지 않도록 해당 해의 적합도 점수를 0으로 바꿉니다."
   ]
  },
  {
   "cell_type": "code",
   "execution_count": 59,
   "metadata": {},
   "outputs": [
    {
     "data": {
      "text/plain": [
       "array([[1, 0, 0, 1],\n",
       "       [1, 0, 1, 1],\n",
       "       [1, 1, 1, 0]])"
      ]
     },
     "metadata": {},
     "output_type": "display_data"
    }
   ],
   "source": [
    "selected_X = roulette_wheel(X, S, 3)\n",
    "display(selected_X)"
   ]
  },
  {
   "attachments": {},
   "cell_type": "markdown",
   "metadata": {},
   "source": [
    "## 순위 선택\n",
    "순위 선택 방법은 적합도 점수를 기준으로 매긴 순위를 바탕으로 룰렛 휠 선택을 적용합니다. 즉, 적합도가 가장 큰 해가 n점을, 가장 낮은 해가 1점을 갖도록 점수를 순위로 변환하여 룰렛 휠 선택을 적용합니다.\n",
    "- 단, 같은 해가 중복해서 선택되는 것을 방지하기 위해 이미 선택된 해는 후보에서 제외함"
   ]
  },
  {
   "attachments": {},
   "cell_type": "markdown",
   "metadata": {},
   "source": [
    "룰렛 휠 선택의 단점 해결\n",
    " - 적합도에 비례해서 해를 선택하기에 적합도가 양수여야 함\n",
    " - 하나의 적합도가 다른 적합도보다 훨씬 크다면 다른 해가 선택될 가능성이 거의 없음"
   ]
  },
  {
   "attachments": {},
   "cell_type": "markdown",
   "metadata": {},
   "source": [
    "## 순위 선택 구현\n",
    "순위 선택 방법은 적합도 점수를 기준으로 매긴 순위를 바탕으로 룰렛 휠 선택을 적용합니다. 즉, 적합도가 가장 큰 해가 n점을, 가장 낮은 해가 1점을 갖도록 점수를 순위로 변환하여 룰렛 휠 선택을 적용합니다."
   ]
  },
  {
   "cell_type": "code",
   "execution_count": 62,
   "metadata": {},
   "outputs": [],
   "source": [
    "from scipy.stats import rankdata\n",
    "def rank_selection(X, S, k):\n",
    "    rank = rankdata(S)\n",
    "    return roulette_wheel(X, rank, k)"
   ]
  },
  {
   "attachments": {},
   "cell_type": "markdown",
   "metadata": {},
   "source": [
    "- 라인 3: scipy.stats.rankdata 함수를 활용해서 S의 순위를 계산합니다.\n",
    "- 라인 4: 이전에 작성한 roulette_wheel 함수를 rank에적용합니다"
   ]
  },
  {
   "cell_type": "code",
   "execution_count": 63,
   "metadata": {},
   "outputs": [
    {
     "data": {
      "text/plain": [
       "array([[1, 0, 0, 1],\n",
       "       [1, 1, 1, 0],\n",
       "       [0, 1, 0, 0]])"
      ]
     },
     "metadata": {},
     "output_type": "display_data"
    }
   ],
   "source": [
    "display(rank_selection(X, S, 3))"
   ]
  },
  {
   "attachments": {},
   "cell_type": "markdown",
   "metadata": {},
   "source": [
    "## 엘리트 주의\n",
    "엘리트주의(elitism)란 가장 좋은 𝑘개의 해가 선택되지 않는 것을 방지하기 위해 일부 해를 결정론적으로 선택합니다. 다시 말해, 적합도 점수가 높은 상\n",
    "위 𝑘≤𝑛개의 해를 고른 다음, 나머지 해는 룰렛 휠이나 순위 선택 등을 통해 선택합니다."
   ]
  },
  {
   "cell_type": "code",
   "execution_count": 64,
   "metadata": {},
   "outputs": [],
   "source": [
    "def elitism(X, S, k1, k2):\n",
    "    elite_index = (-S).argsort()[:k1]\n",
    "    not_elite_index = (-S).argsort()[k1:]\n",
    "    selected_X1 = X[elite_index]\n",
    "    selected_X2 = roulette_wheel(X[not_elite_index], S[not_elite_index],k2)\n",
    "    selected_X = np.vstack([selected_X1, selected_X2])\n",
    "    return selected_X"
   ]
  },
  {
   "attachments": {},
   "cell_type": "markdown",
   "metadata": {},
   "source": [
    "- 라인 1: 엘리트주의를이용해 선택할 해의 개수 k1과다른 방법을 이용해 선택할 해의 개수 k2를입력\n",
    "합니다. \n",
    "- 라인 2: argsort를이용해 값이 큰상위 k1 개의 인덱스를 elite_index에저장합니다. argsort는한 배\n",
    "열에서 값이 작은 인덱스를 먼저 배치하므로(-S)를 사용해 값이 큰 인덱스를 먼저 배치했습니다.\n",
    "- 라인 4: elite_index를사용해 상위 k1 개의 해를 selected_X1에저장합니다.\n",
    "- 라인 5: roulette_wheel 함수를 사용해 선택되지 않은 X[not_elite_index]에서 k2 개의 해를 선택해\n",
    "selected_X2에저장합니다.\n",
    "- 라인 6~7: np.vstack을 이용해 elected_X1과 selected_X2를 행방향으로 합한 selected_X를 반환합니다."
   ]
  },
  {
   "cell_type": "code",
   "execution_count": 65,
   "metadata": {},
   "outputs": [
    {
     "data": {
      "text/plain": [
       "array([[1, 0, 1, 1],\n",
       "       [1, 0, 0, 1],\n",
       "       [1, 0, 1, 0]])"
      ]
     },
     "metadata": {},
     "output_type": "display_data"
    }
   ],
   "source": [
    "display(elitism(X, S, 2, 1))"
   ]
  },
  {
   "attachments": {},
   "cell_type": "markdown",
   "metadata": {},
   "source": [
    "- 엘리트주의로 2개의 해를, 그 외 방법으로 1개의 해를 선택합니다."
   ]
  },
  {
   "attachments": {},
   "cell_type": "markdown",
   "metadata": {},
   "source": [
    "# 4. 교차 연산과 돌연변이 연산\n",
    "## 이진인코딩에대한교차 연산자\n",
    "이진 인코딩에 대한 교차 연산자는 임의로 선택한 교차점을 바탕으로 두 유전자를 섞습니다.\n",
    "- 교차점을 임의로 생성하고 교차점을 기준으로 부모 유전자를 섞음\n",
    "- 한 점 교차 연산은 교차점을 하나만 만들므로 상대적으로 단순하게 섞임\n",
    "- 유니폼 교차 연산은 셋 이상의 교차점을 만들므로 복잡하게 섞임\n",
    "- 즉, 한 점 교차 연산은 부모와 아주 비슷한 자식을 만들지만, 유니폼 교차 연산은 상대적으로 덜 비슷한 자식을 만듦"
   ]
  },
  {
   "attachments": {},
   "cell_type": "markdown",
   "metadata": {},
   "source": [
    "## 이진 인코딩에 대한 교차 연산자 구현\n",
    "교차점의 개수를 입력받는 일반화된 연산자를 구현"
   ]
  },
  {
   "cell_type": "code",
   "execution_count": 66,
   "metadata": {},
   "outputs": [],
   "source": [
    "def binary_crossover(X1, X2, num_points):\n",
    "    point_idx_list = np.random.choice(range(1,len(X1)), num_points, replace=False)\n",
    "    point_idx_list = np.insert(point_idx_list, 0, 0)\n",
    "    point_idx_list = np.insert(point_idx_list, num_points, len(X1))\n",
    "    point_idx_list.sort()\n",
    "    new_X = np.array([])\n",
    "    parent_idx = 0\n",
    "    for start_idx, end_idx in zip(point_idx_list[:-1], point_idx_lsit[1:]):\n",
    "        if parent_idx == 0:\n",
    "            new_X = np.hstack([new_X, X1[start_idx:end_idx]])\n",
    "        else:\n",
    "            new_X = np.hstack([new_X, X2[start_idx:end_idx]])\n",
    "        parent_idx = 1 - parent_idx\n",
    "    return new_X.astype(int)"
   ]
  },
  {
   "attachments": {},
   "cell_type": "markdown",
   "metadata": {},
   "source": [
    "- 라인 1: num_points개의 교차점을 기준으로 부모 해 X1과 X2를 섞는 binary_crossover를 정의합니다.\n",
    "- 라인 2: 1부터 len(X1) 사이의 값 가운데 중복을 허락하지 않고 num_points 개만큼의 수를 뽑아 point_idx_list에 저장합니다.\n",
    "- 라인 3-4: np.insert를 사용해 point_idx_list의 맨 앞에 0을, 맨 뒤에 len(X1)을 추가합니다.\n",
    "- 라인 5: sort 메서드를 이용해 교차점을 오름차순으로 정렬합니다.\n",
    "- 라인 6-7: 교차 연산을 통해 만들어지는 새로운 해 new_X를 빈 배열로, 선택할 부모의 인덱스 parent_idx를 0으로 초기화 합니다.\n",
    "- 라인 8: zip 함수를 사용해 start_idx는 point_idx_list[:-1]을, end_idx는point_idx_list[i+1]을순회합니다. \n",
    "- 라인 9-12: parent_idx에 따라 X1과 X2를 선택하고 선택한 해의 start_idx부터 end_idx까지 슬라이싱 한 배열을 new_X에 추가합니다.\n",
    "- 라인 13: 1 – parent_idx를 사용해 parent_idx가 0이면 1로, 1이면 0으로 변환 합니다.\n",
    "- 라인 14: 연산 과정에서 자료형이 float으로 변환되므로 astype을 사용해 다시 자료형을 int로 바꿔줍니다"
   ]
  }
 ],
 "metadata": {
  "kernelspec": {
   "display_name": "Python 3",
   "language": "python",
   "name": "python3"
  },
  "language_info": {
   "codemirror_mode": {
    "name": "ipython",
    "version": 3
   },
   "file_extension": ".py",
   "mimetype": "text/x-python",
   "name": "python",
   "nbconvert_exporter": "python",
   "pygments_lexer": "ipython3",
   "version": "3.8.6"
  },
  "orig_nbformat": 4,
  "vscode": {
   "interpreter": {
    "hash": "107109ef1f3d2c1d8ef2422d7f3c7553b0305ed5b701a76fbc5bdcb10e21ee2d"
   }
  }
 },
 "nbformat": 4,
 "nbformat_minor": 2
}
