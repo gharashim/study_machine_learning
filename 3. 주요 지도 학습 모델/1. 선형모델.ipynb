{
 "cells": [
  {
   "attachments": {},
   "cell_type": "markdown",
   "metadata": {},
   "source": [
    "# 2. 선형회귀 2 사이킷런 실습\n",
    "## 예제 데이터 불러오기"
   ]
  },
  {
   "cell_type": "code",
   "execution_count": 19,
   "metadata": {},
   "outputs": [],
   "source": [
    "import pandas as pd\n",
    "from sklearn.model_selection import train_test_split\n",
    "\n",
    "df = pd.read_csv('../../data/regression/compactiv.csv')\n",
    "X = df.drop('y', axis=1)\n",
    "y = df['y']\n",
    "X_train, X_test, y_train, y_test = train_test_split(X, y, random_state=2022)"
   ]
  },
  {
   "attachments": {},
   "cell_type": "markdown",
   "metadata": {},
   "source": [
    "## 모델 학습\n",
    "선형 회귀 모델은 사이킷런의 linear_model 모듈로 구현할 수 있으며, 이 모듈에는 LinearRegression, Ridge, Lasso, ElasticNet 이라는 클래스가 있습니다."
   ]
  },
  {
   "cell_type": "code",
   "execution_count": 20,
   "metadata": {},
   "outputs": [],
   "source": [
    "# 선형 회귀 모델 학습 예제\n",
    "from sklearn.linear_model import *\n",
    "LR = LinearRegression().fit(X_train, y_train)\n",
    "ridge = Ridge().fit(X_train, y_train)\n",
    "lasso = Lasso().fit(X_train, y_train)\n",
    "EN = ElasticNet().fit(X_train, y_train)"
   ]
  },
  {
   "attachments": {},
   "cell_type": "markdown",
   "metadata": {},
   "source": [
    "## 모델 평가\n",
    "회귀 모델을 같은 방법으로 반복해서 평가해야 하므로 regression_model_test 라는 함수를 만들어 모델을 평가하겠습니다."
   ]
  },
  {
   "cell_type": "code",
   "execution_count": 21,
   "metadata": {},
   "outputs": [],
   "source": [
    "# 선형 회귀 모델 평가 예제\n",
    "from sklearn.metrics import mean_absolute_error as MAE\n",
    "\n",
    "def regression_model_test(model, X_test, y_test):\n",
    "    y_pred = model.predict(X_test)\n",
    "    mae = MAE(y_test, y_pred)\n",
    "    return mae"
   ]
  },
  {
   "cell_type": "code",
   "execution_count": 22,
   "metadata": {},
   "outputs": [
    {
     "name": "stdout",
     "output_type": "stream",
     "text": [
      "6.046877193178113 6.046866381628065 6.0995197553503235 6.074987094435656\n"
     ]
    }
   ],
   "source": [
    "LR_mae = regression_model_test(LR, X_test, y_test)\n",
    "ridge_mae = regression_model_test(ridge, X_test, y_test)\n",
    "lasso_mae = regression_model_test(lasso, X_test, y_test)\n",
    "EN_mae = regression_model_test(EN, X_test, y_test)\n",
    "print(LR_mae, ridge_mae, lasso_mae, EN_mae)"
   ]
  },
  {
   "attachments": {},
   "cell_type": "markdown",
   "metadata": {},
   "source": [
    "## 복잡도 하이퍼 파라미터 튜닝\n",
    "Ridge와 Lasso 클래스는 모두 alpha라는 인자가 있는데, 이 인자는 손실 함수에서 계수 패널티에 대한 가중치를 나타냅니다."
   ]
  },
  {
   "cell_type": "code",
   "execution_count": 23,
   "metadata": {},
   "outputs": [
    {
     "name": "stdout",
     "output_type": "stream",
     "text": [
      "6.044036480564693 6.0995197553503235 6.2038739785793755\n"
     ]
    }
   ],
   "source": [
    "# alpha에 따른 성능 측정 예시\n",
    "Lasso1 = Lasso(alpha=0.1, random_state=2022).fit(X_train, y_train)\n",
    "Lasso2 = Lasso(alpha=1, random_state=2022).fit(X_train, y_train)\n",
    "Lasso3 = Lasso(alpha=10, random_state=2022).fit(X_train, y_train)\n",
    "\n",
    "Lasso1_mae = regression_model_test(Lasso1, X_test, y_test)\n",
    "Lasso2_mae = regression_model_test(Lasso2, X_test, y_test)\n",
    "Lasso3_mae = regression_model_test(Lasso3, X_test, y_test)\n",
    "\n",
    "print(Lasso1_mae, Lasso2_mae, Lasso3_mae)"
   ]
  },
  {
   "attachments": {},
   "cell_type": "markdown",
   "metadata": {},
   "source": [
    "- Lasso1_mae < Lasso2_mae < Lasso3_mae\n",
    "- 즉, alpha가 작을수록 더 좋은 성능이 나옴"
   ]
  },
  {
   "attachments": {},
   "cell_type": "markdown",
   "metadata": {},
   "source": [
    "alpha를 0.05와 5로 각각 설정해 추가로 평가해보겠습니다"
   ]
  },
  {
   "cell_type": "code",
   "execution_count": 24,
   "metadata": {},
   "outputs": [
    {
     "name": "stdout",
     "output_type": "stream",
     "text": [
      "6.045073780285436 6.181454840096413\n"
     ]
    }
   ],
   "source": [
    "# alpha에 따른 성능 측정 예시\n",
    "Lasso4 = Lasso(alpha=0.05, random_state=2022).fit(X_train, y_train)\n",
    "Lasso5 = Lasso(alpha=5, random_state=2022).fit(X_train, y_train)\n",
    "\n",
    "Lasso4_mae = regression_model_test(Lasso4, X_test, y_test)\n",
    "Lasso5_mae = regression_model_test(Lasso5, X_test, y_test)\n",
    "\n",
    "print(Lasso4_mae, Lasso5_mae)"
   ]
  },
  {
   "attachments": {},
   "cell_type": "markdown",
   "metadata": {},
   "source": [
    "alpha가 0.05일 때보다 0.1일 때의 성능이 더 좋으며, 1일 때보다 5일 때 성능이 더 좋지 않습니다. 5개의 alpha를 평가한 결과를 통해, 시드가 2022로 고정됐을 때 한해 최적의 alpha는 0.05와 1 사이에 있다고 할 수 있습니다."
   ]
  },
  {
   "cell_type": "code",
   "execution_count": 25,
   "metadata": {},
   "outputs": [
    {
     "data": {
      "text/plain": [
       "<matplotlib.collections.PathCollection at 0x26ad55e2160>"
      ]
     },
     "execution_count": 25,
     "metadata": {},
     "output_type": "execute_result"
    },
    {
     "data": {
      "image/png": "[encoded data removed]",
      "text/plain": [
       "<Figure size 432x288 with 1 Axes>"
      ]
     },
     "metadata": {
      "needs_background": "light"
     },
     "output_type": "display_data"
    }
   ],
   "source": [
    "import matplotlib.pyplot as plt\n",
    "alpha = [0.05, 0.1, 1, 5, 10]\n",
    "mae_list = [Lasso4_mae, Lasso1_mae, Lasso2_mae, Lasso5_mae, Lasso3_mae]\n",
    "plt.scatter(alpha, mae_list)"
   ]
  },
  {
   "cell_type": "code",
   "execution_count": 26,
   "metadata": {},
   "outputs": [
    {
     "data": {
      "text/plain": [
       "<matplotlib.collections.PathCollection at 0x26ad564a160>"
      ]
     },
     "execution_count": 26,
     "metadata": {},
     "output_type": "execute_result"
    },
    {
     "data": {
      "image/png": "[encoded data removed]",
      "text/plain": [
       "<Figure size 432x288 with 1 Axes>"
      ]
     },
     "metadata": {
      "needs_background": "light"
     },
     "output_type": "display_data"
    }
   ],
   "source": [
    "import matplotlib.pyplot as plt\n",
    "alpha = [0.05, 0.1, 1]\n",
    "mae_list = [Lasso4_mae, Lasso1_mae, Lasso2_mae]\n",
    "plt.scatter(alpha, mae_list)"
   ]
  },
  {
   "attachments": {},
   "cell_type": "markdown",
   "metadata": {},
   "source": [
    "# 3. 로지스틱 회귀\n",
    "## 모델 구조 및 특성\n",
    "로지스텍 회귀는 특징이 주어졌을 때, 라벨이 1(긍정 클래스)일 확률을 다음과 같이 계산합니다."
   ]
  },
  {
   "attachments": {},
   "cell_type": "markdown",
   "metadata": {},
   "source": [
    "![nn](images/logistic.png)"
   ]
  },
  {
   "attachments": {},
   "cell_type": "markdown",
   "metadata": {},
   "source": [
    "확률과 임계치 θ를 바탕으로 다음과 같이 분류 합니다."
   ]
  },
  {
   "attachments": {},
   "cell_type": "markdown",
   "metadata": {},
   "source": [
    "![nn](images/logistic2.png)"
   ]
  },
  {
   "attachments": {},
   "cell_type": "markdown",
   "metadata": {},
   "source": [
    "## 예제 데이터 불러오기\n",
    "분류 모델을 학습할 데이터를 불러오고 분리하겠습니다."
   ]
  },
  {
   "cell_type": "code",
   "execution_count": 27,
   "metadata": {},
   "outputs": [],
   "source": [
    "# 예제 데이터 불러오기\n",
    "df = pd.read_csv('../../data/classification/ecoli1.csv')\n",
    "X = df.drop('y', axis=1)\n",
    "y = df['y']\n",
    "X_train, X_test, y_train, y_test = train_test_split(X, y, random_state=2022)"
   ]
  },
  {
   "attachments": {},
   "cell_type": "markdown",
   "metadata": {},
   "source": [
    "## 로지스틱 회귀 모델 학습\n",
    "로지스틱 회귀는 linear_model의 LogisticRegression 클래스로 구현할 수 있습니다.\n",
    "\n",
    "주요인자\n",
    "\n",
    "penalty\n",
    "- 페널티 종류 : l1, l2, elasticnet, none\n",
    "- 기본값 : l2\n",
    "\n",
    "C\n",
    "- 페널티 계수에 대한 가중치로 부여되는 페널티는 C에 반비례함\n",
    "- 기본값 : 1.0"
   ]
  },
  {
   "cell_type": "code",
   "execution_count": 28,
   "metadata": {},
   "outputs": [
    {
     "name": "stdout",
     "output_type": "stream",
     "text": [
      "0.7096774193548387\n"
     ]
    }
   ],
   "source": [
    "# 로지스틱 회귀 모델 학습 및 평가 예제\n",
    "from sklearn.linear_model import LogisticRegression\n",
    "model = LogisticRegression().fit(X_train, y_train)\n",
    "\n",
    "from sklearn.metrics import f1_score\n",
    "y_pred = model.predict(X_test)\n",
    "f1 = f1_score(y_test, y_pred)\n",
    "print(f1)"
   ]
  },
  {
   "attachments": {},
   "cell_type": "markdown",
   "metadata": {},
   "source": [
    "## 임계치에 따른 정밀도와 재현율 계산\n",
    "클래스에 속할 확률 y_prob을 계산하고 모델의 클래스 정보 출력"
   ]
  },
  {
   "cell_type": "code",
   "execution_count": 29,
   "metadata": {},
   "outputs": [
    {
     "name": "stdout",
     "output_type": "stream",
     "text": [
      "[0 1]\n"
     ]
    }
   ],
   "source": [
    "y_prob = model.predict_proba(X_test)\n",
    "print(model.classes_)"
   ]
  },
  {
   "attachments": {},
   "cell_type": "markdown",
   "metadata": {},
   "source": [
    "- 라인2: 분류 모델의 classes_ 속성은 분류 모델이 학습할 때 사용했던 클래스 목록을 반환합니다. 이 결과를 출력한 이유는 predict_proba 메서드가 반환한 배열의 i행j 열의 값이 샘플 i가 model.classes_[j]에 속할 확률이기 때문 입니다."
   ]
  },
  {
   "attachments": {},
   "cell_type": "markdown",
   "metadata": {},
   "source": [
    "임계치에 따른 예측값 계산 예제"
   ]
  },
  {
   "cell_type": "code",
   "execution_count": 30,
   "metadata": {},
   "outputs": [],
   "source": [
    "from sklearn.metrics import precision_score, recall_score\n",
    "\n",
    "def precision_and_recall_accto_threshold(y_prob, y_test, threshold):\n",
    "    y_prob_pred = (y_prob[:,1]>threshold).astype(int)\n",
    "    precision = precision_score(y_test, y_prob_pred)\n",
    "    recall = recall_score(y_test, y_prob_pred)\n",
    "    return precision, recall"
   ]
  },
  {
   "attachments": {},
   "cell_type": "markdown",
   "metadata": {},
   "source": [
    "- 라인 4 : y_prob의1번째 열을 threshold와비교한 결과의 각요소를 int 형으로 바꾼 배열을 y_prob_pred에 저장 합니다. 즉, threshold보다 큰 값은 1이 되며, 그렇지 않은 값은 0이됩니다.\n",
    "- 라인5 – 6 : y_prob_pred와y_test를바탕으로 재현율과 정밀도를계산합니다.\n"
   ]
  },
  {
   "attachments": {},
   "cell_type": "markdown",
   "metadata": {},
   "source": [
    "임계치에 따른 예측값 계산 예제"
   ]
  },
  {
   "cell_type": "code",
   "execution_count": 31,
   "metadata": {},
   "outputs": [
    {
     "name": "stderr",
     "output_type": "stream",
     "text": [
      "c:\\Users\\rkfka\\AppData\\Local\\Programs\\Python\\Python38\\lib\\site-packages\\sklearn\\metrics\\_classification.py:1334: UndefinedMetricWarning: Precision is ill-defined and being set to 0.0 due to no predicted samples. Use `zero_division` parameter to control this behavior.\n",
      "  _warn_prf(average, modifier, msg_start, len(result))\n",
      "c:\\Users\\rkfka\\AppData\\Local\\Programs\\Python\\Python38\\lib\\site-packages\\sklearn\\metrics\\_classification.py:1334: UndefinedMetricWarning: Precision is ill-defined and being set to 0.0 due to no predicted samples. Use `zero_division` parameter to control this behavior.\n",
      "  _warn_prf(average, modifier, msg_start, len(result))\n",
      "c:\\Users\\rkfka\\AppData\\Local\\Programs\\Python\\Python38\\lib\\site-packages\\sklearn\\metrics\\_classification.py:1334: UndefinedMetricWarning: Precision is ill-defined and being set to 0.0 due to no predicted samples. Use `zero_division` parameter to control this behavior.\n",
      "  _warn_prf(average, modifier, msg_start, len(result))\n",
      "c:\\Users\\rkfka\\AppData\\Local\\Programs\\Python\\Python38\\lib\\site-packages\\sklearn\\metrics\\_classification.py:1334: UndefinedMetricWarning: Precision is ill-defined and being set to 0.0 due to no predicted samples. Use `zero_division` parameter to control this behavior.\n",
      "  _warn_prf(average, modifier, msg_start, len(result))\n",
      "c:\\Users\\rkfka\\AppData\\Local\\Programs\\Python\\Python38\\lib\\site-packages\\sklearn\\metrics\\_classification.py:1334: UndefinedMetricWarning: Precision is ill-defined and being set to 0.0 due to no predicted samples. Use `zero_division` parameter to control this behavior.\n",
      "  _warn_prf(average, modifier, msg_start, len(result))\n",
      "c:\\Users\\rkfka\\AppData\\Local\\Programs\\Python\\Python38\\lib\\site-packages\\sklearn\\metrics\\_classification.py:1334: UndefinedMetricWarning: Precision is ill-defined and being set to 0.0 due to no predicted samples. Use `zero_division` parameter to control this behavior.\n",
      "  _warn_prf(average, modifier, msg_start, len(result))\n",
      "c:\\Users\\rkfka\\AppData\\Local\\Programs\\Python\\Python38\\lib\\site-packages\\sklearn\\metrics\\_classification.py:1334: UndefinedMetricWarning: Precision is ill-defined and being set to 0.0 due to no predicted samples. Use `zero_division` parameter to control this behavior.\n",
      "  _warn_prf(average, modifier, msg_start, len(result))\n",
      "c:\\Users\\rkfka\\AppData\\Local\\Programs\\Python\\Python38\\lib\\site-packages\\sklearn\\metrics\\_classification.py:1334: UndefinedMetricWarning: Precision is ill-defined and being set to 0.0 due to no predicted samples. Use `zero_division` parameter to control this behavior.\n",
      "  _warn_prf(average, modifier, msg_start, len(result))\n",
      "c:\\Users\\rkfka\\AppData\\Local\\Programs\\Python\\Python38\\lib\\site-packages\\sklearn\\metrics\\_classification.py:1334: UndefinedMetricWarning: Precision is ill-defined and being set to 0.0 due to no predicted samples. Use `zero_division` parameter to control this behavior.\n",
      "  _warn_prf(average, modifier, msg_start, len(result))\n",
      "c:\\Users\\rkfka\\AppData\\Local\\Programs\\Python\\Python38\\lib\\site-packages\\sklearn\\metrics\\_classification.py:1334: UndefinedMetricWarning: Precision is ill-defined and being set to 0.0 due to no predicted samples. Use `zero_division` parameter to control this behavior.\n",
      "  _warn_prf(average, modifier, msg_start, len(result))\n",
      "c:\\Users\\rkfka\\AppData\\Local\\Programs\\Python\\Python38\\lib\\site-packages\\sklearn\\metrics\\_classification.py:1334: UndefinedMetricWarning: Precision is ill-defined and being set to 0.0 due to no predicted samples. Use `zero_division` parameter to control this behavior.\n",
      "  _warn_prf(average, modifier, msg_start, len(result))\n",
      "c:\\Users\\rkfka\\AppData\\Local\\Programs\\Python\\Python38\\lib\\site-packages\\sklearn\\metrics\\_classification.py:1334: UndefinedMetricWarning: Precision is ill-defined and being set to 0.0 due to no predicted samples. Use `zero_division` parameter to control this behavior.\n",
      "  _warn_prf(average, modifier, msg_start, len(result))\n",
      "c:\\Users\\rkfka\\AppData\\Local\\Programs\\Python\\Python38\\lib\\site-packages\\sklearn\\metrics\\_classification.py:1334: UndefinedMetricWarning: Precision is ill-defined and being set to 0.0 due to no predicted samples. Use `zero_division` parameter to control this behavior.\n",
      "  _warn_prf(average, modifier, msg_start, len(result))\n",
      "c:\\Users\\rkfka\\AppData\\Local\\Programs\\Python\\Python38\\lib\\site-packages\\sklearn\\metrics\\_classification.py:1334: UndefinedMetricWarning: Precision is ill-defined and being set to 0.0 due to no predicted samples. Use `zero_division` parameter to control this behavior.\n",
      "  _warn_prf(average, modifier, msg_start, len(result))\n",
      "c:\\Users\\rkfka\\AppData\\Local\\Programs\\Python\\Python38\\lib\\site-packages\\sklearn\\metrics\\_classification.py:1334: UndefinedMetricWarning: Precision is ill-defined and being set to 0.0 due to no predicted samples. Use `zero_division` parameter to control this behavior.\n",
      "  _warn_prf(average, modifier, msg_start, len(result))\n",
      "c:\\Users\\rkfka\\AppData\\Local\\Programs\\Python\\Python38\\lib\\site-packages\\sklearn\\metrics\\_classification.py:1334: UndefinedMetricWarning: Precision is ill-defined and being set to 0.0 due to no predicted samples. Use `zero_division` parameter to control this behavior.\n",
      "  _warn_prf(average, modifier, msg_start, len(result))\n",
      "c:\\Users\\rkfka\\AppData\\Local\\Programs\\Python\\Python38\\lib\\site-packages\\sklearn\\metrics\\_classification.py:1334: UndefinedMetricWarning: Precision is ill-defined and being set to 0.0 due to no predicted samples. Use `zero_division` parameter to control this behavior.\n",
      "  _warn_prf(average, modifier, msg_start, len(result))\n",
      "c:\\Users\\rkfka\\AppData\\Local\\Programs\\Python\\Python38\\lib\\site-packages\\sklearn\\metrics\\_classification.py:1334: UndefinedMetricWarning: Precision is ill-defined and being set to 0.0 due to no predicted samples. Use `zero_division` parameter to control this behavior.\n",
      "  _warn_prf(average, modifier, msg_start, len(result))\n",
      "c:\\Users\\rkfka\\AppData\\Local\\Programs\\Python\\Python38\\lib\\site-packages\\sklearn\\metrics\\_classification.py:1334: UndefinedMetricWarning: Precision is ill-defined and being set to 0.0 due to no predicted samples. Use `zero_division` parameter to control this behavior.\n",
      "  _warn_prf(average, modifier, msg_start, len(result))\n",
      "c:\\Users\\rkfka\\AppData\\Local\\Programs\\Python\\Python38\\lib\\site-packages\\sklearn\\metrics\\_classification.py:1334: UndefinedMetricWarning: Precision is ill-defined and being set to 0.0 due to no predicted samples. Use `zero_division` parameter to control this behavior.\n",
      "  _warn_prf(average, modifier, msg_start, len(result))\n",
      "c:\\Users\\rkfka\\AppData\\Local\\Programs\\Python\\Python38\\lib\\site-packages\\sklearn\\metrics\\_classification.py:1334: UndefinedMetricWarning: Precision is ill-defined and being set to 0.0 due to no predicted samples. Use `zero_division` parameter to control this behavior.\n",
      "  _warn_prf(average, modifier, msg_start, len(result))\n",
      "c:\\Users\\rkfka\\AppData\\Local\\Programs\\Python\\Python38\\lib\\site-packages\\sklearn\\metrics\\_classification.py:1334: UndefinedMetricWarning: Precision is ill-defined and being set to 0.0 due to no predicted samples. Use `zero_division` parameter to control this behavior.\n",
      "  _warn_prf(average, modifier, msg_start, len(result))\n",
      "c:\\Users\\rkfka\\AppData\\Local\\Programs\\Python\\Python38\\lib\\site-packages\\sklearn\\metrics\\_classification.py:1334: UndefinedMetricWarning: Precision is ill-defined and being set to 0.0 due to no predicted samples. Use `zero_division` parameter to control this behavior.\n",
      "  _warn_prf(average, modifier, msg_start, len(result))\n",
      "c:\\Users\\rkfka\\AppData\\Local\\Programs\\Python\\Python38\\lib\\site-packages\\sklearn\\metrics\\_classification.py:1334: UndefinedMetricWarning: Precision is ill-defined and being set to 0.0 due to no predicted samples. Use `zero_division` parameter to control this behavior.\n",
      "  _warn_prf(average, modifier, msg_start, len(result))\n",
      "c:\\Users\\rkfka\\AppData\\Local\\Programs\\Python\\Python38\\lib\\site-packages\\sklearn\\metrics\\_classification.py:1334: UndefinedMetricWarning: Precision is ill-defined and being set to 0.0 due to no predicted samples. Use `zero_division` parameter to control this behavior.\n",
      "  _warn_prf(average, modifier, msg_start, len(result))\n",
      "c:\\Users\\rkfka\\AppData\\Local\\Programs\\Python\\Python38\\lib\\site-packages\\sklearn\\metrics\\_classification.py:1334: UndefinedMetricWarning: Precision is ill-defined and being set to 0.0 due to no predicted samples. Use `zero_division` parameter to control this behavior.\n",
      "  _warn_prf(average, modifier, msg_start, len(result))\n",
      "c:\\Users\\rkfka\\AppData\\Local\\Programs\\Python\\Python38\\lib\\site-packages\\sklearn\\metrics\\_classification.py:1334: UndefinedMetricWarning: Precision is ill-defined and being set to 0.0 due to no predicted samples. Use `zero_division` parameter to control this behavior.\n",
      "  _warn_prf(average, modifier, msg_start, len(result))\n",
      "c:\\Users\\rkfka\\AppData\\Local\\Programs\\Python\\Python38\\lib\\site-packages\\sklearn\\metrics\\_classification.py:1334: UndefinedMetricWarning: Precision is ill-defined and being set to 0.0 due to no predicted samples. Use `zero_division` parameter to control this behavior.\n",
      "  _warn_prf(average, modifier, msg_start, len(result))\n",
      "c:\\Users\\rkfka\\AppData\\Local\\Programs\\Python\\Python38\\lib\\site-packages\\sklearn\\metrics\\_classification.py:1334: UndefinedMetricWarning: Precision is ill-defined and being set to 0.0 due to no predicted samples. Use `zero_division` parameter to control this behavior.\n",
      "  _warn_prf(average, modifier, msg_start, len(result))\n",
      "c:\\Users\\rkfka\\AppData\\Local\\Programs\\Python\\Python38\\lib\\site-packages\\sklearn\\metrics\\_classification.py:1334: UndefinedMetricWarning: Precision is ill-defined and being set to 0.0 due to no predicted samples. Use `zero_division` parameter to control this behavior.\n",
      "  _warn_prf(average, modifier, msg_start, len(result))\n",
      "c:\\Users\\rkfka\\AppData\\Local\\Programs\\Python\\Python38\\lib\\site-packages\\sklearn\\metrics\\_classification.py:1334: UndefinedMetricWarning: Precision is ill-defined and being set to 0.0 due to no predicted samples. Use `zero_division` parameter to control this behavior.\n",
      "  _warn_prf(average, modifier, msg_start, len(result))\n"
     ]
    }
   ],
   "source": [
    "import numpy as np\n",
    "\n",
    "precision_list = []\n",
    "recall_list = []\n",
    "threshold_list = np.arange(0, 1, 0.01)\n",
    "\n",
    "for threshold in threshold_list:\n",
    "    precision, recall = precision_and_recall_accto_threshold(y_prob, y_test, threshold)\n",
    "    precision_list.append(precision)\n",
    "    recall_list.append(recall)"
   ]
  },
  {
   "attachments": {},
   "cell_type": "markdown",
   "metadata": {},
   "source": [
    "- 라인 3 – 4 : 정밀도와 재현율을 담을 빈 리스트를 정의 합니다.\n",
    "- 라인 5 : 0부터 0.01씩 1까지 늘린 값으로 구성된 배열을 threshold_list에 저장 합니다.\n",
    "- 라인 7 – 8 : threshold를 0부터 0.01씩 늘려 가면서 precision_and_recall_accto_threshold를적용한 결과를 각각 precision_list와 recall_list에 추가합니다."
   ]
  },
  {
   "attachments": {},
   "cell_type": "markdown",
   "metadata": {},
   "source": [
    "임계치에 따른 예측값 계산 결과 시각화"
   ]
  },
  {
   "cell_type": "code",
   "execution_count": 32,
   "metadata": {},
   "outputs": [
    {
     "data": {
      "image/png": "[encoded data removed]",
      "text/plain": [
       "<Figure size 432x288 with 1 Axes>"
      ]
     },
     "metadata": {
      "needs_background": "light"
     },
     "output_type": "display_data"
    }
   ],
   "source": [
    "from matplotlib import pyplot as plt\n",
    "plt.plot(threshold_list, precision_list, label='precision')\n",
    "plt.plot(threshold_list, recall_list, label='recall')\n",
    "plt.legend()\n",
    "plt.show()"
   ]
  },
  {
   "attachments": {},
   "cell_type": "markdown",
   "metadata": {},
   "source": [
    "- 임계치와 정밀도는 비례하고 임계치와 재현율은 반비례함\n",
    "- 임계치가 0.7 정도 되는 시점에서 긍정이라 분류하는 샘플이 하나도 없어 정밀도가 0이 됐음\n",
    "- 임계치에 따라 정밀도가 계속 증가하지 않고 소폭 감소하기도 함\n"
   ]
  },
  {
   "attachments": {},
   "cell_type": "markdown",
   "metadata": {},
   "source": [
    "# 4. 선형성을 고려한 특징 공학\n",
    "## 선형 모델의 한계\n",
    "선형 모델은 선형적인 관계만 적절히 모델링할 수 있는 한계가 있습니다."
   ]
  },
  {
   "cell_type": "code",
   "execution_count": 33,
   "metadata": {},
   "outputs": [
    {
     "data": {
      "text/plain": [
       "Text(0, 0.5, 'y')"
      ]
     },
     "execution_count": 33,
     "metadata": {},
     "output_type": "execute_result"
    },
    {
     "data": {
      "image/png": "[encoded data removed]",
      "text/plain": [
       "<Figure size 432x288 with 1 Axes>"
      ]
     },
     "metadata": {
      "needs_background": "light"
     },
     "output_type": "display_data"
    }
   ],
   "source": [
    "# 선형 모델의 한계 확인 예제\n",
    "x = np.random.random(100)-0.5\n",
    "y = x**2\n",
    "plt.scatter(x, y)\n",
    "plt.xlabel('x')\n",
    "plt.ylabel('y')"
   ]
  },
  {
   "attachments": {},
   "cell_type": "markdown",
   "metadata": {},
   "source": [
    "- 라인 2 : np.random.random 함수는 0과 1 사이의 난수를 생성하므로 0.5를 빼서 -0.5와 0.5 사이로 x의 범위를 수정했습니다.\n",
    "- 두 변수 간에는 𝑦=𝑥2이라는 자명한 관계가 있으므로 𝑥로 𝑦를 예측하기 매우 쉬워 보임\n"
   ]
  },
  {
   "cell_type": "code",
   "execution_count": 34,
   "metadata": {},
   "outputs": [
    {
     "data": {
      "image/png": "[encoded data removed]",
      "text/plain": [
       "<Figure size 432x288 with 1 Axes>"
      ]
     },
     "metadata": {
      "needs_background": "light"
     },
     "output_type": "display_data"
    }
   ],
   "source": [
    "# 선형 모델의 한계 확인 에제\n",
    "model = LinearRegression().fit(x.reshape(-1,1),y)\n",
    "y_pred = model.predict(x.reshape(-1,1))\n",
    "plt.scatter(x,y,label='real')\n",
    "plt.scatter(x,y_pred,label='predicted')\n",
    "plt.legend()\n",
    "plt.show()"
   ]
  },
  {
   "attachments": {},
   "cell_type": "markdown",
   "metadata": {},
   "source": [
    "- 라인 1 : x와 y를 사용해 다중 선형 회귀 모델을 학습했습니다. 이때, x가 1차원인데 fit 메서드는 2차원 배열 형태의 특징 벡터를 입력 받으므로 reshape 메서드를 이용해 모양을 바꿨습니다.\n",
    "- 실제 라벨의 분포인 파란색과 예측된 결과의 분포인 주황색이 크게 다름\n",
    "- 이러한 결과가 나온 이유는 선형 회귀는 𝑤𝑥+𝑏형태의 구조로 𝑦를 예측하는데, 이 구조로는 𝑥2을 표현할 수 없기 때문"
   ]
  },
  {
   "attachments": {},
   "cell_type": "markdown",
   "metadata": {},
   "source": [
    "## 특징 변환 및 생성\n",
    "선형 회귀 모델로 특징과 라벨 간 비선형 관계를 표현하는 새로운 특징을 추가하거나 기존 특징을 변환하는 것 입니다."
   ]
  },
  {
   "cell_type": "code",
   "execution_count": 35,
   "metadata": {},
   "outputs": [
    {
     "data": {
      "image/png": "[encoded data removed]",
      "text/plain": [
       "<Figure size 432x288 with 1 Axes>"
      ]
     },
     "metadata": {
      "needs_background": "light"
     },
     "output_type": "display_data"
    }
   ],
   "source": [
    "# 비선형 특징 예제\n",
    "new_X = pd.DataFrame({'x':x, 'x_squared':x**2})\n",
    "model = LinearRegression().fit(new_X, y)\n",
    "y_pred = model.predict(new_X)\n",
    "plt.scatter(x, y, label = \"real\")\n",
    "plt.scatter(x, y_pred, label = \"predicted\")\n",
    "plt.legend()\n",
    "plt.show()"
   ]
  },
  {
   "attachments": {},
   "cell_type": "markdown",
   "metadata": {},
   "source": [
    "- 라인 1 : x와 x**2으로 구성된 새로운 데이터프레임 new_X를 생성 했습니다.\n",
    "- 완벽하게 예측되어 주황색 점에 의해 파란색 점이 모두 가려졌음\n"
   ]
  },
  {
   "attachments": {},
   "cell_type": "markdown",
   "metadata": {},
   "source": [
    "현실적으로는 특징과 라벨 간 관계를 알 수 없으므로 미리 새로운 특징을 생성하는 함수를 통해 여러 개의 특징을 생성한 뒤 특징 선택을 통해 다시 차원을 줄여야 합니다."
   ]
  },
  {
   "attachments": {},
   "cell_type": "markdown",
   "metadata": {},
   "source": [
    "- 특징과 라벨 간 관계를 정확히 알고 있다는 것 자체가 매우 비현실적임\n",
    "- 각 특징을 라벨과 함께시각화하여 그 관계를 파악하고, 그 관계에 맞는 새로운 특징을 추가하는 것 역시 비현실적임\n",
    "- 미리 새로운 특징을 생성하는 함수(예: 제곱, 루트, 지수 등)를 정의하고, 그 함수를 이용해 여러개의 특징을 생성한 뒤 특징 선택을 통해 다시 차원을 줄이는 방법이 있음"
   ]
  }
 ],
 "metadata": {
  "kernelspec": {
   "display_name": "Python 3",
   "language": "python",
   "name": "python3"
  },
  "language_info": {
   "codemirror_mode": {
    "name": "ipython",
    "version": 3
   },
   "file_extension": ".py",
   "mimetype": "text/x-python",
   "name": "python",
   "nbconvert_exporter": "python",
   "pygments_lexer": "ipython3",
   "version": "3.8.6"
  },
  "orig_nbformat": 4,
  "vscode": {
   "interpreter": {
    "hash": "107109ef1f3d2c1d8ef2422d7f3c7553b0305ed5b701a76fbc5bdcb10e21ee2d"
   }
  }
 },
 "nbformat": 4,
 "nbformat_minor": 2
}
