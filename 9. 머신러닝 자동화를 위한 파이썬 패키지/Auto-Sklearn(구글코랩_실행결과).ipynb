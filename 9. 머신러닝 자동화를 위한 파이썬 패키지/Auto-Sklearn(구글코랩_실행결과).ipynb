{
  "cells": [
    {
      "cell_type": "markdown",
      "metadata": {
        "id": "N4zY2TP9HnqZ"
      },
      "source": [
        "# 1. 이론적 배경\n",
        "관련논문\n",
        "- Feurer, M., Eggensperger, K., Falkner, S., Lindauer, M., and Hutter, F. (2020). \n",
        "Auto-sklearn 2.0: Hands-free automl via meta-learning. \n",
        "arXiv preprint arXiv:2007.04074.\n"
      ]
    },
    {
      "cell_type": "markdown",
      "metadata": {
        "id": "gc7oUzewHnqf"
      },
      "source": [
        "## 문제 정의\n",
        "Auto-Sklearn에서 고려하는 문제는 모델 선택 및 하이퍼파라미터 튜닝 문제입니다."
      ]
    },
    {
      "cell_type": "markdown",
      "metadata": {
        "id": "lZL5tFWuHnqh"
      },
      "source": [
        "## 문제 정의 : 정책 개발\n",
        "데이터에 따라 적절한 정책(policy)이 다를 수 있습니다. 여기서 정책이란 탐색 전략 및 탐색 공간을 의미합니다. 예를 들어, 어떤 데이터는 랜덤 서치를 이용해 랜덤 포레스트를 중심으로 탐색하는 것이 적절하며, 다른 데이터는 그리드 서치를 이용해 신경망과 회귀 모델을 중심으로 탐색하는 것이 적절할 수 있습니다."
      ]
    },
    {
      "cell_type": "markdown",
      "metadata": {
        "id": "gIRgfhzAHnqj"
      },
      "source": [
        "## 탐색 공간 정의\n",
        "모델 선택과 하이퍼파라미터 튜닝 문제에서 가장 중요한 작업은 탐색 공간을 정의하는 것입니다. 좋은 성능의 모델이 학습될 가능성이 적은 모델과 하이퍼파라미터는 탐색 공간에서 배제하는 등 탐색 공간을 잘 정의하면 최적해를 효율적으로 찾을 수 있습니다."
      ]
    },
    {
      "cell_type": "markdown",
      "metadata": {
        "id": "y2D1GAVIHnqk"
      },
      "source": [
        "## 활용 방법론\n",
        "- Auto-Sklearn은 대체 모델이 랜덤 포레스트인 베이지안 최적화를 사용해 해를 탐색함\n",
        "    - 대체 모델로 가우시안 프로세스 대신 랜덤 포레스트를 사용하는 이유는 가우시안 프로세스는 혼합형 변수로 구성된 고차원의 공간에 부적합하기 때문\n",
        "    - 랜덤 포레스트는 혼합형 변수에 적합하다는 장점이 있지만, 적합한 획득 함수를 구성하기 어렵다는 문제가 있음\n",
        "- 메타 모델을 사용해 베이지안 최적화에서 사용할 초기해를 만듦\n",
        "    - 이 메타 모델은 209개의 분류 데이터와 111개의 회귀 데이터로 학습한 k-최근접 이웃 모델임\n",
        "    - 메타 특징으로는 샘플 수에 로그를 취한 값, 클래스 개수, 특징 개수, 특징 개수에 로그를 취한 값, 결측이 있는 샘플 수, 범주형 특징 개수 등을 사용함\n",
        "- 베이지안 최적화를 이용해 해를 탐색한 뒤, 앙상블 선택(ensemble selection)을 사용해 여러 모델을 종합\n",
        "    - 앙상블 선택은 지금까지 학습한 모든 모델에 대해 성능이 가장 우수한 모델부터 차례대로 앙상블에 투입하여 최고 성능의 앙상블을 찾음"
      ]
    },
    {
      "cell_type": "markdown",
      "metadata": {
        "id": "lgupgvgrHnql"
      },
      "source": [
        "# 2. 설치 및 개발 환경\n",
        "- 구글 코랩 환경 이용"
      ]
    },
    {
      "cell_type": "markdown",
      "metadata": {
        "id": "oNYUBPlYHnql"
      },
      "source": [
        "## Auto-Sklearn 설치\n",
        "- 코랩에 Auto-Sklearn 설치"
      ]
    },
    {
      "cell_type": "code",
      "execution_count": 5,
      "metadata": {
        "id": "MqKaKlo3Hnqm",
        "outputId": "8f9ceca8-371b-4737-e3bc-f5847db6eb50",
        "colab": {
          "base_uri": "https://localhost:8080/"
        }
      },
      "outputs": [
        {
          "output_type": "stream",
          "name": "stdout",
          "text": [
            "Reading package lists... Done\n",
            "Building dependency tree       \n",
            "Reading state information... Done\n",
            "swig is already the newest version (4.0.1-5build1).\n",
            "build-essential is already the newest version (12.8ubuntu1.1).\n",
            "The following package was automatically installed and is no longer required:\n",
            "  libnvidia-common-510\n",
            "Use 'sudo apt autoremove' to remove it.\n",
            "0 upgraded, 0 newly installed, 0 to remove and 21 not upgraded.\n",
            "  % Total    % Received % Xferd  Average Speed   Time    Time     Time  Current\n",
            "                                 Dload  Upload   Total   Spent    Left  Speed\n",
            "100   259  100   259    0     0  16187      0 --:--:-- --:--:-- --:--:-- 16187\n",
            "Looking in indexes: https://pypi.org/simple, https://us-python.pkg.dev/colab-wheels/public/simple/\n",
            "Requirement already satisfied: setuptools in /usr/local/lib/python3.8/dist-packages (57.4.0)\n",
            "Looking in indexes: https://pypi.org/simple, https://us-python.pkg.dev/colab-wheels/public/simple/\n",
            "Requirement already satisfied: typing_extensions in /usr/local/lib/python3.8/dist-packages (4.4.0)\n",
            "Looking in indexes: https://pypi.org/simple, https://us-python.pkg.dev/colab-wheels/public/simple/\n",
            "Requirement already satisfied: distro in /usr/local/lib/python3.8/dist-packages (1.8.0)\n",
            "Looking in indexes: https://pypi.org/simple, https://us-python.pkg.dev/colab-wheels/public/simple/\n",
            "Requirement already satisfied: numpy>=1.9.0 in /usr/local/lib/python3.8/dist-packages (1.21.6)\n",
            "Looking in indexes: https://pypi.org/simple, https://us-python.pkg.dev/colab-wheels/public/simple/\n",
            "Requirement already satisfied: scipy>=1.7.0 in /usr/local/lib/python3.8/dist-packages (1.10.0)\n",
            "Requirement already satisfied: numpy<1.27.0,>=1.19.5 in /usr/local/lib/python3.8/dist-packages (from scipy>=1.7.0) (1.21.6)\n",
            "Looking in indexes: https://pypi.org/simple, https://us-python.pkg.dev/colab-wheels/public/simple/\n",
            "Requirement already satisfied: joblib in /usr/local/lib/python3.8/dist-packages (1.2.0)\n",
            "Looking in indexes: https://pypi.org/simple, https://us-python.pkg.dev/colab-wheels/public/simple/\n",
            "Requirement already satisfied: scikit-learn<0.25.0,>=0.24.0 in /usr/local/lib/python3.8/dist-packages (0.24.2)\n",
            "Requirement already satisfied: scipy>=0.19.1 in /usr/local/lib/python3.8/dist-packages (from scikit-learn<0.25.0,>=0.24.0) (1.10.0)\n",
            "Requirement already satisfied: numpy>=1.13.3 in /usr/local/lib/python3.8/dist-packages (from scikit-learn<0.25.0,>=0.24.0) (1.21.6)\n",
            "Requirement already satisfied: joblib>=0.11 in /usr/local/lib/python3.8/dist-packages (from scikit-learn<0.25.0,>=0.24.0) (1.2.0)\n",
            "Requirement already satisfied: threadpoolctl>=2.0.0 in /usr/local/lib/python3.8/dist-packages (from scikit-learn<0.25.0,>=0.24.0) (3.1.0)\n",
            "Looking in indexes: https://pypi.org/simple, https://us-python.pkg.dev/colab-wheels/public/simple/\n",
            "Requirement already satisfied: dask>=2021.12 in /usr/local/lib/python3.8/dist-packages (2022.2.1)\n",
            "Requirement already satisfied: cloudpickle>=1.1.1 in /usr/local/lib/python3.8/dist-packages (from dask>=2021.12) (2.2.1)\n",
            "Requirement already satisfied: pyyaml>=5.3.1 in /usr/local/lib/python3.8/dist-packages (from dask>=2021.12) (6.0)\n",
            "Requirement already satisfied: toolz>=0.8.2 in /usr/local/lib/python3.8/dist-packages (from dask>=2021.12) (0.12.0)\n",
            "Requirement already satisfied: partd>=0.3.10 in /usr/local/lib/python3.8/dist-packages (from dask>=2021.12) (1.3.0)\n",
            "Requirement already satisfied: packaging>=20.0 in /usr/local/lib/python3.8/dist-packages (from dask>=2021.12) (23.0)\n",
            "Requirement already satisfied: fsspec>=0.6.0 in /usr/local/lib/python3.8/dist-packages (from dask>=2021.12) (2023.1.0)\n",
            "Requirement already satisfied: locket in /usr/local/lib/python3.8/dist-packages (from partd>=0.3.10->dask>=2021.12) (1.0.0)\n",
            "Looking in indexes: https://pypi.org/simple, https://us-python.pkg.dev/colab-wheels/public/simple/\n",
            "Requirement already satisfied: distributed>=2012.12 in /usr/local/lib/python3.8/dist-packages (2022.2.1)\n",
            "Requirement already satisfied: sortedcontainers!=2.0.0,!=2.0.1 in /usr/local/lib/python3.8/dist-packages (from distributed>=2012.12) (2.4.0)\n",
            "Requirement already satisfied: tblib>=1.6.0 in /usr/local/lib/python3.8/dist-packages (from distributed>=2012.12) (1.7.0)\n",
            "Requirement already satisfied: dask==2022.02.1 in /usr/local/lib/python3.8/dist-packages (from distributed>=2012.12) (2022.2.1)\n",
            "Requirement already satisfied: msgpack>=0.6.0 in /usr/local/lib/python3.8/dist-packages (from distributed>=2012.12) (1.0.4)\n",
            "Requirement already satisfied: psutil>=5.0 in /usr/local/lib/python3.8/dist-packages (from distributed>=2012.12) (5.4.8)\n",
            "Requirement already satisfied: tornado>=6.0.3 in /usr/local/lib/python3.8/dist-packages (from distributed>=2012.12) (6.0.4)\n",
            "Requirement already satisfied: zict>=0.1.3 in /usr/local/lib/python3.8/dist-packages (from distributed>=2012.12) (2.2.0)\n",
            "Requirement already satisfied: click>=6.6 in /usr/local/lib/python3.8/dist-packages (from distributed>=2012.12) (7.1.2)\n",
            "Requirement already satisfied: toolz>=0.8.2 in /usr/local/lib/python3.8/dist-packages (from distributed>=2012.12) (0.12.0)\n",
            "Requirement already satisfied: pyyaml in /usr/local/lib/python3.8/dist-packages (from distributed>=2012.12) (6.0)\n",
            "Requirement already satisfied: jinja2 in /usr/local/lib/python3.8/dist-packages (from distributed>=2012.12) (2.11.3)\n",
            "Requirement already satisfied: cloudpickle>=1.5.0 in /usr/local/lib/python3.8/dist-packages (from distributed>=2012.12) (2.2.1)\n",
            "Requirement already satisfied: packaging>=20.0 in /usr/local/lib/python3.8/dist-packages (from distributed>=2012.12) (23.0)\n",
            "Requirement already satisfied: setuptools in /usr/local/lib/python3.8/dist-packages (from distributed>=2012.12) (57.4.0)\n",
            "Requirement already satisfied: fsspec>=0.6.0 in /usr/local/lib/python3.8/dist-packages (from dask==2022.02.1->distributed>=2012.12) (2023.1.0)\n",
            "Requirement already satisfied: partd>=0.3.10 in /usr/local/lib/python3.8/dist-packages (from dask==2022.02.1->distributed>=2012.12) (1.3.0)\n",
            "Requirement already satisfied: heapdict in /usr/local/lib/python3.8/dist-packages (from zict>=0.1.3->distributed>=2012.12) (1.0.1)\n",
            "Requirement already satisfied: MarkupSafe>=0.23 in /usr/local/lib/python3.8/dist-packages (from jinja2->distributed>=2012.12) (2.0.1)\n",
            "Requirement already satisfied: locket in /usr/local/lib/python3.8/dist-packages (from partd>=0.3.10->dask==2022.02.1->distributed>=2012.12) (1.0.0)\n",
            "Looking in indexes: https://pypi.org/simple, https://us-python.pkg.dev/colab-wheels/public/simple/\n",
            "Requirement already satisfied: pyyaml in /usr/local/lib/python3.8/dist-packages (6.0)\n",
            "Looking in indexes: https://pypi.org/simple, https://us-python.pkg.dev/colab-wheels/public/simple/\n",
            "Requirement already satisfied: pandas>=1.0 in /usr/local/lib/python3.8/dist-packages (1.3.5)\n",
            "Requirement already satisfied: numpy>=1.17.3 in /usr/local/lib/python3.8/dist-packages (from pandas>=1.0) (1.21.6)\n",
            "Requirement already satisfied: python-dateutil>=2.7.3 in /usr/local/lib/python3.8/dist-packages (from pandas>=1.0) (2.8.2)\n",
            "Requirement already satisfied: pytz>=2017.3 in /usr/local/lib/python3.8/dist-packages (from pandas>=1.0) (2022.7.1)\n",
            "Requirement already satisfied: six>=1.5 in /usr/local/lib/python3.8/dist-packages (from python-dateutil>=2.7.3->pandas>=1.0) (1.15.0)\n",
            "Looking in indexes: https://pypi.org/simple, https://us-python.pkg.dev/colab-wheels/public/simple/\n",
            "Requirement already satisfied: liac-arff in /usr/local/lib/python3.8/dist-packages (2.5.0)\n",
            "Looking in indexes: https://pypi.org/simple, https://us-python.pkg.dev/colab-wheels/public/simple/\n",
            "Requirement already satisfied: threadpoolctl in /usr/local/lib/python3.8/dist-packages (3.1.0)\n",
            "Looking in indexes: https://pypi.org/simple, https://us-python.pkg.dev/colab-wheels/public/simple/\n",
            "Requirement already satisfied: ConfigSpace<0.5,>=0.4.21 in /usr/local/lib/python3.8/dist-packages (0.4.21)\n",
            "Requirement already satisfied: pyparsing in /usr/local/lib/python3.8/dist-packages (from ConfigSpace<0.5,>=0.4.21) (3.0.9)\n",
            "Requirement already satisfied: scipy in /usr/local/lib/python3.8/dist-packages (from ConfigSpace<0.5,>=0.4.21) (1.10.0)\n",
            "Requirement already satisfied: numpy in /usr/local/lib/python3.8/dist-packages (from ConfigSpace<0.5,>=0.4.21) (1.21.6)\n",
            "Requirement already satisfied: cython in /usr/local/lib/python3.8/dist-packages (from ConfigSpace<0.5,>=0.4.21) (0.29.33)\n",
            "Looking in indexes: https://pypi.org/simple, https://us-python.pkg.dev/colab-wheels/public/simple/\n",
            "Requirement already satisfied: pynisher<0.7,>=0.6.3 in /usr/local/lib/python3.8/dist-packages (0.6.4)\n",
            "Requirement already satisfied: setuptools in /usr/local/lib/python3.8/dist-packages (from pynisher<0.7,>=0.6.3) (57.4.0)\n",
            "Requirement already satisfied: psutil in /usr/local/lib/python3.8/dist-packages (from pynisher<0.7,>=0.6.3) (5.4.8)\n",
            "Looking in indexes: https://pypi.org/simple, https://us-python.pkg.dev/colab-wheels/public/simple/\n",
            "Requirement already satisfied: pyrfr<0.9,>=0.8.1 in /usr/local/lib/python3.8/dist-packages (0.8.3)\n",
            "Looking in indexes: https://pypi.org/simple, https://us-python.pkg.dev/colab-wheels/public/simple/\n",
            "Requirement already satisfied: smac<1.3,>=1.2 in /usr/local/lib/python3.8/dist-packages (1.2)\n",
            "Requirement already satisfied: pynisher>=0.4.1 in /usr/local/lib/python3.8/dist-packages (from smac<1.3,>=1.2) (0.6.4)\n",
            "Requirement already satisfied: distributed in /usr/local/lib/python3.8/dist-packages (from smac<1.3,>=1.2) (2022.2.1)\n",
            "Requirement already satisfied: scikit-learn>=0.22.0 in /usr/local/lib/python3.8/dist-packages (from smac<1.3,>=1.2) (0.24.2)\n",
            "Requirement already satisfied: scipy>=1.7.0 in /usr/local/lib/python3.8/dist-packages (from smac<1.3,>=1.2) (1.10.0)\n",
            "Requirement already satisfied: pyrfr>=0.8.0 in /usr/local/lib/python3.8/dist-packages (from smac<1.3,>=1.2) (0.8.3)\n",
            "Requirement already satisfied: psutil in /usr/local/lib/python3.8/dist-packages (from smac<1.3,>=1.2) (5.4.8)\n",
            "Requirement already satisfied: numpy>=1.7.1 in /usr/local/lib/python3.8/dist-packages (from smac<1.3,>=1.2) (1.21.6)\n",
            "Requirement already satisfied: dask in /usr/local/lib/python3.8/dist-packages (from smac<1.3,>=1.2) (2022.2.1)\n",
            "Requirement already satisfied: emcee>=3.0.0 in /usr/local/lib/python3.8/dist-packages (from smac<1.3,>=1.2) (3.1.4)\n",
            "Requirement already satisfied: joblib in /usr/local/lib/python3.8/dist-packages (from smac<1.3,>=1.2) (1.2.0)\n",
            "Requirement already satisfied: ConfigSpace<0.5,>=0.4.14 in /usr/local/lib/python3.8/dist-packages (from smac<1.3,>=1.2) (0.4.21)\n",
            "Requirement already satisfied: pyparsing in /usr/local/lib/python3.8/dist-packages (from ConfigSpace<0.5,>=0.4.14->smac<1.3,>=1.2) (3.0.9)\n",
            "Requirement already satisfied: cython in /usr/local/lib/python3.8/dist-packages (from ConfigSpace<0.5,>=0.4.14->smac<1.3,>=1.2) (0.29.33)\n",
            "Requirement already satisfied: setuptools in /usr/local/lib/python3.8/dist-packages (from pynisher>=0.4.1->smac<1.3,>=1.2) (57.4.0)\n",
            "Requirement already satisfied: threadpoolctl>=2.0.0 in /usr/local/lib/python3.8/dist-packages (from scikit-learn>=0.22.0->smac<1.3,>=1.2) (3.1.0)\n",
            "Requirement already satisfied: toolz>=0.8.2 in /usr/local/lib/python3.8/dist-packages (from dask->smac<1.3,>=1.2) (0.12.0)\n",
            "Requirement already satisfied: fsspec>=0.6.0 in /usr/local/lib/python3.8/dist-packages (from dask->smac<1.3,>=1.2) (2023.1.0)\n",
            "Requirement already satisfied: partd>=0.3.10 in /usr/local/lib/python3.8/dist-packages (from dask->smac<1.3,>=1.2) (1.3.0)\n",
            "Requirement already satisfied: cloudpickle>=1.1.1 in /usr/local/lib/python3.8/dist-packages (from dask->smac<1.3,>=1.2) (2.2.1)\n",
            "Requirement already satisfied: packaging>=20.0 in /usr/local/lib/python3.8/dist-packages (from dask->smac<1.3,>=1.2) (23.0)\n",
            "Requirement already satisfied: pyyaml>=5.3.1 in /usr/local/lib/python3.8/dist-packages (from dask->smac<1.3,>=1.2) (6.0)\n",
            "Requirement already satisfied: tornado>=6.0.3 in /usr/local/lib/python3.8/dist-packages (from distributed->smac<1.3,>=1.2) (6.0.4)\n",
            "Requirement already satisfied: zict>=0.1.3 in /usr/local/lib/python3.8/dist-packages (from distributed->smac<1.3,>=1.2) (2.2.0)\n",
            "Requirement already satisfied: msgpack>=0.6.0 in /usr/local/lib/python3.8/dist-packages (from distributed->smac<1.3,>=1.2) (1.0.4)\n",
            "Requirement already satisfied: tblib>=1.6.0 in /usr/local/lib/python3.8/dist-packages (from distributed->smac<1.3,>=1.2) (1.7.0)\n",
            "Requirement already satisfied: click>=6.6 in /usr/local/lib/python3.8/dist-packages (from distributed->smac<1.3,>=1.2) (7.1.2)\n",
            "Requirement already satisfied: sortedcontainers!=2.0.0,!=2.0.1 in /usr/local/lib/python3.8/dist-packages (from distributed->smac<1.3,>=1.2) (2.4.0)\n",
            "Requirement already satisfied: jinja2 in /usr/local/lib/python3.8/dist-packages (from distributed->smac<1.3,>=1.2) (2.11.3)\n",
            "Requirement already satisfied: locket in /usr/local/lib/python3.8/dist-packages (from partd>=0.3.10->dask->smac<1.3,>=1.2) (1.0.0)\n",
            "Requirement already satisfied: heapdict in /usr/local/lib/python3.8/dist-packages (from zict>=0.1.3->distributed->smac<1.3,>=1.2) (1.0.1)\n",
            "Requirement already satisfied: MarkupSafe>=0.23 in /usr/local/lib/python3.8/dist-packages (from jinja2->distributed->smac<1.3,>=1.2) (2.0.1)\n",
            "Looking in indexes: https://pypi.org/simple, https://us-python.pkg.dev/colab-wheels/public/simple/\n",
            "Requirement already satisfied: auto-sklearn in /usr/local/lib/python3.8/dist-packages (0.15.0)\n",
            "Requirement already satisfied: pynisher<0.7,>=0.6.3 in /usr/local/lib/python3.8/dist-packages (from auto-sklearn) (0.6.4)\n",
            "Requirement already satisfied: scipy>=1.7.0 in /usr/local/lib/python3.8/dist-packages (from auto-sklearn) (1.10.0)\n",
            "Requirement already satisfied: numpy>=1.9.0 in /usr/local/lib/python3.8/dist-packages (from auto-sklearn) (1.21.6)\n",
            "Requirement already satisfied: pyrfr<0.9,>=0.8.1 in /usr/local/lib/python3.8/dist-packages (from auto-sklearn) (0.8.3)\n",
            "Requirement already satisfied: dask>=2021.12 in /usr/local/lib/python3.8/dist-packages (from auto-sklearn) (2022.2.1)\n",
            "Requirement already satisfied: joblib in /usr/local/lib/python3.8/dist-packages (from auto-sklearn) (1.2.0)\n",
            "Requirement already satisfied: liac-arff in /usr/local/lib/python3.8/dist-packages (from auto-sklearn) (2.5.0)\n",
            "Requirement already satisfied: pandas>=1.0 in /usr/local/lib/python3.8/dist-packages (from auto-sklearn) (1.3.5)\n",
            "Requirement already satisfied: pyyaml in /usr/local/lib/python3.8/dist-packages (from auto-sklearn) (6.0)\n",
            "Requirement already satisfied: scikit-learn<0.25.0,>=0.24.0 in /usr/local/lib/python3.8/dist-packages (from auto-sklearn) (0.24.2)\n",
            "Requirement already satisfied: typing-extensions in /usr/local/lib/python3.8/dist-packages (from auto-sklearn) (4.4.0)\n",
            "Requirement already satisfied: setuptools in /usr/local/lib/python3.8/dist-packages (from auto-sklearn) (57.4.0)\n",
            "Requirement already satisfied: distributed>=2012.12 in /usr/local/lib/python3.8/dist-packages (from auto-sklearn) (2022.2.1)\n",
            "Requirement already satisfied: ConfigSpace<0.5,>=0.4.21 in /usr/local/lib/python3.8/dist-packages (from auto-sklearn) (0.4.21)\n",
            "Requirement already satisfied: threadpoolctl in /usr/local/lib/python3.8/dist-packages (from auto-sklearn) (3.1.0)\n",
            "Requirement already satisfied: smac<1.3,>=1.2 in /usr/local/lib/python3.8/dist-packages (from auto-sklearn) (1.2)\n",
            "Requirement already satisfied: distro in /usr/local/lib/python3.8/dist-packages (from auto-sklearn) (1.8.0)\n",
            "Requirement already satisfied: cython in /usr/local/lib/python3.8/dist-packages (from ConfigSpace<0.5,>=0.4.21->auto-sklearn) (0.29.33)\n",
            "Requirement already satisfied: pyparsing in /usr/local/lib/python3.8/dist-packages (from ConfigSpace<0.5,>=0.4.21->auto-sklearn) (3.0.9)\n",
            "Requirement already satisfied: cloudpickle>=1.1.1 in /usr/local/lib/python3.8/dist-packages (from dask>=2021.12->auto-sklearn) (2.2.1)\n",
            "Requirement already satisfied: fsspec>=0.6.0 in /usr/local/lib/python3.8/dist-packages (from dask>=2021.12->auto-sklearn) (2023.1.0)\n",
            "Requirement already satisfied: partd>=0.3.10 in /usr/local/lib/python3.8/dist-packages (from dask>=2021.12->auto-sklearn) (1.3.0)\n",
            "Requirement already satisfied: toolz>=0.8.2 in /usr/local/lib/python3.8/dist-packages (from dask>=2021.12->auto-sklearn) (0.12.0)\n",
            "Requirement already satisfied: packaging>=20.0 in /usr/local/lib/python3.8/dist-packages (from dask>=2021.12->auto-sklearn) (23.0)\n",
            "Requirement already satisfied: tornado>=6.0.3 in /usr/local/lib/python3.8/dist-packages (from distributed>=2012.12->auto-sklearn) (6.0.4)\n",
            "Requirement already satisfied: tblib>=1.6.0 in /usr/local/lib/python3.8/dist-packages (from distributed>=2012.12->auto-sklearn) (1.7.0)\n",
            "Requirement already satisfied: click>=6.6 in /usr/local/lib/python3.8/dist-packages (from distributed>=2012.12->auto-sklearn) (7.1.2)\n",
            "Requirement already satisfied: psutil>=5.0 in /usr/local/lib/python3.8/dist-packages (from distributed>=2012.12->auto-sklearn) (5.4.8)\n",
            "Requirement already satisfied: zict>=0.1.3 in /usr/local/lib/python3.8/dist-packages (from distributed>=2012.12->auto-sklearn) (2.2.0)\n",
            "Requirement already satisfied: jinja2 in /usr/local/lib/python3.8/dist-packages (from distributed>=2012.12->auto-sklearn) (2.11.3)\n",
            "Requirement already satisfied: msgpack>=0.6.0 in /usr/local/lib/python3.8/dist-packages (from distributed>=2012.12->auto-sklearn) (1.0.4)\n",
            "Requirement already satisfied: sortedcontainers!=2.0.0,!=2.0.1 in /usr/local/lib/python3.8/dist-packages (from distributed>=2012.12->auto-sklearn) (2.4.0)\n",
            "Requirement already satisfied: pytz>=2017.3 in /usr/local/lib/python3.8/dist-packages (from pandas>=1.0->auto-sklearn) (2022.7.1)\n",
            "Requirement already satisfied: python-dateutil>=2.7.3 in /usr/local/lib/python3.8/dist-packages (from pandas>=1.0->auto-sklearn) (2.8.2)\n",
            "Requirement already satisfied: emcee>=3.0.0 in /usr/local/lib/python3.8/dist-packages (from smac<1.3,>=1.2->auto-sklearn) (3.1.4)\n",
            "Requirement already satisfied: locket in /usr/local/lib/python3.8/dist-packages (from partd>=0.3.10->dask>=2021.12->auto-sklearn) (1.0.0)\n",
            "Requirement already satisfied: six>=1.5 in /usr/local/lib/python3.8/dist-packages (from python-dateutil>=2.7.3->pandas>=1.0->auto-sklearn) (1.15.0)\n",
            "Requirement already satisfied: heapdict in /usr/local/lib/python3.8/dist-packages (from zict>=0.1.3->distributed>=2012.12->auto-sklearn) (1.0.1)\n",
            "Requirement already satisfied: MarkupSafe>=0.23 in /usr/local/lib/python3.8/dist-packages (from jinja2->distributed>=2012.12->auto-sklearn) (2.0.1)\n",
            "Looking in indexes: https://pypi.org/simple, https://us-python.pkg.dev/colab-wheels/public/simple/\n",
            "Requirement already satisfied: scipy in /usr/local/lib/python3.8/dist-packages (1.10.0)\n",
            "Requirement already satisfied: numpy<1.27.0,>=1.19.5 in /usr/local/lib/python3.8/dist-packages (from scipy) (1.21.6)\n"
          ]
        }
      ],
      "source": [
        "!sudo apt-get install build-essential swig\n",
        "!curl https://raw.githubusercontent.com/automl/auto-sklearn/master/requirements.txt | xargs -n 1 -L 1 pip install\n",
        "!pip install auto-sklearn\n",
        "!pip install --upgrade scipy"
      ]
    },
    {
      "cell_type": "markdown",
      "metadata": {
        "id": "qHcegiggHnqo"
      },
      "source": [
        "# 3. 자동화 실습\n",
        "## 분류 모델 학습 자동화 : 예제 데이터 불러오기"
      ]
    },
    {
      "cell_type": "code",
      "execution_count": 6,
      "metadata": {
        "id": "iQq6Jn4PHnqp"
      },
      "outputs": [],
      "source": [
        "from sklearn.datasets import load_breast_cancer\n",
        "from sklearn.model_selection import train_test_split\n",
        "X, y = load_breast_cancer(return_X_y = True)\n",
        "X_train, X_test, y_train, y_test = train_test_split(X, y, random_state = 2022)"
      ]
    },
    {
      "cell_type": "markdown",
      "metadata": {
        "id": "Shz_5ADmHnqq"
      },
      "source": [
        "- 라인 3: 사이킷런에서 제공하는 breast_cancer 데이터를 load_breast_cancer 함수를 사용해\n",
        "불러옵니다."
      ]
    },
    {
      "cell_type": "markdown",
      "metadata": {
        "id": "IZ1Hxe_cHnqq"
      },
      "source": [
        "## 분류 모델 학습 자동화 : AutoSklearnClassifier\n",
        "분류 모델을 자동으로 학습하는 데 사용하는 클래스는 classification 모듈의 AutoSklearnClassifier 입니다."
      ]
    },
    {
      "cell_type": "markdown",
      "metadata": {
        "id": "L3seDKM7Hnqr"
      },
      "source": [
        "주요 인자"
      ]
    },
    {
      "cell_type": "markdown",
      "metadata": {
        "id": "271noBX4Hnqs"
      },
      "source": [
        "|인자|설명|\n",
        "|---|---|\n",
        "|time_left_for_this_task|모델과 하이퍼파라미터를 탐색하는 시간에 대한 제약으로 기본값은 한 시간(3600)|\n",
        "|ensemble_size|앙상블에 포함된 모델 수로, 0으로 설정하면 앙상블 모델을 학습하지 않음|\n",
        "|include|탐색에 반드시 포함하는 모델 및 전처리 단계를 사전 형태로 정의함|\n",
        "|scoring_functions|각 모델을 평가할 함수 목록|\n"
      ]
    },
    {
      "cell_type": "markdown",
      "metadata": {
        "id": "XGIZOrsgHnqs"
      },
      "source": [
        "인스턴스 생성"
      ]
    },
    {
      "cell_type": "code",
      "execution_count": 10,
      "metadata": {
        "id": "e-U2_fg9Hnqt"
      },
      "outputs": [],
      "source": [
        "from autosklearn.classification import AutoSklearnClassifier as ASC\n",
        "from autosklearn.metrics import *\n",
        "automl = ASC(time_left_for_this_task = 600,\n",
        "            scoring_functions = [accuracy, f1])"
      ]
    },
    {
      "cell_type": "markdown",
      "metadata": {
        "id": "7-sj80r2Hnqt"
      },
      "source": [
        "- 라인 1 ~ 4: 최대 10분간 특별한 제약 없이 정확도와 F1 점수를 기준으로 모델과 하이퍼파라미터를 탐색하는 인스턴스를 다음과 같이 생성하겠습니다.\n",
        "- 라인 4: scoring_fuctions 인자에 autosklearn.metrics의 accuracy와 f1 함수를 입력합니다."
      ]
    },
    {
      "cell_type": "markdown",
      "metadata": {
        "id": "mINY9CVLHnqu"
      },
      "source": [
        "# 분류 모델 학습 자동화\n",
        "AutoSklearnClassifier 클래스의 인스턴스는 다음과 같이 fit 메서드로 학습하며, 학습 결과는 leaderboard 메서드를 이용해 확인할 수 있습니다."
      ]
    },
    {
      "cell_type": "markdown",
      "metadata": {
        "id": "wQV6Tp5fHnqu"
      },
      "source": [
        "분류 모델 학습 자동화 수행"
      ]
    },
    {
      "cell_type": "code",
      "execution_count": 11,
      "metadata": {
        "id": "ITsgXxQ3Hnqv",
        "outputId": "1d01745b-ef93-4b56-c19c-27726cce9c00",
        "colab": {
          "base_uri": "https://localhost:8080/",
          "height": 864
        }
      },
      "outputs": [
        {
          "output_type": "execute_result",
          "data": {
            "text/plain": [
              "          rank  ensemble_weight               type      cost   duration\n",
              "model_id                                                               \n",
              "3            2             0.02                mlp  0.028369   1.261853\n",
              "37           1             0.02                mlp  0.028369   3.493161\n",
              "56           5             0.02                mlp  0.028369   4.220413\n",
              "75           4             0.02                mlp  0.028369   2.885903\n",
              "78           3             0.08                mlp  0.028369   1.303404\n",
              "106          6             0.02                mlp  0.028369   3.172312\n",
              "7           12             0.02        extra_trees  0.035461   1.652680\n",
              "13          11             0.02  gradient_boosting  0.035461   1.525114\n",
              "36           9             0.02                mlp  0.035461   3.051765\n",
              "40           8             0.04                mlp  0.035461   2.759223\n",
              "84           7             0.04                mlp  0.035461   1.229023\n",
              "112         10             0.04                mlp  0.035461   5.737050\n",
              "2           18             0.06      random_forest  0.042553   2.118718\n",
              "15          15             0.04                mlp  0.042553   2.707510\n",
              "20          14             0.06        extra_trees  0.042553   3.142468\n",
              "31          13             0.02                mlp  0.042553   2.559098\n",
              "43          16             0.02                mlp  0.042553   1.000182\n",
              "49          17             0.10      random_forest  0.042553   1.954186\n",
              "8           22             0.04      random_forest  0.049645   3.592578\n",
              "11          21             0.04      random_forest  0.049645   2.301059\n",
              "17          19             0.08  gradient_boosting  0.049645   1.678023\n",
              "25          25             0.08        extra_trees  0.049645   2.766984\n",
              "42          20             0.04                mlp  0.049645   2.044619\n",
              "81          23             0.04                mlp  0.049645   1.971307\n",
              "103         24             0.02  gradient_boosting  0.049645  22.505318"
            ],
            "text/html": [
              "\n",
              "  <div id=\"df-0e9397b6-e05f-432c-905a-9d504ebc4060\">\n",
              "    <div class=\"colab-df-container\">\n",
              "      <div>\n",
              "<style scoped>\n",
              "    .dataframe tbody tr th:only-of-type {\n",
              "        vertical-align: middle;\n",
              "    }\n",
              "\n",
              "    .dataframe tbody tr th {\n",
              "        vertical-align: top;\n",
              "    }\n",
              "\n",
              "    .dataframe thead th {\n",
              "        text-align: right;\n",
              "    }\n",
              "</style>\n",
              "<table border=\"1\" class=\"dataframe\">\n",
              "  <thead>\n",
              "    <tr style=\"text-align: right;\">\n",
              "      <th></th>\n",
              "      <th>rank</th>\n",
              "      <th>ensemble_weight</th>\n",
              "      <th>type</th>\n",
              "      <th>cost</th>\n",
              "      <th>duration</th>\n",
              "    </tr>\n",
              "    <tr>\n",
              "      <th>model_id</th>\n",
              "      <th></th>\n",
              "      <th></th>\n",
              "      <th></th>\n",
              "      <th></th>\n",
              "      <th></th>\n",
              "    </tr>\n",
              "  </thead>\n",
              "  <tbody>\n",
              "    <tr>\n",
              "      <th>3</th>\n",
              "      <td>2</td>\n",
              "      <td>0.02</td>\n",
              "      <td>mlp</td>\n",
              "      <td>0.028369</td>\n",
              "      <td>1.261853</td>\n",
              "    </tr>\n",
              "    <tr>\n",
              "      <th>37</th>\n",
              "      <td>1</td>\n",
              "      <td>0.02</td>\n",
              "      <td>mlp</td>\n",
              "      <td>0.028369</td>\n",
              "      <td>3.493161</td>\n",
              "    </tr>\n",
              "    <tr>\n",
              "      <th>56</th>\n",
              "      <td>5</td>\n",
              "      <td>0.02</td>\n",
              "      <td>mlp</td>\n",
              "      <td>0.028369</td>\n",
              "      <td>4.220413</td>\n",
              "    </tr>\n",
              "    <tr>\n",
              "      <th>75</th>\n",
              "      <td>4</td>\n",
              "      <td>0.02</td>\n",
              "      <td>mlp</td>\n",
              "      <td>0.028369</td>\n",
              "      <td>2.885903</td>\n",
              "    </tr>\n",
              "    <tr>\n",
              "      <th>78</th>\n",
              "      <td>3</td>\n",
              "      <td>0.08</td>\n",
              "      <td>mlp</td>\n",
              "      <td>0.028369</td>\n",
              "      <td>1.303404</td>\n",
              "    </tr>\n",
              "    <tr>\n",
              "      <th>106</th>\n",
              "      <td>6</td>\n",
              "      <td>0.02</td>\n",
              "      <td>mlp</td>\n",
              "      <td>0.028369</td>\n",
              "      <td>3.172312</td>\n",
              "    </tr>\n",
              "    <tr>\n",
              "      <th>7</th>\n",
              "      <td>12</td>\n",
              "      <td>0.02</td>\n",
              "      <td>extra_trees</td>\n",
              "      <td>0.035461</td>\n",
              "      <td>1.652680</td>\n",
              "    </tr>\n",
              "    <tr>\n",
              "      <th>13</th>\n",
              "      <td>11</td>\n",
              "      <td>0.02</td>\n",
              "      <td>gradient_boosting</td>\n",
              "      <td>0.035461</td>\n",
              "      <td>1.525114</td>\n",
              "    </tr>\n",
              "    <tr>\n",
              "      <th>36</th>\n",
              "      <td>9</td>\n",
              "      <td>0.02</td>\n",
              "      <td>mlp</td>\n",
              "      <td>0.035461</td>\n",
              "      <td>3.051765</td>\n",
              "    </tr>\n",
              "    <tr>\n",
              "      <th>40</th>\n",
              "      <td>8</td>\n",
              "      <td>0.04</td>\n",
              "      <td>mlp</td>\n",
              "      <td>0.035461</td>\n",
              "      <td>2.759223</td>\n",
              "    </tr>\n",
              "    <tr>\n",
              "      <th>84</th>\n",
              "      <td>7</td>\n",
              "      <td>0.04</td>\n",
              "      <td>mlp</td>\n",
              "      <td>0.035461</td>\n",
              "      <td>1.229023</td>\n",
              "    </tr>\n",
              "    <tr>\n",
              "      <th>112</th>\n",
              "      <td>10</td>\n",
              "      <td>0.04</td>\n",
              "      <td>mlp</td>\n",
              "      <td>0.035461</td>\n",
              "      <td>5.737050</td>\n",
              "    </tr>\n",
              "    <tr>\n",
              "      <th>2</th>\n",
              "      <td>18</td>\n",
              "      <td>0.06</td>\n",
              "      <td>random_forest</td>\n",
              "      <td>0.042553</td>\n",
              "      <td>2.118718</td>\n",
              "    </tr>\n",
              "    <tr>\n",
              "      <th>15</th>\n",
              "      <td>15</td>\n",
              "      <td>0.04</td>\n",
              "      <td>mlp</td>\n",
              "      <td>0.042553</td>\n",
              "      <td>2.707510</td>\n",
              "    </tr>\n",
              "    <tr>\n",
              "      <th>20</th>\n",
              "      <td>14</td>\n",
              "      <td>0.06</td>\n",
              "      <td>extra_trees</td>\n",
              "      <td>0.042553</td>\n",
              "      <td>3.142468</td>\n",
              "    </tr>\n",
              "    <tr>\n",
              "      <th>31</th>\n",
              "      <td>13</td>\n",
              "      <td>0.02</td>\n",
              "      <td>mlp</td>\n",
              "      <td>0.042553</td>\n",
              "      <td>2.559098</td>\n",
              "    </tr>\n",
              "    <tr>\n",
              "      <th>43</th>\n",
              "      <td>16</td>\n",
              "      <td>0.02</td>\n",
              "      <td>mlp</td>\n",
              "      <td>0.042553</td>\n",
              "      <td>1.000182</td>\n",
              "    </tr>\n",
              "    <tr>\n",
              "      <th>49</th>\n",
              "      <td>17</td>\n",
              "      <td>0.10</td>\n",
              "      <td>random_forest</td>\n",
              "      <td>0.042553</td>\n",
              "      <td>1.954186</td>\n",
              "    </tr>\n",
              "    <tr>\n",
              "      <th>8</th>\n",
              "      <td>22</td>\n",
              "      <td>0.04</td>\n",
              "      <td>random_forest</td>\n",
              "      <td>0.049645</td>\n",
              "      <td>3.592578</td>\n",
              "    </tr>\n",
              "    <tr>\n",
              "      <th>11</th>\n",
              "      <td>21</td>\n",
              "      <td>0.04</td>\n",
              "      <td>random_forest</td>\n",
              "      <td>0.049645</td>\n",
              "      <td>2.301059</td>\n",
              "    </tr>\n",
              "    <tr>\n",
              "      <th>17</th>\n",
              "      <td>19</td>\n",
              "      <td>0.08</td>\n",
              "      <td>gradient_boosting</td>\n",
              "      <td>0.049645</td>\n",
              "      <td>1.678023</td>\n",
              "    </tr>\n",
              "    <tr>\n",
              "      <th>25</th>\n",
              "      <td>25</td>\n",
              "      <td>0.08</td>\n",
              "      <td>extra_trees</td>\n",
              "      <td>0.049645</td>\n",
              "      <td>2.766984</td>\n",
              "    </tr>\n",
              "    <tr>\n",
              "      <th>42</th>\n",
              "      <td>20</td>\n",
              "      <td>0.04</td>\n",
              "      <td>mlp</td>\n",
              "      <td>0.049645</td>\n",
              "      <td>2.044619</td>\n",
              "    </tr>\n",
              "    <tr>\n",
              "      <th>81</th>\n",
              "      <td>23</td>\n",
              "      <td>0.04</td>\n",
              "      <td>mlp</td>\n",
              "      <td>0.049645</td>\n",
              "      <td>1.971307</td>\n",
              "    </tr>\n",
              "    <tr>\n",
              "      <th>103</th>\n",
              "      <td>24</td>\n",
              "      <td>0.02</td>\n",
              "      <td>gradient_boosting</td>\n",
              "      <td>0.049645</td>\n",
              "      <td>22.505318</td>\n",
              "    </tr>\n",
              "  </tbody>\n",
              "</table>\n",
              "</div>\n",
              "      <button class=\"colab-df-convert\" onclick=\"convertToInteractive('df-0e9397b6-e05f-432c-905a-9d504ebc4060')\"\n",
              "              title=\"Convert this dataframe to an interactive table.\"\n",
              "              style=\"display:none;\">\n",
              "        \n",
              "  <svg xmlns=\"http://www.w3.org/2000/svg\" height=\"24px\"viewBox=\"0 0 24 24\"\n",
              "       width=\"24px\">\n",
              "    <path d=\"M0 0h24v24H0V0z\" fill=\"none\"/>\n",
              "    <path d=\"M18.56 5.44l.94 2.06.94-2.06 2.06-.94-2.06-.94-.94-2.06-.94 2.06-2.06.94zm-11 1L8.5 8.5l.94-2.06 2.06-.94-2.06-.94L8.5 2.5l-.94 2.06-2.06.94zm10 10l.94 2.06.94-2.06 2.06-.94-2.06-.94-.94-2.06-.94 2.06-2.06.94z\"/><path d=\"M17.41 7.96l-1.37-1.37c-.4-.4-.92-.59-1.43-.59-.52 0-1.04.2-1.43.59L10.3 9.45l-7.72 7.72c-.78.78-.78 2.05 0 2.83L4 21.41c.39.39.9.59 1.41.59.51 0 1.02-.2 1.41-.59l7.78-7.78 2.81-2.81c.8-.78.8-2.07 0-2.86zM5.41 20L4 18.59l7.72-7.72 1.47 1.35L5.41 20z\"/>\n",
              "  </svg>\n",
              "      </button>\n",
              "      \n",
              "  <style>\n",
              "    .colab-df-container {\n",
              "      display:flex;\n",
              "      flex-wrap:wrap;\n",
              "      gap: 12px;\n",
              "    }\n",
              "\n",
              "    .colab-df-convert {\n",
              "      background-color: #E8F0FE;\n",
              "      border: none;\n",
              "      border-radius: 50%;\n",
              "      cursor: pointer;\n",
              "      display: none;\n",
              "      fill: #1967D2;\n",
              "      height: 32px;\n",
              "      padding: 0 0 0 0;\n",
              "      width: 32px;\n",
              "    }\n",
              "\n",
              "    .colab-df-convert:hover {\n",
              "      background-color: #E2EBFA;\n",
              "      box-shadow: 0px 1px 2px rgba(60, 64, 67, 0.3), 0px 1px 3px 1px rgba(60, 64, 67, 0.15);\n",
              "      fill: #174EA6;\n",
              "    }\n",
              "\n",
              "    [theme=dark] .colab-df-convert {\n",
              "      background-color: #3B4455;\n",
              "      fill: #D2E3FC;\n",
              "    }\n",
              "\n",
              "    [theme=dark] .colab-df-convert:hover {\n",
              "      background-color: #434B5C;\n",
              "      box-shadow: 0px 1px 3px 1px rgba(0, 0, 0, 0.15);\n",
              "      filter: drop-shadow(0px 1px 2px rgba(0, 0, 0, 0.3));\n",
              "      fill: #FFFFFF;\n",
              "    }\n",
              "  </style>\n",
              "\n",
              "      <script>\n",
              "        const buttonEl =\n",
              "          document.querySelector('#df-0e9397b6-e05f-432c-905a-9d504ebc4060 button.colab-df-convert');\n",
              "        buttonEl.style.display =\n",
              "          google.colab.kernel.accessAllowed ? 'block' : 'none';\n",
              "\n",
              "        async function convertToInteractive(key) {\n",
              "          const element = document.querySelector('#df-0e9397b6-e05f-432c-905a-9d504ebc4060');\n",
              "          const dataTable =\n",
              "            await google.colab.kernel.invokeFunction('convertToInteractive',\n",
              "                                                     [key], {});\n",
              "          if (!dataTable) return;\n",
              "\n",
              "          const docLinkHtml = 'Like what you see? Visit the ' +\n",
              "            '<a target=\"_blank\" href=https://colab.research.google.com/notebooks/data_table.ipynb>data table notebook</a>'\n",
              "            + ' to learn more about interactive tables.';\n",
              "          element.innerHTML = '';\n",
              "          dataTable['output_type'] = 'display_data';\n",
              "          await google.colab.output.renderOutput(dataTable, element);\n",
              "          const docLink = document.createElement('div');\n",
              "          docLink.innerHTML = docLinkHtml;\n",
              "          element.appendChild(docLink);\n",
              "        }\n",
              "      </script>\n",
              "    </div>\n",
              "  </div>\n",
              "  "
            ]
          },
          "metadata": {},
          "execution_count": 11
        }
      ],
      "source": [
        "automl.fit(X_train, y_train)\n",
        "automl.leaderboard()"
      ]
    },
    {
      "cell_type": "markdown",
      "metadata": {
        "id": "75a9lOM-Hnqv"
      },
      "source": [
        "- rank: cost를기준으로매긴순위\n",
        "- ensemble_weight: 각모델이앙상블에서차지하는비율\n",
        "- type: 모델유형\n",
        "- cost: k-겹교차검증에서검증용데이터로계산한비용\n",
        "- duration: 모델을학습하는데소요된시간(초)"
      ]
    },
    {
      "cell_type": "markdown",
      "metadata": {
        "id": "Y_sFtyGUHnqw"
      },
      "source": [
        "## 앙상블 모델 평가\n",
        "학습한 앙상블을 평가 데이터로 평가하겠습니다."
      ]
    },
    {
      "cell_type": "code",
      "execution_count": 14,
      "metadata": {
        "id": "WnhvYCAiHnqw",
        "outputId": "23efcf32-b20c-47a3-df73-7ddd7fdf3561",
        "colab": {
          "base_uri": "https://localhost:8080/"
        }
      },
      "outputs": [
        {
          "output_type": "stream",
          "name": "stdout",
          "text": [
            "0.9770114942528736\n"
          ]
        }
      ],
      "source": [
        "from sklearn.metrics import f1_score\n",
        "y_pred = automl.predict(X_test)\n",
        "score = f1_score(y_test, y_pred)\n",
        "print(score)"
      ]
    },
    {
      "cell_type": "markdown",
      "metadata": {
        "id": "WckxP5NvHnqx"
      },
      "source": [
        "## 회귀 모델 학습 자동화 : 예제 데이터 불러오기\n",
        "회귀 모델 학습 자동화를 실습할 예제 데이터를 불러옵니다."
      ]
    },
    {
      "cell_type": "code",
      "execution_count": 15,
      "metadata": {
        "id": "Mdu5jHUvHnqx"
      },
      "outputs": [],
      "source": [
        "from sklearn.datasets import load_boston\n",
        "X, y = load_boston(return_X_y = True)\n",
        "X_train, X_test, y_train, y_test = train_test_split(X, y, random_state = 2022)"
      ]
    },
    {
      "cell_type": "markdown",
      "metadata": {
        "id": "wDUNaQuKHnqy"
      },
      "source": [
        "## 회귀 모델 학습 자동화\n",
        "autosklearn.regression의 AutoSklearnRegressor를 불러와 신경망 모델 학습을 자동화해보겠습니다"
      ]
    },
    {
      "cell_type": "code",
      "execution_count": 16,
      "metadata": {
        "id": "68W0Fw2xHnq0",
        "outputId": "15c1c2a6-c542-48df-d337-e6504ac10e37",
        "colab": {
          "base_uri": "https://localhost:8080/"
        }
      },
      "outputs": [
        {
          "output_type": "stream",
          "name": "stdout",
          "text": [
            "[WARNING] [2023-02-14 13:47:39,412:Client-AutoMLSMBO(1)::245c64b9-ac6e-11ed-80ae-0242ac1c000c] Configuration 270 not found\n",
            "[WARNING] [2023-02-14 13:47:39,412:Client-AutoMLSMBO(1)::245c64b9-ac6e-11ed-80ae-0242ac1c000c] Configuration 86 not found\n",
            "[WARNING] [2023-02-14 13:47:39,412:Client-AutoMLSMBO(1)::245c64b9-ac6e-11ed-80ae-0242ac1c000c] Configuration 163 not found\n",
            "[WARNING] [2023-02-14 13:47:39,413:Client-AutoMLSMBO(1)::245c64b9-ac6e-11ed-80ae-0242ac1c000c] Configuration 235 not found\n",
            "[WARNING] [2023-02-14 13:47:39,413:Client-AutoMLSMBO(1)::245c64b9-ac6e-11ed-80ae-0242ac1c000c] Configuration 140 not found\n",
            "[WARNING] [2023-02-14 13:47:39,413:Client-AutoMLSMBO(1)::245c64b9-ac6e-11ed-80ae-0242ac1c000c] Configuration 7 not found\n",
            "[WARNING] [2023-02-14 13:47:39,413:Client-AutoMLSMBO(1)::245c64b9-ac6e-11ed-80ae-0242ac1c000c] Configuration 176 not found\n",
            "[WARNING] [2023-02-14 13:47:39,413:Client-AutoMLSMBO(1)::245c64b9-ac6e-11ed-80ae-0242ac1c000c] Configuration 245 not found\n",
            "[WARNING] [2023-02-14 13:47:39,413:Client-AutoMLSMBO(1)::245c64b9-ac6e-11ed-80ae-0242ac1c000c] Configuration 34 not found\n",
            "[WARNING] [2023-02-14 13:47:39,413:Client-AutoMLSMBO(1)::245c64b9-ac6e-11ed-80ae-0242ac1c000c] Configuration 67 not found\n",
            "[WARNING] [2023-02-14 13:47:39,413:Client-AutoMLSMBO(1)::245c64b9-ac6e-11ed-80ae-0242ac1c000c] Configuration 57 not found\n",
            "[WARNING] [2023-02-14 13:47:39,413:Client-AutoMLSMBO(1)::245c64b9-ac6e-11ed-80ae-0242ac1c000c] Configuration 197 not found\n",
            "[WARNING] [2023-02-14 13:47:39,413:Client-AutoMLSMBO(1)::245c64b9-ac6e-11ed-80ae-0242ac1c000c] Configuration 98 not found\n",
            "[WARNING] [2023-02-14 13:47:39,413:Client-AutoMLSMBO(1)::245c64b9-ac6e-11ed-80ae-0242ac1c000c] Configuration 262 not found\n",
            "[WARNING] [2023-02-14 13:47:39,413:Client-AutoMLSMBO(1)::245c64b9-ac6e-11ed-80ae-0242ac1c000c] Configuration 237 not found\n",
            "[WARNING] [2023-02-14 13:47:39,413:Client-AutoMLSMBO(1)::245c64b9-ac6e-11ed-80ae-0242ac1c000c] Configuration 266 not found\n",
            "[WARNING] [2023-02-14 13:47:39,413:Client-AutoMLSMBO(1)::245c64b9-ac6e-11ed-80ae-0242ac1c000c] Configuration 171 not found\n",
            "[WARNING] [2023-02-14 13:47:39,413:Client-AutoMLSMBO(1)::245c64b9-ac6e-11ed-80ae-0242ac1c000c] Configuration 17 not found\n",
            "[WARNING] [2023-02-14 13:47:39,413:Client-AutoMLSMBO(1)::245c64b9-ac6e-11ed-80ae-0242ac1c000c] Configuration 240 not found\n",
            "[WARNING] [2023-02-14 13:47:39,413:Client-AutoMLSMBO(1)::245c64b9-ac6e-11ed-80ae-0242ac1c000c] Configuration 119 not found\n",
            "[WARNING] [2023-02-14 13:47:39,413:Client-AutoMLSMBO(1)::245c64b9-ac6e-11ed-80ae-0242ac1c000c] Configuration 247 not found\n",
            "[WARNING] [2023-02-14 13:47:39,413:Client-AutoMLSMBO(1)::245c64b9-ac6e-11ed-80ae-0242ac1c000c] Configuration 124 not found\n",
            "[WARNING] [2023-02-14 13:47:39,413:Client-AutoMLSMBO(1)::245c64b9-ac6e-11ed-80ae-0242ac1c000c] Configuration 232 not found\n",
            "[WARNING] [2023-02-14 13:47:39,413:Client-AutoMLSMBO(1)::245c64b9-ac6e-11ed-80ae-0242ac1c000c] Configuration 117 not found\n",
            "[WARNING] [2023-02-14 13:47:39,413:Client-AutoMLSMBO(1)::245c64b9-ac6e-11ed-80ae-0242ac1c000c] Configuration 132 not found\n",
            "[WARNING] [2023-02-14 13:47:39,413:Client-AutoMLSMBO(1)::245c64b9-ac6e-11ed-80ae-0242ac1c000c] Configuration 268 not found\n",
            "[WARNING] [2023-02-14 13:47:39,413:Client-AutoMLSMBO(1)::245c64b9-ac6e-11ed-80ae-0242ac1c000c] Configuration 258 not found\n",
            "[WARNING] [2023-02-14 13:47:39,413:Client-AutoMLSMBO(1)::245c64b9-ac6e-11ed-80ae-0242ac1c000c] Configuration 43 not found\n",
            "[WARNING] [2023-02-14 13:47:39,413:Client-AutoMLSMBO(1)::245c64b9-ac6e-11ed-80ae-0242ac1c000c] Configuration 282 not found\n",
            "[WARNING] [2023-02-14 13:47:39,414:Client-AutoMLSMBO(1)::245c64b9-ac6e-11ed-80ae-0242ac1c000c] Configuration 23 not found\n",
            "[WARNING] [2023-02-14 13:47:39,414:Client-AutoMLSMBO(1)::245c64b9-ac6e-11ed-80ae-0242ac1c000c] Configuration 158 not found\n",
            "[WARNING] [2023-02-14 13:47:39,414:Client-AutoMLSMBO(1)::245c64b9-ac6e-11ed-80ae-0242ac1c000c] Configuration 58 not found\n",
            "[WARNING] [2023-02-14 13:47:39,414:Client-AutoMLSMBO(1)::245c64b9-ac6e-11ed-80ae-0242ac1c000c] Configuration 2 not found\n",
            "[WARNING] [2023-02-14 13:47:39,414:Client-AutoMLSMBO(1)::245c64b9-ac6e-11ed-80ae-0242ac1c000c] Configuration 138 not found\n",
            "[WARNING] [2023-02-14 13:47:39,414:Client-AutoMLSMBO(1)::245c64b9-ac6e-11ed-80ae-0242ac1c000c] Configuration 191 not found\n",
            "[WARNING] [2023-02-14 13:47:39,414:Client-AutoMLSMBO(1)::245c64b9-ac6e-11ed-80ae-0242ac1c000c] Configuration 276 not found\n",
            "[WARNING] [2023-02-14 13:47:39,414:Client-AutoMLSMBO(1)::245c64b9-ac6e-11ed-80ae-0242ac1c000c] Configuration 40 not found\n",
            "[WARNING] [2023-02-14 13:47:39,414:Client-AutoMLSMBO(1)::245c64b9-ac6e-11ed-80ae-0242ac1c000c] Configuration 10 not found\n",
            "[WARNING] [2023-02-14 13:47:39,414:Client-AutoMLSMBO(1)::245c64b9-ac6e-11ed-80ae-0242ac1c000c] Configuration 77 not found\n",
            "[WARNING] [2023-02-14 13:47:39,414:Client-AutoMLSMBO(1)::245c64b9-ac6e-11ed-80ae-0242ac1c000c] Configuration 19 not found\n",
            "[WARNING] [2023-02-14 13:47:39,414:Client-AutoMLSMBO(1)::245c64b9-ac6e-11ed-80ae-0242ac1c000c] Configuration 79 not found\n",
            "[WARNING] [2023-02-14 13:47:39,414:Client-AutoMLSMBO(1)::245c64b9-ac6e-11ed-80ae-0242ac1c000c] Configuration 115 not found\n",
            "[WARNING] [2023-02-14 13:47:39,414:Client-AutoMLSMBO(1)::245c64b9-ac6e-11ed-80ae-0242ac1c000c] Configuration 70 not found\n",
            "[WARNING] [2023-02-14 13:47:39,414:Client-AutoMLSMBO(1)::245c64b9-ac6e-11ed-80ae-0242ac1c000c] Configuration 26 not found\n",
            "[WARNING] [2023-02-14 13:47:39,414:Client-AutoMLSMBO(1)::245c64b9-ac6e-11ed-80ae-0242ac1c000c] Configuration 150 not found\n",
            "[WARNING] [2023-02-14 13:47:39,415:Client-AutoMLSMBO(1)::245c64b9-ac6e-11ed-80ae-0242ac1c000c] Configuration 28 not found\n",
            "[WARNING] [2023-02-14 13:47:39,415:Client-AutoMLSMBO(1)::245c64b9-ac6e-11ed-80ae-0242ac1c000c] Configuration 186 not found\n",
            "[WARNING] [2023-02-14 13:47:39,415:Client-AutoMLSMBO(1)::245c64b9-ac6e-11ed-80ae-0242ac1c000c] Configuration 95 not found\n",
            "[WARNING] [2023-02-14 13:47:39,415:Client-AutoMLSMBO(1)::245c64b9-ac6e-11ed-80ae-0242ac1c000c] Configuration 184 not found\n",
            "[WARNING] [2023-02-14 13:47:39,415:Client-AutoMLSMBO(1)::245c64b9-ac6e-11ed-80ae-0242ac1c000c] Configuration 54 not found\n",
            "[WARNING] [2023-02-14 13:47:39,415:Client-AutoMLSMBO(1)::245c64b9-ac6e-11ed-80ae-0242ac1c000c] Configuration 174 not found\n",
            "[WARNING] [2023-02-14 13:47:39,415:Client-AutoMLSMBO(1)::245c64b9-ac6e-11ed-80ae-0242ac1c000c] Configuration 73 not found\n",
            "[WARNING] [2023-02-14 13:47:39,415:Client-AutoMLSMBO(1)::245c64b9-ac6e-11ed-80ae-0242ac1c000c] Configuration 279 not found\n",
            "[WARNING] [2023-02-14 13:47:39,415:Client-AutoMLSMBO(1)::245c64b9-ac6e-11ed-80ae-0242ac1c000c] Configuration 199 not found\n",
            "[WARNING] [2023-02-14 13:47:39,415:Client-AutoMLSMBO(1)::245c64b9-ac6e-11ed-80ae-0242ac1c000c] Configuration 6 not found\n",
            "[WARNING] [2023-02-14 13:47:39,415:Client-AutoMLSMBO(1)::245c64b9-ac6e-11ed-80ae-0242ac1c000c] Configuration 89 not found\n",
            "[WARNING] [2023-02-14 13:47:39,415:Client-AutoMLSMBO(1)::245c64b9-ac6e-11ed-80ae-0242ac1c000c] Configuration 214 not found\n",
            "[WARNING] [2023-02-14 13:47:39,415:Client-AutoMLSMBO(1)::245c64b9-ac6e-11ed-80ae-0242ac1c000c] Configuration 257 not found\n",
            "[WARNING] [2023-02-14 13:47:39,416:Client-AutoMLSMBO(1)::245c64b9-ac6e-11ed-80ae-0242ac1c000c] Configuration 126 not found\n",
            "[WARNING] [2023-02-14 13:47:39,416:Client-AutoMLSMBO(1)::245c64b9-ac6e-11ed-80ae-0242ac1c000c] Configuration 107 not found\n",
            "[WARNING] [2023-02-14 13:47:39,416:Client-AutoMLSMBO(1)::245c64b9-ac6e-11ed-80ae-0242ac1c000c] Configuration 66 not found\n",
            "[WARNING] [2023-02-14 13:47:39,416:Client-AutoMLSMBO(1)::245c64b9-ac6e-11ed-80ae-0242ac1c000c] Configuration 207 not found\n",
            "[WARNING] [2023-02-14 13:47:39,416:Client-AutoMLSMBO(1)::245c64b9-ac6e-11ed-80ae-0242ac1c000c] Configuration 217 not found\n",
            "[WARNING] [2023-02-14 13:47:39,416:Client-AutoMLSMBO(1)::245c64b9-ac6e-11ed-80ae-0242ac1c000c] Configuration 31 not found\n",
            "[WARNING] [2023-02-14 13:47:39,416:Client-AutoMLSMBO(1)::245c64b9-ac6e-11ed-80ae-0242ac1c000c] Configuration 82 not found\n",
            "[WARNING] [2023-02-14 13:47:39,416:Client-AutoMLSMBO(1)::245c64b9-ac6e-11ed-80ae-0242ac1c000c] Configuration 102 not found\n",
            "[WARNING] [2023-02-14 13:47:39,416:Client-AutoMLSMBO(1)::245c64b9-ac6e-11ed-80ae-0242ac1c000c] Configuration 156 not found\n",
            "[WARNING] [2023-02-14 13:47:39,416:Client-AutoMLSMBO(1)::245c64b9-ac6e-11ed-80ae-0242ac1c000c] Configuration 182 not found\n",
            "[WARNING] [2023-02-14 13:47:39,416:Client-AutoMLSMBO(1)::245c64b9-ac6e-11ed-80ae-0242ac1c000c] Configuration 39 not found\n",
            "[WARNING] [2023-02-14 13:47:39,416:Client-AutoMLSMBO(1)::245c64b9-ac6e-11ed-80ae-0242ac1c000c] Configuration 63 not found\n",
            "[WARNING] [2023-02-14 13:47:39,416:Client-AutoMLSMBO(1)::245c64b9-ac6e-11ed-80ae-0242ac1c000c] Configuration 101 not found\n",
            "[WARNING] [2023-02-14 13:47:39,416:Client-AutoMLSMBO(1)::245c64b9-ac6e-11ed-80ae-0242ac1c000c] Configuration 201 not found\n",
            "[WARNING] [2023-02-14 13:47:39,416:Client-AutoMLSMBO(1)::245c64b9-ac6e-11ed-80ae-0242ac1c000c] Configuration 274 not found\n",
            "[WARNING] [2023-02-14 13:47:39,416:Client-AutoMLSMBO(1)::245c64b9-ac6e-11ed-80ae-0242ac1c000c] Configuration 211 not found\n",
            "[WARNING] [2023-02-14 13:47:39,416:Client-AutoMLSMBO(1)::245c64b9-ac6e-11ed-80ae-0242ac1c000c] Configuration 160 not found\n",
            "[WARNING] [2023-02-14 13:47:39,416:Client-AutoMLSMBO(1)::245c64b9-ac6e-11ed-80ae-0242ac1c000c] Configuration 224 not found\n",
            "[WARNING] [2023-02-14 13:47:39,416:Client-AutoMLSMBO(1)::245c64b9-ac6e-11ed-80ae-0242ac1c000c] Configuration 48 not found\n",
            "[WARNING] [2023-02-14 13:47:39,416:Client-AutoMLSMBO(1)::245c64b9-ac6e-11ed-80ae-0242ac1c000c] Configuration 285 not found\n",
            "[WARNING] [2023-02-14 13:47:39,416:Client-AutoMLSMBO(1)::245c64b9-ac6e-11ed-80ae-0242ac1c000c] Configuration 193 not found\n",
            "[WARNING] [2023-02-14 13:47:39,416:Client-AutoMLSMBO(1)::245c64b9-ac6e-11ed-80ae-0242ac1c000c] Configuration 105 not found\n",
            "[WARNING] [2023-02-14 13:47:39,416:Client-AutoMLSMBO(1)::245c64b9-ac6e-11ed-80ae-0242ac1c000c] Configuration 144 not found\n",
            "[WARNING] [2023-02-14 13:47:39,416:Client-AutoMLSMBO(1)::245c64b9-ac6e-11ed-80ae-0242ac1c000c] Configuration 128 not found\n",
            "[WARNING] [2023-02-14 13:47:39,416:Client-AutoMLSMBO(1)::245c64b9-ac6e-11ed-80ae-0242ac1c000c] Configuration 252 not found\n",
            "[WARNING] [2023-02-14 13:47:39,416:Client-AutoMLSMBO(1)::245c64b9-ac6e-11ed-80ae-0242ac1c000c] Configuration 251 not found\n",
            "[WARNING] [2023-02-14 13:47:39,417:Client-AutoMLSMBO(1)::245c64b9-ac6e-11ed-80ae-0242ac1c000c] Configuration 148 not found\n",
            "[WARNING] [2023-02-14 13:47:39,417:Client-AutoMLSMBO(1)::245c64b9-ac6e-11ed-80ae-0242ac1c000c] Configuration 136 not found\n",
            "[WARNING] [2023-02-14 13:47:39,417:Client-AutoMLSMBO(1)::245c64b9-ac6e-11ed-80ae-0242ac1c000c] Configuration 153 not found\n",
            "[WARNING] [2023-02-14 13:47:39,417:Client-AutoMLSMBO(1)::245c64b9-ac6e-11ed-80ae-0242ac1c000c] Configuration 50 not found\n",
            "[WARNING] [2023-02-14 13:47:39,417:Client-AutoMLSMBO(1)::245c64b9-ac6e-11ed-80ae-0242ac1c000c] Configuration 168 not found\n",
            "[WARNING] [2023-02-14 13:47:39,417:Client-AutoMLSMBO(1)::245c64b9-ac6e-11ed-80ae-0242ac1c000c] Configuration 221 not found\n",
            "[WARNING] [2023-02-14 13:47:39,417:Client-AutoMLSMBO(1)::245c64b9-ac6e-11ed-80ae-0242ac1c000c] Configuration 228 not found\n",
            "[WARNING] [2023-02-14 13:47:39,417:Client-AutoMLSMBO(1)::245c64b9-ac6e-11ed-80ae-0242ac1c000c] Configuration 179 not found\n",
            "[WARNING] [2023-02-14 13:47:39,417:Client-AutoMLSMBO(1)::245c64b9-ac6e-11ed-80ae-0242ac1c000c] Configuration 110 not found\n",
            "[WARNING] [2023-02-14 13:47:39,417:Client-AutoMLSMBO(1)::245c64b9-ac6e-11ed-80ae-0242ac1c000c] Configuration 204 not found\n"
          ]
        },
        {
          "output_type": "execute_result",
          "data": {
            "text/plain": [
              "{76: {'model_id': 76,\n",
              "  'rank': 1,\n",
              "  'cost': 0.15590001718071544,\n",
              "  'ensemble_weight': 0.08,\n",
              "  'data_preprocessor': <autosklearn.pipeline.components.data_preprocessing.DataPreprocessorChoice at 0x7f9095384640>,\n",
              "  'feature_preprocessor': <autosklearn.pipeline.components.feature_preprocessing.FeaturePreprocessorChoice at 0x7f909540e7f0>,\n",
              "  'regressor': <autosklearn.pipeline.components.regression.RegressorChoice at 0x7f909540ef70>,\n",
              "  'sklearn_regressor': MLPRegressor(alpha=5.689233384922636e-07, beta_1=0.999, beta_2=0.9,\n",
              "               hidden_layer_sizes=(41, 41),\n",
              "               learning_rate_init=0.0007339342397455518, max_iter=128,\n",
              "               n_iter_no_change=32, random_state=1, validation_fraction=0.0,\n",
              "               verbose=0, warm_start=True)},\n",
              " 133: {'model_id': 133,\n",
              "  'rank': 2,\n",
              "  'cost': 0.08312888846611033,\n",
              "  'ensemble_weight': 0.32,\n",
              "  'data_preprocessor': <autosklearn.pipeline.components.data_preprocessing.DataPreprocessorChoice at 0x7f90954c0370>,\n",
              "  'feature_preprocessor': <autosklearn.pipeline.components.feature_preprocessing.FeaturePreprocessorChoice at 0x7f908a881f10>,\n",
              "  'regressor': <autosklearn.pipeline.components.regression.RegressorChoice at 0x7f908a881820>,\n",
              "  'sklearn_regressor': MLPRegressor(alpha=1.0902911828481439e-05, beta_1=0.999, beta_2=0.9,\n",
              "               hidden_layer_sizes=(230, 230, 230),\n",
              "               learning_rate_init=0.0005225492175969931, max_iter=128,\n",
              "               n_iter_no_change=32, random_state=1, validation_fraction=0.0,\n",
              "               verbose=0, warm_start=True)},\n",
              " 141: {'model_id': 141,\n",
              "  'rank': 3,\n",
              "  'cost': 0.07654740612614142,\n",
              "  'ensemble_weight': 0.48,\n",
              "  'data_preprocessor': <autosklearn.pipeline.components.data_preprocessing.DataPreprocessorChoice at 0x7f909546d130>,\n",
              "  'feature_preprocessor': <autosklearn.pipeline.components.feature_preprocessing.FeaturePreprocessorChoice at 0x7f9086f21ca0>,\n",
              "  'regressor': <autosklearn.pipeline.components.regression.RegressorChoice at 0x7f9086f216a0>,\n",
              "  'sklearn_regressor': MLPRegressor(alpha=6.641918156246187e-06, beta_1=0.999, beta_2=0.9,\n",
              "               hidden_layer_sizes=(230, 230, 230),\n",
              "               learning_rate_init=0.0005254077929639681, max_iter=128,\n",
              "               n_iter_no_change=32, random_state=1, validation_fraction=0.0,\n",
              "               verbose=0, warm_start=True)},\n",
              " 164: {'model_id': 164,\n",
              "  'rank': 4,\n",
              "  'cost': 0.10328843168757529,\n",
              "  'ensemble_weight': 0.12,\n",
              "  'data_preprocessor': <autosklearn.pipeline.components.data_preprocessing.DataPreprocessorChoice at 0x7f908a86cd00>,\n",
              "  'feature_preprocessor': <autosklearn.pipeline.components.feature_preprocessing.FeaturePreprocessorChoice at 0x7f90956366d0>,\n",
              "  'regressor': <autosklearn.pipeline.components.regression.RegressorChoice at 0x7f9095636160>,\n",
              "  'sklearn_regressor': MLPRegressor(alpha=1.3386632856863343e-05, beta_1=0.999, beta_2=0.9,\n",
              "               hidden_layer_sizes=(231,),\n",
              "               learning_rate_init=0.0005398806671464552, max_iter=256,\n",
              "               n_iter_no_change=32, random_state=1, validation_fraction=0.0,\n",
              "               verbose=0, warm_start=True)}}"
            ]
          },
          "metadata": {},
          "execution_count": 16
        }
      ],
      "source": [
        "from autosklearn.regression import AutoSklearnRegressor as ASR\n",
        "automl = ASR(time_left_for_this_task = 600, \n",
        "            scoring_functions = [mean_squared_error],\n",
        "            include = {\"regressor\":[\"mlp\"]})\n",
        "automl.fit(X_train, y_train)\n",
        "automl.show_models()"
      ]
    },
    {
      "cell_type": "markdown",
      "metadata": {
        "id": "g4c-Bx8AHnq0"
      },
      "source": [
        "- 라인 4: include 인자를 사용해 사용하는 회귀 모델의 종류를 신경망(mlp)으로 한정했습니다.\n",
        "- 라인 6: show_models 메서드를 사용해 학습된 모델의 구성을 살펴봅니다."
      ]
    },
    {
      "cell_type": "markdown",
      "metadata": {
        "id": "tcgJSvOdHnq1"
      },
      "source": [
        "## 앙상블 모델 평가\n",
        "학습한 앙상블을 평가 데이터로 평가하겠습니다."
      ]
    },
    {
      "cell_type": "code",
      "execution_count": 17,
      "metadata": {
        "id": "5zFDqvy6Hnq1",
        "outputId": "d22b5482-e373-4341-c84a-2ea15a7ffa59",
        "colab": {
          "base_uri": "https://localhost:8080/"
        }
      },
      "outputs": [
        {
          "output_type": "stream",
          "name": "stdout",
          "text": [
            "10.101295851917195\n"
          ]
        }
      ],
      "source": [
        "from sklearn.metrics import mean_squared_error as MSE\n",
        "y_pred = automl.predict(X_test)\n",
        "score = MSE(y_test, y_pred)\n",
        "print(score)"
      ]
    }
  ],
  "metadata": {
    "kernelspec": {
      "display_name": "base",
      "language": "python",
      "name": "python3"
    },
    "language_info": {
      "name": "python",
      "version": "3.7.13"
    },
    "orig_nbformat": 4,
    "vscode": {
      "interpreter": {
        "hash": "bb3e04fb40beff7675317d1c1c8fb49eb61db4a7ae559ce0ef4a250a17faaf57"
      }
    },
    "colab": {
      "provenance": []
    }
  },
  "nbformat": 4,
  "nbformat_minor": 0
}