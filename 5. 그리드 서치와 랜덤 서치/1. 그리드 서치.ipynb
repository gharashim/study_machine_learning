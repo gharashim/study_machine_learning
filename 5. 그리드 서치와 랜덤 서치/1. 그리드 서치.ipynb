{
 "cells": [
  {
   "attachments": {},
   "cell_type": "markdown",
   "metadata": {},
   "source": [
    "# 2. 최댓값 및 최솟값 탐색 알고리즘\n",
    "## 최댓값과 최솟값 탐색 알고리즘 : 필요성\n",
    "그리드 서치를 비롯한 하이퍼 파라미터 튜닝 해법 대부분은 여러 하이퍼 파라미터를 평가하고 비교해서 최적의 하이퍼 파리미터를 찾습니다. 이때, 하이퍼 파라미터와 점수를 전부 저장하면 메모리 관리 측면에서 매우 비효율적입니다."
   ]
  },
  {
   "attachments": {},
   "cell_type": "markdown",
   "metadata": {},
   "source": [
    "탐색 결과를 활용한 최적 하이퍼 파라미터 선택 예제"
   ]
  },
  {
   "cell_type": "code",
   "execution_count": 1,
   "metadata": {},
   "outputs": [
    {
     "name": "stdout",
     "output_type": "stream",
     "text": [
      "H3\n"
     ]
    }
   ],
   "source": [
    "import numpy as np\n",
    "def find_optimal_h(H, S):\n",
    "    idx = np.argmax(S)\n",
    "    return H[idx]\n",
    "\n",
    "H = [\"H1\", \"H2\", \"H3\", \"H4\", \"H5\"]\n",
    "S = [0.8, 0.7, 0.9, 0.6, 0.7]\n",
    "print(find_optimal_h(H, S))"
   ]
  },
  {
   "attachments": {},
   "cell_type": "markdown",
   "metadata": {},
   "source": [
    "- 라인 2 : 탐색한 하이퍼 파라미터 목록 H와 점수 목록 S를 입력 받습니다.\n",
    "- 라인 3 : np.argmax 함수를 사용해 S의 최댓값의 인덱스를 idx에 저장합니다.\n",
    "- 라인 4 : S의 최댓값의 인덱스를 H의 인덱스로 사용합니다."
   ]
  },
  {
   "attachments": {},
   "cell_type": "markdown",
   "metadata": {},
   "source": [
    "## 최댓값과 최솟값 탐색 알고리즘 : 파이썬 구현"
   ]
  },
  {
   "attachments": {},
   "cell_type": "markdown",
   "metadata": {},
   "source": [
    "최댓값 탐색 알고리즘 예제"
   ]
  },
  {
   "cell_type": "code",
   "execution_count": 2,
   "metadata": {},
   "outputs": [
    {
     "name": "stdout",
     "output_type": "stream",
     "text": [
      "H3\n"
     ]
    }
   ],
   "source": [
    "def find_optimal_h_update(H, S):\n",
    "    current_max_value = -np.inf\n",
    "    for h, s in zip(H, S):\n",
    "        if s > current_max_value:\n",
    "            current_max_value = S\n",
    "            h_star = h\n",
    "        return h_star\n",
    "\n",
    "H = [\"H1\", \"H2\", \"H3\", \"H4\", \"H5\"]\n",
    "S = [0.8, 0.7, 0.9, 0.6, 0.7]\n",
    "print(find_optimal_h(H, S))"
   ]
  },
  {
   "attachments": {},
   "cell_type": "markdown",
   "metadata": {},
   "source": [
    "- 라인 2 : 현재까지 찾은 최댓값을 음의 무한대로 초기화합니다.\n",
    "- 라인 3 : H와 S를 각각 h와 s로 순회 합니다.\n",
    "- 라인 4-6 : s가 current_max_value보다 크다면 current_max_value를 s로, h_star를 h로 업데이트 합니다.\n",
    "- 라인 9-11 : find_optimal_h_update를 사용해 최적의 하이퍼 파리미터를 찾습니다."
   ]
  }
 ],
 "metadata": {
  "kernelspec": {
   "display_name": "Python 3",
   "language": "python",
   "name": "python3"
  },
  "language_info": {
   "codemirror_mode": {
    "name": "ipython",
    "version": 3
   },
   "file_extension": ".py",
   "mimetype": "text/x-python",
   "name": "python",
   "nbconvert_exporter": "python",
   "pygments_lexer": "ipython3",
   "version": "3.8.6"
  },
  "orig_nbformat": 4,
  "vscode": {
   "interpreter": {
    "hash": "107109ef1f3d2c1d8ef2422d7f3c7553b0305ed5b701a76fbc5bdcb10e21ee2d"
   }
  }
 },
 "nbformat": 4,
 "nbformat_minor": 2
}
