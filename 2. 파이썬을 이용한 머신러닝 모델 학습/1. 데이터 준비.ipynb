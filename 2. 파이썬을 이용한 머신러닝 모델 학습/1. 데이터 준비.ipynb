{
 "cells": [
  {
   "attachments": {},
   "cell_type": "markdown",
   "metadata": {},
   "source": [
    "# 1. 데이터 불러오기\n",
    "## os 모듈\n",
    "getcwd\n",
    "- 입력 : 없음\n",
    "- 출력 : 현재 경로를 변환\n",
    "\n",
    "chdir\n",
    "- 입력 : path\n",
    "- 출력 : 현재 경로를 path로 수정\n",
    "\n",
    "listdir\n",
    "- 입력 : 없음\n",
    "- 출력 : path 내에 있는 모든 파일명 변환"
   ]
  },
  {
   "cell_type": "code",
   "execution_count": 25,
   "metadata": {},
   "outputs": [
    {
     "name": "stdout",
     "output_type": "stream",
     "text": [
      "C:\\Users\\rkfka\\Desktop\\강의자료 (수강생 제공)-20221203T140147Z-001\\강의자료 (수강생 제공)\\내가 만든 코드\\2. 파이썬을 이용한 머신러닝 모델 학습\n"
     ]
    }
   ],
   "source": [
    "import os\n",
    "print(os.getcwd())\n",
    "\n",
    "path = os.getcwd()"
   ]
  },
  {
   "cell_type": "code",
   "execution_count": 26,
   "metadata": {},
   "outputs": [
    {
     "data": {
      "text/plain": [
       "'C:\\\\Users\\\\rkfka\\\\Desktop\\\\강의자료 (수강생 제공)-20221203T140147Z-001\\\\강의자료 (수강생 제공)\\\\내가 만든 코드'"
      ]
     },
     "metadata": {},
     "output_type": "display_data"
    }
   ],
   "source": [
    "# 경로 수정\n",
    "os.chdir(r'C:\\Users\\rkfka\\Desktop\\강의자료 (수강생 제공)-20221203T140147Z-001\\강의자료 (수강생 제공)\\내가 만든 코드')\n",
    "display(os.getcwd())"
   ]
  },
  {
   "cell_type": "code",
   "execution_count": 27,
   "metadata": {},
   "outputs": [
    {
     "data": {
      "text/plain": [
       "'C:\\\\Users\\\\rkfka\\\\Desktop\\\\강의자료 (수강생 제공)-20221203T140147Z-001\\\\강의자료 (수강생 제공)\\\\내가 만든 코드\\\\2. 파이썬을 이용한 머신러닝 모델 학습'"
      ]
     },
     "metadata": {},
     "output_type": "display_data"
    }
   ],
   "source": [
    "# 상대 경로 설정\n",
    "# os.listdir(os.getcwd())[0]\n",
    "os.chdir(r'2. 파이썬을 이용한 머신러닝 모델 학습')\n",
    "display(os.getcwd())"
   ]
  },
  {
   "attachments": {},
   "cell_type": "markdown",
   "metadata": {},
   "source": [
    "## read_csv 함수\n",
    "\n",
    "filepath\n",
    "- 읽어올 파일의 경로. 기본값 없음\n",
    "\n",
    "sep\n",
    "- 구분자. 기본값 ','\n",
    "\n",
    "header\n",
    "- 칼럼의 위치. 기본값 0"
   ]
  },
  {
   "cell_type": "code",
   "execution_count": 28,
   "metadata": {},
   "outputs": [
    {
     "data": {
      "text/html": [
       "<div>\n",
       "<style scoped>\n",
       "    .dataframe tbody tr th:only-of-type {\n",
       "        vertical-align: middle;\n",
       "    }\n",
       "\n",
       "    .dataframe tbody tr th {\n",
       "        vertical-align: top;\n",
       "    }\n",
       "\n",
       "    .dataframe thead th {\n",
       "        text-align: right;\n",
       "    }\n",
       "</style>\n",
       "<table border=\"1\" class=\"dataframe\">\n",
       "  <thead>\n",
       "    <tr style=\"text-align: right;\">\n",
       "      <th></th>\n",
       "      <th>x1</th>\n",
       "      <th>x2</th>\n",
       "      <th>x3</th>\n",
       "      <th>x4</th>\n",
       "      <th>x5</th>\n",
       "      <th>x6</th>\n",
       "      <th>x7</th>\n",
       "      <th>x8</th>\n",
       "      <th>x9</th>\n",
       "      <th>x10</th>\n",
       "      <th>x11</th>\n",
       "      <th>x12</th>\n",
       "      <th>x13</th>\n",
       "      <th>x14</th>\n",
       "      <th>y</th>\n",
       "    </tr>\n",
       "  </thead>\n",
       "  <tbody>\n",
       "    <tr>\n",
       "      <th>0</th>\n",
       "      <td>25</td>\n",
       "      <td>Private</td>\n",
       "      <td>226802</td>\n",
       "      <td>11th</td>\n",
       "      <td>7</td>\n",
       "      <td>Never-married</td>\n",
       "      <td>Machine-op-inspct</td>\n",
       "      <td>Own-child</td>\n",
       "      <td>Black</td>\n",
       "      <td>Male</td>\n",
       "      <td>0</td>\n",
       "      <td>0</td>\n",
       "      <td>40</td>\n",
       "      <td>United-States</td>\n",
       "      <td>0</td>\n",
       "    </tr>\n",
       "    <tr>\n",
       "      <th>1</th>\n",
       "      <td>38</td>\n",
       "      <td>Private</td>\n",
       "      <td>89814</td>\n",
       "      <td>HS-grad</td>\n",
       "      <td>9</td>\n",
       "      <td>Married-civ-spouse</td>\n",
       "      <td>Farming-fishing</td>\n",
       "      <td>Husband</td>\n",
       "      <td>White</td>\n",
       "      <td>Male</td>\n",
       "      <td>0</td>\n",
       "      <td>0</td>\n",
       "      <td>50</td>\n",
       "      <td>United-States</td>\n",
       "      <td>0</td>\n",
       "    </tr>\n",
       "    <tr>\n",
       "      <th>2</th>\n",
       "      <td>28</td>\n",
       "      <td>Local-gov</td>\n",
       "      <td>336951</td>\n",
       "      <td>Assoc-acdm</td>\n",
       "      <td>12</td>\n",
       "      <td>Married-civ-spouse</td>\n",
       "      <td>Protective-serv</td>\n",
       "      <td>Husband</td>\n",
       "      <td>White</td>\n",
       "      <td>Male</td>\n",
       "      <td>0</td>\n",
       "      <td>0</td>\n",
       "      <td>40</td>\n",
       "      <td>United-States</td>\n",
       "      <td>1</td>\n",
       "    </tr>\n",
       "    <tr>\n",
       "      <th>3</th>\n",
       "      <td>44</td>\n",
       "      <td>Private</td>\n",
       "      <td>160323</td>\n",
       "      <td>Some-college</td>\n",
       "      <td>10</td>\n",
       "      <td>Married-civ-spouse</td>\n",
       "      <td>Machine-op-inspct</td>\n",
       "      <td>Husband</td>\n",
       "      <td>Black</td>\n",
       "      <td>Male</td>\n",
       "      <td>7688</td>\n",
       "      <td>0</td>\n",
       "      <td>40</td>\n",
       "      <td>United-States</td>\n",
       "      <td>1</td>\n",
       "    </tr>\n",
       "    <tr>\n",
       "      <th>4</th>\n",
       "      <td>18</td>\n",
       "      <td>NaN</td>\n",
       "      <td>103497</td>\n",
       "      <td>Some-college</td>\n",
       "      <td>10</td>\n",
       "      <td>Never-married</td>\n",
       "      <td>NaN</td>\n",
       "      <td>Own-child</td>\n",
       "      <td>White</td>\n",
       "      <td>Female</td>\n",
       "      <td>0</td>\n",
       "      <td>0</td>\n",
       "      <td>30</td>\n",
       "      <td>United-States</td>\n",
       "      <td>0</td>\n",
       "    </tr>\n",
       "  </tbody>\n",
       "</table>\n",
       "</div>"
      ],
      "text/plain": [
       "   x1         x2      x3            x4  x5                  x6  \\\n",
       "0  25    Private  226802          11th   7       Never-married   \n",
       "1  38    Private   89814       HS-grad   9  Married-civ-spouse   \n",
       "2  28  Local-gov  336951    Assoc-acdm  12  Married-civ-spouse   \n",
       "3  44    Private  160323  Some-college  10  Married-civ-spouse   \n",
       "4  18        NaN  103497  Some-college  10       Never-married   \n",
       "\n",
       "                  x7         x8     x9     x10   x11  x12  x13            x14  \\\n",
       "0  Machine-op-inspct  Own-child  Black    Male     0    0   40  United-States   \n",
       "1    Farming-fishing    Husband  White    Male     0    0   50  United-States   \n",
       "2    Protective-serv    Husband  White    Male     0    0   40  United-States   \n",
       "3  Machine-op-inspct    Husband  Black    Male  7688    0   40  United-States   \n",
       "4                NaN  Own-child  White  Female     0    0   30  United-States   \n",
       "\n",
       "   y  \n",
       "0  0  \n",
       "1  0  \n",
       "2  1  \n",
       "3  1  \n",
       "4  0  "
      ]
     },
     "metadata": {},
     "output_type": "display_data"
    }
   ],
   "source": [
    "import pandas as pd\n",
    "df = pd.read_csv('../../data/classification/adult.csv')\n",
    "display(df.head())"
   ]
  },
  {
   "attachments": {},
   "cell_type": "markdown",
   "metadata": {},
   "source": [
    "# 2. 데이터 확인하기\n",
    "\n",
    "## Shape 메서드\n",
    "shape 메서드의 출력 결과는 (행 개수, 열 개수)로 표현된 데이터의 모양으로, 샘플 수와 특징 개수를 알 수 있음"
   ]
  },
  {
   "cell_type": "code",
   "execution_count": 29,
   "metadata": {},
   "outputs": [
    {
     "name": "stdout",
     "output_type": "stream",
     "text": [
      "(48842, 15)\n"
     ]
    }
   ],
   "source": [
    "print(df.shape)"
   ]
  },
  {
   "attachments": {},
   "cell_type": "markdown",
   "metadata": {},
   "source": [
    "## info 메서드\n",
    "info 메서드는 데이터프레임을 구성하는 칼럼별 데이터 타입과 결측을 제외한 샘플 수를 반환합니다."
   ]
  },
  {
   "cell_type": "code",
   "execution_count": 30,
   "metadata": {},
   "outputs": [
    {
     "name": "stdout",
     "output_type": "stream",
     "text": [
      "<class 'pandas.core.frame.DataFrame'>\n",
      "RangeIndex: 48842 entries, 0 to 48841\n",
      "Data columns (total 15 columns):\n",
      " #   Column  Non-Null Count  Dtype \n",
      "---  ------  --------------  ----- \n",
      " 0   x1      48842 non-null  int64 \n",
      " 1   x2      46043 non-null  object\n",
      " 2   x3      48842 non-null  int64 \n",
      " 3   x4      48842 non-null  object\n",
      " 4   x5      48842 non-null  int64 \n",
      " 5   x6      48842 non-null  object\n",
      " 6   x7      46033 non-null  object\n",
      " 7   x8      48842 non-null  object\n",
      " 8   x9      48842 non-null  object\n",
      " 9   x10     48842 non-null  object\n",
      " 10  x11     48842 non-null  int64 \n",
      " 11  x12     48842 non-null  int64 \n",
      " 12  x13     48842 non-null  int64 \n",
      " 13  x14     47985 non-null  object\n",
      " 14  y       48842 non-null  int64 \n",
      "dtypes: int64(7), object(8)\n",
      "memory usage: 5.6+ MB\n",
      "None\n"
     ]
    }
   ],
   "source": [
    "print(df.info())"
   ]
  },
  {
   "attachments": {},
   "cell_type": "markdown",
   "metadata": {},
   "source": [
    "## describe 메서드\n",
    "describe 메서드는 숫자형 칼럼의 기술 통계량을 반환합니다."
   ]
  },
  {
   "cell_type": "code",
   "execution_count": 31,
   "metadata": {},
   "outputs": [
    {
     "data": {
      "text/html": [
       "<div>\n",
       "<style scoped>\n",
       "    .dataframe tbody tr th:only-of-type {\n",
       "        vertical-align: middle;\n",
       "    }\n",
       "\n",
       "    .dataframe tbody tr th {\n",
       "        vertical-align: top;\n",
       "    }\n",
       "\n",
       "    .dataframe thead th {\n",
       "        text-align: right;\n",
       "    }\n",
       "</style>\n",
       "<table border=\"1\" class=\"dataframe\">\n",
       "  <thead>\n",
       "    <tr style=\"text-align: right;\">\n",
       "      <th></th>\n",
       "      <th>x1</th>\n",
       "      <th>x3</th>\n",
       "      <th>x5</th>\n",
       "      <th>x11</th>\n",
       "      <th>x12</th>\n",
       "      <th>x13</th>\n",
       "      <th>y</th>\n",
       "    </tr>\n",
       "  </thead>\n",
       "  <tbody>\n",
       "    <tr>\n",
       "      <th>count</th>\n",
       "      <td>48842.000000</td>\n",
       "      <td>4.884200e+04</td>\n",
       "      <td>48842.000000</td>\n",
       "      <td>48842.000000</td>\n",
       "      <td>48842.000000</td>\n",
       "      <td>48842.000000</td>\n",
       "      <td>48842.000000</td>\n",
       "    </tr>\n",
       "    <tr>\n",
       "      <th>mean</th>\n",
       "      <td>38.643585</td>\n",
       "      <td>1.896641e+05</td>\n",
       "      <td>10.078089</td>\n",
       "      <td>1079.067626</td>\n",
       "      <td>87.502314</td>\n",
       "      <td>40.422382</td>\n",
       "      <td>0.239282</td>\n",
       "    </tr>\n",
       "    <tr>\n",
       "      <th>std</th>\n",
       "      <td>13.710510</td>\n",
       "      <td>1.056040e+05</td>\n",
       "      <td>2.570973</td>\n",
       "      <td>7452.019058</td>\n",
       "      <td>403.004552</td>\n",
       "      <td>12.391444</td>\n",
       "      <td>0.426649</td>\n",
       "    </tr>\n",
       "    <tr>\n",
       "      <th>min</th>\n",
       "      <td>17.000000</td>\n",
       "      <td>1.228500e+04</td>\n",
       "      <td>1.000000</td>\n",
       "      <td>0.000000</td>\n",
       "      <td>0.000000</td>\n",
       "      <td>1.000000</td>\n",
       "      <td>0.000000</td>\n",
       "    </tr>\n",
       "    <tr>\n",
       "      <th>25%</th>\n",
       "      <td>28.000000</td>\n",
       "      <td>1.175505e+05</td>\n",
       "      <td>9.000000</td>\n",
       "      <td>0.000000</td>\n",
       "      <td>0.000000</td>\n",
       "      <td>40.000000</td>\n",
       "      <td>0.000000</td>\n",
       "    </tr>\n",
       "    <tr>\n",
       "      <th>50%</th>\n",
       "      <td>37.000000</td>\n",
       "      <td>1.781445e+05</td>\n",
       "      <td>10.000000</td>\n",
       "      <td>0.000000</td>\n",
       "      <td>0.000000</td>\n",
       "      <td>40.000000</td>\n",
       "      <td>0.000000</td>\n",
       "    </tr>\n",
       "    <tr>\n",
       "      <th>75%</th>\n",
       "      <td>48.000000</td>\n",
       "      <td>2.376420e+05</td>\n",
       "      <td>12.000000</td>\n",
       "      <td>0.000000</td>\n",
       "      <td>0.000000</td>\n",
       "      <td>45.000000</td>\n",
       "      <td>0.000000</td>\n",
       "    </tr>\n",
       "    <tr>\n",
       "      <th>max</th>\n",
       "      <td>90.000000</td>\n",
       "      <td>1.490400e+06</td>\n",
       "      <td>16.000000</td>\n",
       "      <td>99999.000000</td>\n",
       "      <td>4356.000000</td>\n",
       "      <td>99.000000</td>\n",
       "      <td>1.000000</td>\n",
       "    </tr>\n",
       "  </tbody>\n",
       "</table>\n",
       "</div>"
      ],
      "text/plain": [
       "                 x1            x3            x5           x11           x12  \\\n",
       "count  48842.000000  4.884200e+04  48842.000000  48842.000000  48842.000000   \n",
       "mean      38.643585  1.896641e+05     10.078089   1079.067626     87.502314   \n",
       "std       13.710510  1.056040e+05      2.570973   7452.019058    403.004552   \n",
       "min       17.000000  1.228500e+04      1.000000      0.000000      0.000000   \n",
       "25%       28.000000  1.175505e+05      9.000000      0.000000      0.000000   \n",
       "50%       37.000000  1.781445e+05     10.000000      0.000000      0.000000   \n",
       "75%       48.000000  2.376420e+05     12.000000      0.000000      0.000000   \n",
       "max       90.000000  1.490400e+06     16.000000  99999.000000   4356.000000   \n",
       "\n",
       "                x13             y  \n",
       "count  48842.000000  48842.000000  \n",
       "mean      40.422382      0.239282  \n",
       "std       12.391444      0.426649  \n",
       "min        1.000000      0.000000  \n",
       "25%       40.000000      0.000000  \n",
       "50%       40.000000      0.000000  \n",
       "75%       45.000000      0.000000  \n",
       "max       99.000000      1.000000  "
      ]
     },
     "metadata": {},
     "output_type": "display_data"
    }
   ],
   "source": [
    "display(df.describe())"
   ]
  },
  {
   "attachments": {},
   "cell_type": "markdown",
   "metadata": {},
   "source": [
    "# 3. 데이터 분할하기\n",
    "\n",
    "## drop 메서드\n",
    "drop 메서드는 인덱스를 기준으로 데이터프레임의 행(axis = 0) 혹은 열(axis = 1)을 제거합니다.\n",
    "\n",
    "머신러닝 모델을 개발할 때는 특징과 라벨을 분리하거나 불필요한 칼럼(예: ID)을 제거하는데 이 메서드를 주로 사용함"
   ]
  },
  {
   "cell_type": "code",
   "execution_count": 32,
   "metadata": {},
   "outputs": [],
   "source": [
    "# 특징과 라벨 분리 예제\n",
    "\n",
    "'''\n",
    "• 라인 1: 이름이 'y'인 칼럼을 제거한 데이터프레임을 변수 X에 저장합니다.\n",
    "• 라인 2: 이름이 'y'인 칼럼을 변수 y에 저장합니다. \n",
    "'''\n",
    "\n",
    "X = df.drop('y', axis = 1)\n",
    "y = df['y']"
   ]
  },
  {
   "attachments": {},
   "cell_type": "markdown",
   "metadata": {},
   "source": [
    "## train_test_split 함수\n",
    "train_test_split 함수는 하나 이상의 배열을 학습 데이터와 평가 데이터로 분할합니다."
   ]
  },
  {
   "attachments": {},
   "cell_type": "markdown",
   "metadata": {},
   "source": [
    "*arrays\n",
    "- 분할할 배열로 입력한 순서대로 학습 데이터와 평가 데이터로 분할됨\n",
    "\n",
    "test_size\n",
    "- 전체 데이터에서 평가 데이터의 비율\n",
    "\n",
    "random_state\n",
    "- 시드를 나타내며, 모델 재현을 위해 고정하는 것이 바람직함"
   ]
  },
  {
   "cell_type": "code",
   "execution_count": 33,
   "metadata": {},
   "outputs": [],
   "source": [
    "from sklearn.model_selection import train_test_split\n",
    "X_train, X_test, y_train, y_test = train_test_split(X, y, test_size = 0.3, random_state = 2022)\n",
    "\n",
    "# X와 y를 학습 데이터(비율: 70%)와 평가 데이터(비율: 30%)로 분할합니다.\n",
    "# X와 y를 순서대로 입력했으므로 출력을 X_train, X_test, y_train, y_test로 정의했습니다."
   ]
  },
  {
   "attachments": {},
   "cell_type": "markdown",
   "metadata": {},
   "source": [
    "(잠깐) 시드\n",
    "\n",
    "파이썬에서 생성하는 난수는 엄밀히 따지자면 난수가 아니며, 시드라는 특정한 숫자를 시작으로 정해진 알고리즘을 사용해 난수를 순서대로 생성합니다. \n",
    "따라서 시드를 고정하면 같은 결과를 재현할 수 있습니다."
   ]
  },
  {
   "cell_type": "code",
   "execution_count": 34,
   "metadata": {},
   "outputs": [
    {
     "name": "stdout",
     "output_type": "stream",
     "text": [
      "[0.5488135  0.71518937 0.60276338 0.54488318]\n",
      "[0.5488135  0.71518937 0.60276338 0.54488318]\n"
     ]
    }
   ],
   "source": [
    "import numpy as np\n",
    "\n",
    "np.random.seed(0)\n",
    "print(np.random.random(4))\n",
    "np.random.seed(0)\n",
    "print(np.random.random(4))"
   ]
  },
  {
   "attachments": {},
   "cell_type": "markdown",
   "metadata": {},
   "source": [
    "## KFold 클래스\n",
    "\n",
    "KFold 클래스는 데이터의 인덱스를 서로 중복되지 않는 k개의 폴드로 분할하여 i(i=0, 1, 2, …, k-1)번째 이터레이션에서 i번째 폴드를 평가 데이터의\n",
    "인덱스로 나머지 폴드에 속한 모든 인덱스를 학습 데이터의 인덱스로 반환하는 인스턴스를 생성합니다."
   ]
  },
  {
   "attachments": {},
   "cell_type": "markdown",
   "metadata": {},
   "source": [
    "### 주요 인자\n",
    "n_splits\n",
    "- k-겹 교차 검증에서 폴드 개수\n",
    "- 기본값 : 5\n",
    "\n",
    "shuffle\n",
    "- 데이터를 나누기 전에 섞을 것인지 여부\n",
    "- False"
   ]
  },
  {
   "attachments": {},
   "cell_type": "markdown",
   "metadata": {},
   "source": [
    "### 주요 메서드\n",
    "split\n",
    "- 학습 데이터와 평가 데이터의 인덱스를 순서대로 변환"
   ]
  },
  {
   "cell_type": "code",
   "execution_count": 35,
   "metadata": {},
   "outputs": [],
   "source": [
    "from sklearn.model_selection import KFold\n",
    "kf = KFold(n_splits = 5, shuffle = True)\n",
    "\n",
    "for train_idx, test_idx in kf.split(X):\n",
    "    X_train, X_test = X.loc[train_idx], X.loc[test_idx]\n",
    "    y_train, y_test = y.loc[train_idx], y.loc[test_idx]\n",
    "    # model training and test\n",
    "\n",
    "# 라인 2: KFold 인스턴스를 생성합니다.\n",
    "# 라인 3: split 메서드에 X를 입력하여, X의 인덱스를 학습 데이터의 인덱스인 train_idx와 평가 데이터의 인덱스 test_idx로 나누어 순회합니다. 라인 2에서 n_splits를 5로 설정했으므로, test_idx는 0번째 폴드부터 4번째 폴드의 인덱스를 순회합니다.\n",
    "# 라인 4 – 6: loc 인덱서 를 사용해 학습 데이터와 평가 데이터로 분할합니다. 실제로 머신러닝 모델을 개발하는 상황이라면 라인 6부터 X_train과 y_train로 모델을 학습하고 X_test와 y_test으로 학습한 모델을 평가합니다."
   ]
  }
 ],
 "metadata": {
  "kernelspec": {
   "display_name": "Python 3",
   "language": "python",
   "name": "python3"
  },
  "language_info": {
   "codemirror_mode": {
    "name": "ipython",
    "version": 3
   },
   "file_extension": ".py",
   "mimetype": "text/x-python",
   "name": "python",
   "nbconvert_exporter": "python",
   "pygments_lexer": "ipython3",
   "version": "3.8.6"
  },
  "orig_nbformat": 4,
  "vscode": {
   "interpreter": {
    "hash": "107109ef1f3d2c1d8ef2422d7f3c7553b0305ed5b701a76fbc5bdcb10e21ee2d"
   }
  }
 },
 "nbformat": 4,
 "nbformat_minor": 2
}
