{
 "cells": [
  {
   "attachments": {},
   "cell_type": "markdown",
   "metadata": {},
   "source": [
    "# 1. 사이킷런을 이용한 데이터 전처리\n",
    "## 전처리 모델 인스턴스\n",
    "\n",
    "새로 입력된 데이터에 모델 학습 시에 사용했던 전처리를 동일하게 적용해야 하기 때문에, 사이킷런을 이용한 데이터 전처리는 함수가 아니라 전처리 모델 인스턴스를 통해 이뤄집니다.\n"
   ]
  },
  {
   "attachments": {},
   "cell_type": "markdown",
   "metadata": {},
   "source": [
    "## fit 메서드\n",
    "fit 메서드는 전처리 인스턴스를 학습하는 데 사용하며, 학습 데이터의 특징 벡터만 입력받거나 라벨까지 입력받습니다.\n"
   ]
  },
  {
   "attachments": {},
   "cell_type": "markdown",
   "metadata": {},
   "source": [
    "## transform 메서드\n",
    "transform 메서드는 학습한 내용을 바탕으로 데이터를 전처리합니다.\n",
    "- 전처리 인스턴스를 비롯한 사이킷런 인스턴스 대부분은 ndarray 자료형을 출력함\n",
    "- 이 그림에서 설명을 위해 transform(X)가 열 인덱스를 갖고 있지만 실제로는 그렇지 않음\n",
    "- 그러므로 인덱스가 필요하다면 다시 데이터프레임으로 변환하는 과정이 필요함"
   ]
  },
  {
   "attachments": {},
   "cell_type": "markdown",
   "metadata": {},
   "source": [
    "## fit_transform 메서드\n",
    "fit_transform 메서드는 이름에서 알 수 있다시피, fit과 transform을 동시에 수행합니다.\n",
    "\n",
    "fit_transform 메서드는 전처리된 배열을 반환함에 주의해야 함"
   ]
  },
  {
   "attachments": {},
   "cell_type": "markdown",
   "metadata": {},
   "source": [
    "# 2. 결측치 처리\n",
    "## 예제 데이터 불러오기\n",
    "판다스와 사이킷런을 사용해 결측을 확인하고 처리하는 방법을 설명하는 데 사용할 예제 데이터를 불러옵니다."
   ]
  },
  {
   "cell_type": "code",
   "execution_count": 1,
   "metadata": {},
   "outputs": [],
   "source": [
    "import os\n",
    "import pandas as pd\n",
    "os.chdir(\"../../data\")\n",
    "df = pd.read_csv(\"classification/bands.csv\")\n"
   ]
  },
  {
   "cell_type": "code",
   "execution_count": 2,
   "metadata": {},
   "outputs": [
    {
     "data": {
      "text/plain": [
       "'c:\\\\Users\\\\rkfka\\\\Desktop\\\\강의자료 (수강생 제공)-20221203T140147Z-001\\\\강의자료 (수강생 제공)\\\\data'"
      ]
     },
     "execution_count": 2,
     "metadata": {},
     "output_type": "execute_result"
    }
   ],
   "source": [
    "os.getcwd()"
   ]
  },
  {
   "attachments": {},
   "cell_type": "markdown",
   "metadata": {},
   "source": [
    "## 결측 탐색 : isnull 메서드\n",
    "isnull 메서드는 데이터프레임 혹은 시리즈의 요소가 결측이면 True를 그렇지 않으면 False를 반환합니다"
   ]
  },
  {
   "cell_type": "code",
   "execution_count": 3,
   "metadata": {},
   "outputs": [
    {
     "data": {
      "text/html": [
       "<div>\n",
       "<style scoped>\n",
       "    .dataframe tbody tr th:only-of-type {\n",
       "        vertical-align: middle;\n",
       "    }\n",
       "\n",
       "    .dataframe tbody tr th {\n",
       "        vertical-align: top;\n",
       "    }\n",
       "\n",
       "    .dataframe thead th {\n",
       "        text-align: right;\n",
       "    }\n",
       "</style>\n",
       "<table border=\"1\" class=\"dataframe\">\n",
       "  <thead>\n",
       "    <tr style=\"text-align: right;\">\n",
       "      <th></th>\n",
       "      <th>x1</th>\n",
       "      <th>x2</th>\n",
       "      <th>x3</th>\n",
       "      <th>x4</th>\n",
       "      <th>x5</th>\n",
       "      <th>x6</th>\n",
       "      <th>x7</th>\n",
       "      <th>x8</th>\n",
       "      <th>x9</th>\n",
       "      <th>x10</th>\n",
       "      <th>x11</th>\n",
       "      <th>x12</th>\n",
       "      <th>x13</th>\n",
       "      <th>x14</th>\n",
       "      <th>x15</th>\n",
       "      <th>x16</th>\n",
       "      <th>x17</th>\n",
       "      <th>x18</th>\n",
       "      <th>x19</th>\n",
       "      <th>y</th>\n",
       "    </tr>\n",
       "  </thead>\n",
       "  <tbody>\n",
       "    <tr>\n",
       "      <th>0</th>\n",
       "      <td>False</td>\n",
       "      <td>False</td>\n",
       "      <td>False</td>\n",
       "      <td>False</td>\n",
       "      <td>False</td>\n",
       "      <td>False</td>\n",
       "      <td>False</td>\n",
       "      <td>False</td>\n",
       "      <td>False</td>\n",
       "      <td>False</td>\n",
       "      <td>False</td>\n",
       "      <td>False</td>\n",
       "      <td>False</td>\n",
       "      <td>False</td>\n",
       "      <td>False</td>\n",
       "      <td>False</td>\n",
       "      <td>False</td>\n",
       "      <td>False</td>\n",
       "      <td>False</td>\n",
       "      <td>False</td>\n",
       "    </tr>\n",
       "    <tr>\n",
       "      <th>1</th>\n",
       "      <td>False</td>\n",
       "      <td>False</td>\n",
       "      <td>False</td>\n",
       "      <td>False</td>\n",
       "      <td>False</td>\n",
       "      <td>False</td>\n",
       "      <td>False</td>\n",
       "      <td>False</td>\n",
       "      <td>False</td>\n",
       "      <td>False</td>\n",
       "      <td>False</td>\n",
       "      <td>False</td>\n",
       "      <td>False</td>\n",
       "      <td>False</td>\n",
       "      <td>False</td>\n",
       "      <td>False</td>\n",
       "      <td>False</td>\n",
       "      <td>False</td>\n",
       "      <td>False</td>\n",
       "      <td>False</td>\n",
       "    </tr>\n",
       "    <tr>\n",
       "      <th>2</th>\n",
       "      <td>False</td>\n",
       "      <td>False</td>\n",
       "      <td>False</td>\n",
       "      <td>False</td>\n",
       "      <td>False</td>\n",
       "      <td>True</td>\n",
       "      <td>False</td>\n",
       "      <td>False</td>\n",
       "      <td>False</td>\n",
       "      <td>False</td>\n",
       "      <td>False</td>\n",
       "      <td>False</td>\n",
       "      <td>False</td>\n",
       "      <td>False</td>\n",
       "      <td>False</td>\n",
       "      <td>False</td>\n",
       "      <td>False</td>\n",
       "      <td>False</td>\n",
       "      <td>False</td>\n",
       "      <td>False</td>\n",
       "    </tr>\n",
       "    <tr>\n",
       "      <th>3</th>\n",
       "      <td>False</td>\n",
       "      <td>False</td>\n",
       "      <td>False</td>\n",
       "      <td>False</td>\n",
       "      <td>False</td>\n",
       "      <td>False</td>\n",
       "      <td>False</td>\n",
       "      <td>False</td>\n",
       "      <td>False</td>\n",
       "      <td>False</td>\n",
       "      <td>False</td>\n",
       "      <td>False</td>\n",
       "      <td>False</td>\n",
       "      <td>False</td>\n",
       "      <td>False</td>\n",
       "      <td>False</td>\n",
       "      <td>False</td>\n",
       "      <td>False</td>\n",
       "      <td>False</td>\n",
       "      <td>False</td>\n",
       "    </tr>\n",
       "    <tr>\n",
       "      <th>4</th>\n",
       "      <td>False</td>\n",
       "      <td>False</td>\n",
       "      <td>False</td>\n",
       "      <td>False</td>\n",
       "      <td>False</td>\n",
       "      <td>False</td>\n",
       "      <td>False</td>\n",
       "      <td>False</td>\n",
       "      <td>False</td>\n",
       "      <td>False</td>\n",
       "      <td>False</td>\n",
       "      <td>False</td>\n",
       "      <td>False</td>\n",
       "      <td>False</td>\n",
       "      <td>False</td>\n",
       "      <td>False</td>\n",
       "      <td>False</td>\n",
       "      <td>False</td>\n",
       "      <td>False</td>\n",
       "      <td>False</td>\n",
       "    </tr>\n",
       "  </tbody>\n",
       "</table>\n",
       "</div>"
      ],
      "text/plain": [
       "      x1     x2     x3     x4     x5     x6     x7     x8     x9    x10  \\\n",
       "0  False  False  False  False  False  False  False  False  False  False   \n",
       "1  False  False  False  False  False  False  False  False  False  False   \n",
       "2  False  False  False  False  False   True  False  False  False  False   \n",
       "3  False  False  False  False  False  False  False  False  False  False   \n",
       "4  False  False  False  False  False  False  False  False  False  False   \n",
       "\n",
       "     x11    x12    x13    x14    x15    x16    x17    x18    x19      y  \n",
       "0  False  False  False  False  False  False  False  False  False  False  \n",
       "1  False  False  False  False  False  False  False  False  False  False  \n",
       "2  False  False  False  False  False  False  False  False  False  False  \n",
       "3  False  False  False  False  False  False  False  False  False  False  \n",
       "4  False  False  False  False  False  False  False  False  False  False  "
      ]
     },
     "metadata": {},
     "output_type": "display_data"
    }
   ],
   "source": [
    "display(df.isnull().head())"
   ]
  },
  {
   "attachments": {},
   "cell_type": "markdown",
   "metadata": {},
   "source": [
    "개별 요소가 결측인지 일일이 확인하는 것은 매우 비효율적이므로 보통 특징별 결측 개수를 계산합니다. 파이썬에서 부울 자료형 간 사칙 연산을 수행하면 True를 1로 False를 0으로 간주하므로, insull 메서드를 적용한 결과의 열별 합으로 열별 결측 개수를 구할 수 있습니다."
   ]
  },
  {
   "cell_type": "code",
   "execution_count": 4,
   "metadata": {},
   "outputs": [
    {
     "data": {
      "text/plain": [
       "x1     54\n",
       "x2      5\n",
       "x3     27\n",
       "x4      2\n",
       "x5      1\n",
       "x6     30\n",
       "x7     63\n",
       "x8     55\n",
       "x9     10\n",
       "x10    55\n",
       "x11    55\n",
       "x12    56\n",
       "x13    54\n",
       "x14     6\n",
       "x15     7\n",
       "x16    54\n",
       "x17     7\n",
       "x18     7\n",
       "x19     3\n",
       "y       0\n",
       "dtype: int64"
      ]
     },
     "metadata": {},
     "output_type": "display_data"
    }
   ],
   "source": [
    "display(df.isnull().sum(axis = 0))"
   ]
  },
  {
   "attachments": {},
   "cell_type": "markdown",
   "metadata": {},
   "source": [
    "## 결측 제거 : dropna 메서드\n",
    "dropna 메서드는 결측을 제거 합니다."
   ]
  },
  {
   "attachments": {},
   "cell_type": "markdown",
   "metadata": {},
   "source": [
    "axis\n",
    "- 제거 방향을 설정하는 인자로, 0이면 결측이 있는 행을, 1이면 결측이 있는 열을 제거\n",
    "- 기본값 : 0\n",
    "\n",
    "how\n",
    "- 제거 기준을 설정하는 인자\n",
    "- 'any'면 하나의 요소라도 결측인 행이나 열을\n",
    "- 'all'이면 모든 요소가 결측인 행이나 열을 제거\n",
    "- 기본값 : any\n",
    "\n",
    "inplace\n",
    "- False 면 결측을 제거한 데이터를 반환하고,\n",
    "- True 면 데이터 자체에서 결측을 제거하고 어떠한 값도 반환하지 않음\n",
    "- 기본값 : False"
   ]
  },
  {
   "cell_type": "code",
   "execution_count": 5,
   "metadata": {},
   "outputs": [
    {
     "name": "stdout",
     "output_type": "stream",
     "text": [
      "0\n"
     ]
    }
   ],
   "source": [
    "df.dropna(inplace=True)\n",
    "print(df.isnull().sum().sum())"
   ]
  },
  {
   "attachments": {},
   "cell_type": "markdown",
   "metadata": {},
   "source": [
    "## 대푯값을 활용한 결측 대체\n",
    "사이킷런의 SimpleImputer를 이용하면 결측을 특징별 대푯값으로 대체할 수 있습니다."
   ]
  },
  {
   "attachments": {},
   "cell_type": "markdown",
   "metadata": {},
   "source": [
    "strategy\n",
    "- 결측을 대체할 대푯값을 결정\n",
    "- 'mean' : 평균\n",
    "- 'median' : 중위수\n",
    "- 'most_frequent' : 최빈값\n",
    "- 기본값 : 'mean'"
   ]
  },
  {
   "cell_type": "code",
   "execution_count": 6,
   "metadata": {},
   "outputs": [],
   "source": [
    "X = df.drop('y', axis = 1)\n",
    "y = df['y']\n",
    " \n",
    "from sklearn.model_selection import train_test_split\n",
    "X_train, X_test, y_train, y_test = train_test_split(X, y, random_state = 2022)\n",
    "\n",
    "from sklearn.impute import SimpleImputer\n",
    "imputer = SimpleImputer(strategy = \"mean\")\n",
    "imputer.fit(X_train)\n",
    "Z_train = pd.DataFrame(imputer.transform(X_train), columns = X_train.columns)\n",
    "Z_test = pd.DataFrame(imputer.transform(X_test), columns = X_test.columns)\n"
   ]
  },
  {
   "attachments": {},
   "cell_type": "markdown",
   "metadata": {},
   "source": [
    "- 라인 1 – 2: 특징과 라벨로 분리합니다.\n",
    "- 라인 4 – 5: 학습 데이터와 평가 데이터로 분리합니다.\n",
    "- 라인 7: 결측을 평균으로 대체하는 임퓨터 인스턴스를 생성합니다. \n",
    "- 라인 8: imputer를 X_train으로 학습합니다. 이 과정에서 imputer는 특징별 평균을 계산해 저장합니다.\n",
    "- 라인 9: imputer로 X_train을 변환한 결과를 Z_train에 저장합니다. 이때, 칼럼 명을 보존하기 위해 DataFrame의 columns 인자에 원래 칼럼 명인 X_train.columns를 입력합니다. "
   ]
  },
  {
   "attachments": {},
   "cell_type": "markdown",
   "metadata": {},
   "source": [
    "## 이웃을 활용한 결측 대체\n",
    "사이킷런의 KNNImputer를 사용하면 이웃을 활용하여 결측을 대체할 수 있습니다."
   ]
  },
  {
   "attachments": {},
   "cell_type": "markdown",
   "metadata": {},
   "source": [
    "n_neighbors\n",
    "- 이웃 수\n",
    "- 기본값 : 5\n",
    "\n",
    "metric\n",
    "- 거리 척도\n",
    "- 기본값 : 'nan_euclidean'"
   ]
  },
  {
   "cell_type": "code",
   "execution_count": 7,
   "metadata": {},
   "outputs": [],
   "source": [
    "from sklearn.impute import KNNImputer\n",
    "imputer = KNNImputer()\n",
    "imputer.fit(X_train)\n",
    "Z_train = pd.DataFrame(imputer.transform(X_train), columns = X_train.columns)\n",
    "Z_test = pd.DataFrame(imputer.transform(X_test), columns = X_test.columns)"
   ]
  },
  {
   "attachments": {},
   "cell_type": "markdown",
   "metadata": {},
   "source": [
    "- 라인 2: 이웃으로 결측을 대체하는 임퓨터 인스턴스를 생성합니다."
   ]
  },
  {
   "attachments": {},
   "cell_type": "markdown",
   "metadata": {},
   "source": [
    "# 3. 범주형 변수 처리"
   ]
  },
  {
   "attachments": {},
   "cell_type": "markdown",
   "metadata": {},
   "source": [
    "## 더미화 함수 비교\n",
    "- 더미화는 사이킷런의 OneHotEncoder, 판다스의 get_dummies, 피쳐엔진의 OneHotEncoder 등을 이용해 구현할 수 있습니다.\n",
    "- 사이킷런의 OneHotEncoder는 연속형 특징도 더미화 하므로 범주형 특징과 연속형 특징을 구분해서 적용하고 다시 병합해야 해서 번거로움\n",
    "- get_dummies 는 사용 방법이 매우 간편하나 학습되지 않는 함수이기에 새롭게 입력된 데이터에 동일하게 적용하기 어려움\n",
    "- 피쳐엔진 패키지 주로 사용할 것을 권장"
   ]
  },
  {
   "cell_type": "code",
   "execution_count": 8,
   "metadata": {},
   "outputs": [
    {
     "name": "stdout",
     "output_type": "stream",
     "text": [
      "Requirement already satisfied: feature-engine in c:\\users\\rkfka\\appdata\\local\\programs\\python\\python38\\lib\\site-packages (1.5.2)\n",
      "Requirement already satisfied: pandas>=1.0.3 in c:\\users\\rkfka\\appdata\\local\\programs\\python\\python38\\lib\\site-packages (from feature-engine) (1.4.3)\n",
      "Requirement already satisfied: scikit-learn>=1.0.0 in c:\\users\\rkfka\\appdata\\local\\programs\\python\\python38\\lib\\site-packages (from feature-engine) (1.1.2)\n",
      "Requirement already satisfied: numpy>=1.18.2 in c:\\users\\rkfka\\appdata\\local\\programs\\python\\python38\\lib\\site-packages (from feature-engine) (1.23.1)\n",
      "Requirement already satisfied: scipy>=1.4.1 in c:\\users\\rkfka\\appdata\\local\\programs\\python\\python38\\lib\\site-packages (from feature-engine) (1.9.0)\n",
      "Requirement already satisfied: statsmodels>=0.11.1 in c:\\users\\rkfka\\appdata\\local\\programs\\python\\python38\\lib\\site-packages (from feature-engine) (0.13.5)\n",
      "Requirement already satisfied: pytz>=2020.1 in c:\\users\\rkfka\\appdata\\local\\programs\\python\\python38\\lib\\site-packages (from pandas>=1.0.3->feature-engine) (2022.1)\n",
      "Requirement already satisfied: python-dateutil>=2.8.1 in c:\\users\\rkfka\\appdata\\local\\programs\\python\\python38\\lib\\site-packages (from pandas>=1.0.3->feature-engine) (2.8.2)\n",
      "Requirement already satisfied: joblib>=1.0.0 in c:\\users\\rkfka\\appdata\\local\\programs\\python\\python38\\lib\\site-packages (from scikit-learn>=1.0.0->feature-engine) (1.2.0)\n",
      "Requirement already satisfied: threadpoolctl>=2.0.0 in c:\\users\\rkfka\\appdata\\local\\programs\\python\\python38\\lib\\site-packages (from scikit-learn>=1.0.0->feature-engine) (3.1.0)\n",
      "Requirement already satisfied: patsy>=0.5.2 in c:\\users\\rkfka\\appdata\\local\\programs\\python\\python38\\lib\\site-packages (from statsmodels>=0.11.1->feature-engine) (0.5.3)\n",
      "Requirement already satisfied: packaging>=21.3 in c:\\users\\rkfka\\appdata\\local\\programs\\python\\python38\\lib\\site-packages (from statsmodels>=0.11.1->feature-engine) (21.3)\n",
      "Requirement already satisfied: pyparsing!=3.0.5,>=2.0.2 in c:\\users\\rkfka\\appdata\\local\\programs\\python\\python38\\lib\\site-packages (from packaging>=21.3->statsmodels>=0.11.1->feature-engine) (3.0.9)\n",
      "Requirement already satisfied: six in c:\\users\\rkfka\\appdata\\local\\programs\\python\\python38\\lib\\site-packages (from patsy>=0.5.2->statsmodels>=0.11.1->feature-engine) (1.16.0)\n",
      "Note: you may need to restart the kernel to use updated packages.\n"
     ]
    },
    {
     "name": "stderr",
     "output_type": "stream",
     "text": [
      "\n",
      "[notice] A new release of pip available: 22.2.1 -> 22.3.1\n",
      "[notice] To update, run: python.exe -m pip install --upgrade pip\n"
     ]
    }
   ],
   "source": [
    "# 피쳐엔진 설치\n",
    "%pip install feature-engine"
   ]
  },
  {
   "attachments": {},
   "cell_type": "markdown",
   "metadata": {},
   "source": [
    "## 예제 데이터 불러오기\n",
    "판다스와 피쳐엔진(feature_engine)을 사용해 범주 및 서열형 변수를 처리하는 예제에 사용할 데이터를 불러옵니다.\n"
   ]
  },
  {
   "cell_type": "code",
   "execution_count": 9,
   "metadata": {},
   "outputs": [],
   "source": [
    "df = pd.read_csv('classification/german.csv')\n",
    "X = df.drop('y', axis=1)\n",
    "y = df['y']\n",
    "X_train, X_test, y_train, y_test = train_test_split(X, y, random_state = 2022)"
   ]
  },
  {
   "attachments": {},
   "cell_type": "markdown",
   "metadata": {},
   "source": [
    "## 더미화\n",
    "OneHotEncoder 클래스는 사이킷런의 전처리 인스턴스와 유사하게 작동하는 더미화 인스턴스를 생성합니다.\n",
    "\n",
    "주요인자\n",
    "\n",
    "variables\n",
    "- 더미화할 변수의 이름 목록으로, 기본값인 None을 입력하면 자료형이 object인 변수를 더미화함\n",
    "- 기본값 : None\n",
    "\n",
    "drop_last\n",
    "- 마지막 더미 변수를 제거할 지 여부\n",
    "- 기본값 : False\n",
    "\n",
    "top_categories\n",
    "- 한 변수로부터 만드는 더미 변수 개수로, 빈도가 높은 값이 더미 변수가 됨\n",
    "- 기본값 : None\n",
    "\n",
    "top_categories 인자는 상태 공간이 큰 범주형 번수를 더미화했을 때 특징이 지나치게 많아지는 문제를 방지하는 데 적합함\n",
    "\n",
    "해당 인자를 사용하면 빈도가 적은 더미 변수는 모두 무시되므로 이들을 하나의 그룹으로 묶기 위해 drop_last가 자동으로 False로 설정됨"
   ]
  },
  {
   "cell_type": "code",
   "execution_count": 10,
   "metadata": {},
   "outputs": [],
   "source": [
    "# 더미화 예제\n",
    "from feature_engine.encoding import OneHotEncoder as OHE\n",
    "dummy_model = OHE(drop_last = True).fit(X_train)\n",
    "Z_train = dummy_model.transform(X_train)\n",
    "Z_test = dummy_model.transform(X_test)"
   ]
  },
  {
   "attachments": {},
   "cell_type": "markdown",
   "metadata": {},
   "source": [
    "- 라인 2: 자료형이 object인 변수를 더미화하는 인스턴스 dummy_model을 만든 뒤, X_train로 학습합니다.\n",
    "- 라인 3 – 4: X_train과 X_test를 dummy_model을 이용해 각각 Z_train과 Z_test로 변환합니다. 사이킷런과 다르게 피쳐엔진의 출력은 ndarray가 아니라 데이터프레임이므로 데이터프레임으로 따로 변환하지 않았습니다."
   ]
  },
  {
   "cell_type": "code",
   "execution_count": 11,
   "metadata": {},
   "outputs": [
    {
     "data": {
      "text/html": [
       "<div>\n",
       "<style scoped>\n",
       "    .dataframe tbody tr th:only-of-type {\n",
       "        vertical-align: middle;\n",
       "    }\n",
       "\n",
       "    .dataframe tbody tr th {\n",
       "        vertical-align: top;\n",
       "    }\n",
       "\n",
       "    .dataframe thead th {\n",
       "        text-align: right;\n",
       "    }\n",
       "</style>\n",
       "<table border=\"1\" class=\"dataframe\">\n",
       "  <thead>\n",
       "    <tr style=\"text-align: right;\">\n",
       "      <th></th>\n",
       "      <th>x2</th>\n",
       "      <th>x5</th>\n",
       "      <th>x8</th>\n",
       "      <th>x11</th>\n",
       "      <th>x13</th>\n",
       "      <th>x16</th>\n",
       "      <th>x18</th>\n",
       "      <th>x1_A11</th>\n",
       "      <th>x1_A12</th>\n",
       "      <th>x1_A14</th>\n",
       "      <th>...</th>\n",
       "      <th>x12_A122</th>\n",
       "      <th>x14_A143</th>\n",
       "      <th>x14_A141</th>\n",
       "      <th>x15_A152</th>\n",
       "      <th>x15_A151</th>\n",
       "      <th>x17_A173</th>\n",
       "      <th>x17_A174</th>\n",
       "      <th>x17_A172</th>\n",
       "      <th>x19_A191</th>\n",
       "      <th>x20_A202</th>\n",
       "    </tr>\n",
       "  </thead>\n",
       "  <tbody>\n",
       "    <tr>\n",
       "      <th>357</th>\n",
       "      <td>15</td>\n",
       "      <td>1053</td>\n",
       "      <td>4</td>\n",
       "      <td>2</td>\n",
       "      <td>27</td>\n",
       "      <td>1</td>\n",
       "      <td>1</td>\n",
       "      <td>1</td>\n",
       "      <td>0</td>\n",
       "      <td>0</td>\n",
       "      <td>...</td>\n",
       "      <td>0</td>\n",
       "      <td>1</td>\n",
       "      <td>0</td>\n",
       "      <td>1</td>\n",
       "      <td>0</td>\n",
       "      <td>1</td>\n",
       "      <td>0</td>\n",
       "      <td>0</td>\n",
       "      <td>1</td>\n",
       "      <td>1</td>\n",
       "    </tr>\n",
       "    <tr>\n",
       "      <th>964</th>\n",
       "      <td>36</td>\n",
       "      <td>2273</td>\n",
       "      <td>3</td>\n",
       "      <td>1</td>\n",
       "      <td>32</td>\n",
       "      <td>2</td>\n",
       "      <td>2</td>\n",
       "      <td>0</td>\n",
       "      <td>1</td>\n",
       "      <td>0</td>\n",
       "      <td>...</td>\n",
       "      <td>0</td>\n",
       "      <td>1</td>\n",
       "      <td>0</td>\n",
       "      <td>1</td>\n",
       "      <td>0</td>\n",
       "      <td>1</td>\n",
       "      <td>0</td>\n",
       "      <td>0</td>\n",
       "      <td>1</td>\n",
       "      <td>0</td>\n",
       "    </tr>\n",
       "    <tr>\n",
       "      <th>337</th>\n",
       "      <td>18</td>\n",
       "      <td>2238</td>\n",
       "      <td>2</td>\n",
       "      <td>1</td>\n",
       "      <td>25</td>\n",
       "      <td>2</td>\n",
       "      <td>1</td>\n",
       "      <td>0</td>\n",
       "      <td>0</td>\n",
       "      <td>1</td>\n",
       "      <td>...</td>\n",
       "      <td>0</td>\n",
       "      <td>1</td>\n",
       "      <td>0</td>\n",
       "      <td>1</td>\n",
       "      <td>0</td>\n",
       "      <td>1</td>\n",
       "      <td>0</td>\n",
       "      <td>0</td>\n",
       "      <td>1</td>\n",
       "      <td>0</td>\n",
       "    </tr>\n",
       "    <tr>\n",
       "      <th>980</th>\n",
       "      <td>15</td>\n",
       "      <td>1905</td>\n",
       "      <td>4</td>\n",
       "      <td>4</td>\n",
       "      <td>40</td>\n",
       "      <td>1</td>\n",
       "      <td>1</td>\n",
       "      <td>0</td>\n",
       "      <td>0</td>\n",
       "      <td>0</td>\n",
       "      <td>...</td>\n",
       "      <td>0</td>\n",
       "      <td>1</td>\n",
       "      <td>0</td>\n",
       "      <td>0</td>\n",
       "      <td>1</td>\n",
       "      <td>0</td>\n",
       "      <td>1</td>\n",
       "      <td>0</td>\n",
       "      <td>0</td>\n",
       "      <td>0</td>\n",
       "    </tr>\n",
       "    <tr>\n",
       "      <th>455</th>\n",
       "      <td>36</td>\n",
       "      <td>7127</td>\n",
       "      <td>2</td>\n",
       "      <td>4</td>\n",
       "      <td>23</td>\n",
       "      <td>2</td>\n",
       "      <td>1</td>\n",
       "      <td>0</td>\n",
       "      <td>0</td>\n",
       "      <td>1</td>\n",
       "      <td>...</td>\n",
       "      <td>1</td>\n",
       "      <td>1</td>\n",
       "      <td>0</td>\n",
       "      <td>0</td>\n",
       "      <td>1</td>\n",
       "      <td>1</td>\n",
       "      <td>0</td>\n",
       "      <td>0</td>\n",
       "      <td>0</td>\n",
       "      <td>0</td>\n",
       "    </tr>\n",
       "  </tbody>\n",
       "</table>\n",
       "<p>5 rows × 48 columns</p>\n",
       "</div>"
      ],
      "text/plain": [
       "     x2    x5  x8  x11  x13  x16  x18  x1_A11  x1_A12  x1_A14  ...  x12_A122  \\\n",
       "357  15  1053   4    2   27    1    1       1       0       0  ...         0   \n",
       "964  36  2273   3    1   32    2    2       0       1       0  ...         0   \n",
       "337  18  2238   2    1   25    2    1       0       0       1  ...         0   \n",
       "980  15  1905   4    4   40    1    1       0       0       0  ...         0   \n",
       "455  36  7127   2    4   23    2    1       0       0       1  ...         1   \n",
       "\n",
       "     x14_A143  x14_A141  x15_A152  x15_A151  x17_A173  x17_A174  x17_A172  \\\n",
       "357         1         0         1         0         1         0         0   \n",
       "964         1         0         1         0         1         0         0   \n",
       "337         1         0         1         0         1         0         0   \n",
       "980         1         0         0         1         0         1         0   \n",
       "455         1         0         0         1         1         0         0   \n",
       "\n",
       "     x19_A191  x20_A202  \n",
       "357         1         1  \n",
       "964         1         0  \n",
       "337         1         0  \n",
       "980         0         0  \n",
       "455         0         0  \n",
       "\n",
       "[5 rows x 48 columns]"
      ]
     },
     "execution_count": 11,
     "metadata": {},
     "output_type": "execute_result"
    }
   ],
   "source": [
    "Z_train.head()"
   ]
  },
  {
   "attachments": {},
   "cell_type": "markdown",
   "metadata": {},
   "source": [
    "## 라벨을 이용한 치환\n",
    "라벨을 활용하여 범주형 변수의 값을 치환하려면 해당 변수에 따른 라벨의 대푯값을 계산해야 하는데, 이때 사용할 수 있는 메서드로 groupby가 있습니다."
   ]
  },
  {
   "attachments": {},
   "cell_type": "markdown",
   "metadata": {},
   "source": [
    "groupby 사용구조\n",
    "\n",
    "\n",
    "DataFrame.groupby(조건변수)[대상변수].통계 관련 메서드\n",
    "- 조건 변수와 대상 변수는 DataFrame에 포홤돼 있어야 하며, 조건 변수와 대상 변수가 둘 이상이면 리스트로 입력함\n",
    "- groupby 해석 : 조건 변수에 따른 대상 변수의 통계량"
   ]
  },
  {
   "cell_type": "code",
   "execution_count": 12,
   "metadata": {},
   "outputs": [
    {
     "data": {
      "text/plain": [
       "x1\n",
       "A11    0.492701\n",
       "A12    0.390335\n",
       "A13    0.222222\n",
       "A14    0.116751\n",
       "Name: y, dtype: float64"
      ]
     },
     "metadata": {},
     "output_type": "display_data"
    }
   ],
   "source": [
    "# gropby 사용 예\n",
    "S = df.groupby('x1')['y'].mean()\n",
    "display(S)"
   ]
  },
  {
   "attachments": {},
   "cell_type": "markdown",
   "metadata": {},
   "source": [
    "to_dict는 시리즈를 사전으로 변환하는 메서드로, 인덱스가 키로 데이터가 값으로 바뀝니다.\n",
    "\n",
    "replace는 시리즈의 요소 가운데 사전의 키와 같은 요소를 사전의 값으로 바꾸는 메서드 입니다."
   ]
  },
  {
   "cell_type": "code",
   "execution_count": 13,
   "metadata": {},
   "outputs": [
    {
     "data": {
      "text/plain": [
       "0      0.492701\n",
       "1      0.390335\n",
       "2      0.116751\n",
       "3      0.492701\n",
       "4      0.492701\n",
       "         ...   \n",
       "995    0.492701\n",
       "996    0.390335\n",
       "997    0.390335\n",
       "998    0.116751\n",
       "999    0.390335\n",
       "Name: x1, Length: 1000, dtype: float64"
      ]
     },
     "metadata": {},
     "output_type": "display_data"
    }
   ],
   "source": [
    "# to_dict 와 replace 예시\n",
    "display(df['x1'].replace(S.to_dict()))"
   ]
  },
  {
   "attachments": {},
   "cell_type": "markdown",
   "metadata": {},
   "source": [
    "자료형이 object인 변수에 대해 변수에 따른 라벨의 평균을 구하고 이릍 바탕으로 변수의 값을 대체 합니다."
   ]
  },
  {
   "cell_type": "code",
   "execution_count": 14,
   "metadata": {},
   "outputs": [
    {
     "data": {
      "text/plain": [
       "357    0.497512\n",
       "964    0.405797\n",
       "337    0.113402\n",
       "980    0.235294\n",
       "455    0.113402\n",
       "Name: x1, dtype: float64"
      ]
     },
     "metadata": {},
     "output_type": "display_data"
    },
    {
     "data": {
      "text/plain": [
       "652    0.497512\n",
       "579    0.113402\n",
       "836    0.113402\n",
       "586    0.113402\n",
       "226    0.113402\n",
       "Name: x1, dtype: float64"
      ]
     },
     "metadata": {},
     "output_type": "display_data"
    }
   ],
   "source": [
    "# 라벨을 이용한 치환 예제\n",
    "train = pd.concat([X_train, y_train], axis=1)\n",
    "\n",
    "for col, dtype in zip(X_train.columns, X_train.dtypes):\n",
    "    if dtype == object:\n",
    "        S = train.groupby(col)['y'].mean().to_dict()\n",
    "        X_train.loc[:, col] = X_train[col].replace(S)\n",
    "        X_test.loc[:, col] = X_test[col].replace(S)\n",
    "\n",
    "display(X_train['x1'].head())\n",
    "display(X_test['x1'].head())"
   ]
  },
  {
   "attachments": {},
   "cell_type": "markdown",
   "metadata": {},
   "source": [
    "- 라인 1: 특징과 라벨, 학습과 평가 데이터가 분리된 상태이므로 X_train과 y_train을 먼저 합칩니다.\n",
    "- 라인 2: X_train의 칼럼 목록(columns)과 칼럼별 자료형 목록(dtypes)을 zip 함수를 이용해 각각 col과 dtype으로 순회합니다.\n",
    "- 라인 3 - 6: dtype이 object인 col에 대해서 col에 따른 'y'의 평균으로 X_train과 X_test의 칼럼 col을 대체합니다. "
   ]
  },
  {
   "attachments": {},
   "cell_type": "markdown",
   "metadata": {},
   "source": [
    "# 4. 스케일링\n",
    "## 예제 데이터 불러오기"
   ]
  },
  {
   "cell_type": "code",
   "execution_count": 15,
   "metadata": {},
   "outputs": [],
   "source": [
    "# 데이터 불러오기 예제\n",
    "df = pd.read_csv('classification/glass.csv')\n",
    "X = df.drop('y', axis=1)\n",
    "y = df['y']\n",
    "X_train, X_test, y_train, y_test = train_test_split(X, y, random_state = 2022)"
   ]
  },
  {
   "attachments": {},
   "cell_type": "markdown",
   "metadata": {},
   "source": [
    "# 특징별 스케일 확인\n",
    "특징별 스케일을 describe 메서드를 활용하여 확인해보겠습니다."
   ]
  },
  {
   "cell_type": "code",
   "execution_count": 16,
   "metadata": {},
   "outputs": [
    {
     "data": {
      "text/html": [
       "<div>\n",
       "<style scoped>\n",
       "    .dataframe tbody tr th:only-of-type {\n",
       "        vertical-align: middle;\n",
       "    }\n",
       "\n",
       "    .dataframe tbody tr th {\n",
       "        vertical-align: top;\n",
       "    }\n",
       "\n",
       "    .dataframe thead th {\n",
       "        text-align: right;\n",
       "    }\n",
       "</style>\n",
       "<table border=\"1\" class=\"dataframe\">\n",
       "  <thead>\n",
       "    <tr style=\"text-align: right;\">\n",
       "      <th></th>\n",
       "      <th>x1</th>\n",
       "      <th>x2</th>\n",
       "      <th>x3</th>\n",
       "      <th>x4</th>\n",
       "      <th>x5</th>\n",
       "      <th>x6</th>\n",
       "      <th>x7</th>\n",
       "      <th>x8</th>\n",
       "      <th>x9</th>\n",
       "    </tr>\n",
       "  </thead>\n",
       "  <tbody>\n",
       "    <tr>\n",
       "      <th>count</th>\n",
       "      <td>160.000000</td>\n",
       "      <td>160.000000</td>\n",
       "      <td>160.000000</td>\n",
       "      <td>160.000000</td>\n",
       "      <td>160.000000</td>\n",
       "      <td>160.000000</td>\n",
       "      <td>160.000000</td>\n",
       "      <td>160.000000</td>\n",
       "      <td>160.000000</td>\n",
       "    </tr>\n",
       "    <tr>\n",
       "      <th>mean</th>\n",
       "      <td>1.518363</td>\n",
       "      <td>13.440179</td>\n",
       "      <td>2.707666</td>\n",
       "      <td>1.451238</td>\n",
       "      <td>72.623665</td>\n",
       "      <td>0.504136</td>\n",
       "      <td>8.940115</td>\n",
       "      <td>0.180554</td>\n",
       "      <td>0.039174</td>\n",
       "    </tr>\n",
       "    <tr>\n",
       "      <th>std</th>\n",
       "      <td>0.002738</td>\n",
       "      <td>0.770260</td>\n",
       "      <td>1.417633</td>\n",
       "      <td>0.514204</td>\n",
       "      <td>0.776014</td>\n",
       "      <td>0.725813</td>\n",
       "      <td>1.275246</td>\n",
       "      <td>0.500161</td>\n",
       "      <td>0.090792</td>\n",
       "    </tr>\n",
       "    <tr>\n",
       "      <th>min</th>\n",
       "      <td>1.512995</td>\n",
       "      <td>10.730000</td>\n",
       "      <td>0.000000</td>\n",
       "      <td>0.290000</td>\n",
       "      <td>69.810000</td>\n",
       "      <td>0.000000</td>\n",
       "      <td>5.871160</td>\n",
       "      <td>0.000000</td>\n",
       "      <td>0.000000</td>\n",
       "    </tr>\n",
       "    <tr>\n",
       "      <th>25%</th>\n",
       "      <td>1.516560</td>\n",
       "      <td>12.987675</td>\n",
       "      <td>2.197855</td>\n",
       "      <td>1.186393</td>\n",
       "      <td>72.275400</td>\n",
       "      <td>0.111780</td>\n",
       "      <td>8.238360</td>\n",
       "      <td>0.000000</td>\n",
       "      <td>0.000000</td>\n",
       "    </tr>\n",
       "    <tr>\n",
       "      <th>50%</th>\n",
       "      <td>1.517688</td>\n",
       "      <td>13.330150</td>\n",
       "      <td>3.484240</td>\n",
       "      <td>1.363745</td>\n",
       "      <td>72.755600</td>\n",
       "      <td>0.555795</td>\n",
       "      <td>8.609580</td>\n",
       "      <td>0.000000</td>\n",
       "      <td>0.000000</td>\n",
       "    </tr>\n",
       "    <tr>\n",
       "      <th>75%</th>\n",
       "      <td>1.519174</td>\n",
       "      <td>13.873788</td>\n",
       "      <td>3.609960</td>\n",
       "      <td>1.634188</td>\n",
       "      <td>73.044000</td>\n",
       "      <td>0.603922</td>\n",
       "      <td>9.236350</td>\n",
       "      <td>0.000000</td>\n",
       "      <td>0.052275</td>\n",
       "    </tr>\n",
       "    <tr>\n",
       "      <th>max</th>\n",
       "      <td>1.531242</td>\n",
       "      <td>15.790650</td>\n",
       "      <td>4.490000</td>\n",
       "      <td>3.500000</td>\n",
       "      <td>75.180400</td>\n",
       "      <td>6.210000</td>\n",
       "      <td>14.963360</td>\n",
       "      <td>3.150000</td>\n",
       "      <td>0.510000</td>\n",
       "    </tr>\n",
       "  </tbody>\n",
       "</table>\n",
       "</div>"
      ],
      "text/plain": [
       "               x1          x2          x3          x4          x5          x6  \\\n",
       "count  160.000000  160.000000  160.000000  160.000000  160.000000  160.000000   \n",
       "mean     1.518363   13.440179    2.707666    1.451238   72.623665    0.504136   \n",
       "std      0.002738    0.770260    1.417633    0.514204    0.776014    0.725813   \n",
       "min      1.512995   10.730000    0.000000    0.290000   69.810000    0.000000   \n",
       "25%      1.516560   12.987675    2.197855    1.186393   72.275400    0.111780   \n",
       "50%      1.517688   13.330150    3.484240    1.363745   72.755600    0.555795   \n",
       "75%      1.519174   13.873788    3.609960    1.634188   73.044000    0.603922   \n",
       "max      1.531242   15.790650    4.490000    3.500000   75.180400    6.210000   \n",
       "\n",
       "               x7          x8          x9  \n",
       "count  160.000000  160.000000  160.000000  \n",
       "mean     8.940115    0.180554    0.039174  \n",
       "std      1.275246    0.500161    0.090792  \n",
       "min      5.871160    0.000000    0.000000  \n",
       "25%      8.238360    0.000000    0.000000  \n",
       "50%      8.609580    0.000000    0.000000  \n",
       "75%      9.236350    0.000000    0.052275  \n",
       "max     14.963360    3.150000    0.510000  "
      ]
     },
     "metadata": {},
     "output_type": "display_data"
    }
   ],
   "source": [
    "# 특징별 스케일 확인 예제\n",
    "display(X_train.describe())"
   ]
  },
  {
   "attachments": {},
   "cell_type": "markdown",
   "metadata": {},
   "source": [
    "- 특징별 스케일 차이가 매우 크다는 것을 알 수 있음\n",
    "- x1은 1.512995부터 1.531242 사이의 값을 갖는 작은 스케일의 특징임\n",
    "- x5는 69.81부터 75.1804까지 x1에 비해 약 50배 가까이 큰 스케일을 가짐\n"
   ]
  },
  {
   "attachments": {},
   "cell_type": "markdown",
   "metadata": {},
   "source": [
    "## 최소 - 최대 스케일링\n",
    "최소 - 최대 스케일링은 사이킷런의 MinMaxScaler를 이용해 구현할 수 있습니다."
   ]
  },
  {
   "cell_type": "code",
   "execution_count": 17,
   "metadata": {},
   "outputs": [
    {
     "data": {
      "text/html": [
       "<div>\n",
       "<style scoped>\n",
       "    .dataframe tbody tr th:only-of-type {\n",
       "        vertical-align: middle;\n",
       "    }\n",
       "\n",
       "    .dataframe tbody tr th {\n",
       "        vertical-align: top;\n",
       "    }\n",
       "\n",
       "    .dataframe thead th {\n",
       "        text-align: right;\n",
       "    }\n",
       "</style>\n",
       "<table border=\"1\" class=\"dataframe\">\n",
       "  <thead>\n",
       "    <tr style=\"text-align: right;\">\n",
       "      <th></th>\n",
       "      <th>x1</th>\n",
       "      <th>x2</th>\n",
       "      <th>x3</th>\n",
       "      <th>x4</th>\n",
       "      <th>x5</th>\n",
       "      <th>x6</th>\n",
       "      <th>x7</th>\n",
       "      <th>x8</th>\n",
       "      <th>x9</th>\n",
       "    </tr>\n",
       "  </thead>\n",
       "  <tbody>\n",
       "    <tr>\n",
       "      <th>count</th>\n",
       "      <td>160.000000</td>\n",
       "      <td>160.000000</td>\n",
       "      <td>160.000000</td>\n",
       "      <td>160.000000</td>\n",
       "      <td>160.000000</td>\n",
       "      <td>160.000000</td>\n",
       "      <td>160.000000</td>\n",
       "      <td>160.000000</td>\n",
       "      <td>160.000000</td>\n",
       "    </tr>\n",
       "    <tr>\n",
       "      <th>mean</th>\n",
       "      <td>0.294187</td>\n",
       "      <td>0.535540</td>\n",
       "      <td>0.603044</td>\n",
       "      <td>0.361756</td>\n",
       "      <td>0.523921</td>\n",
       "      <td>0.081181</td>\n",
       "      <td>0.337537</td>\n",
       "      <td>0.057319</td>\n",
       "      <td>0.076813</td>\n",
       "    </tr>\n",
       "    <tr>\n",
       "      <th>std</th>\n",
       "      <td>0.150068</td>\n",
       "      <td>0.152206</td>\n",
       "      <td>0.315731</td>\n",
       "      <td>0.160188</td>\n",
       "      <td>0.144498</td>\n",
       "      <td>0.116878</td>\n",
       "      <td>0.140257</td>\n",
       "      <td>0.158781</td>\n",
       "      <td>0.178023</td>\n",
       "    </tr>\n",
       "    <tr>\n",
       "      <th>min</th>\n",
       "      <td>0.000000</td>\n",
       "      <td>0.000000</td>\n",
       "      <td>0.000000</td>\n",
       "      <td>0.000000</td>\n",
       "      <td>0.000000</td>\n",
       "      <td>0.000000</td>\n",
       "      <td>0.000000</td>\n",
       "      <td>0.000000</td>\n",
       "      <td>0.000000</td>\n",
       "    </tr>\n",
       "    <tr>\n",
       "      <th>25%</th>\n",
       "      <td>0.195381</td>\n",
       "      <td>0.446124</td>\n",
       "      <td>0.489500</td>\n",
       "      <td>0.279250</td>\n",
       "      <td>0.459072</td>\n",
       "      <td>0.018000</td>\n",
       "      <td>0.260355</td>\n",
       "      <td>0.000000</td>\n",
       "      <td>0.000000</td>\n",
       "    </tr>\n",
       "    <tr>\n",
       "      <th>50%</th>\n",
       "      <td>0.257179</td>\n",
       "      <td>0.513798</td>\n",
       "      <td>0.776000</td>\n",
       "      <td>0.334500</td>\n",
       "      <td>0.548488</td>\n",
       "      <td>0.089500</td>\n",
       "      <td>0.301183</td>\n",
       "      <td>0.000000</td>\n",
       "      <td>0.000000</td>\n",
       "    </tr>\n",
       "    <tr>\n",
       "      <th>75%</th>\n",
       "      <td>0.338639</td>\n",
       "      <td>0.621222</td>\n",
       "      <td>0.804000</td>\n",
       "      <td>0.418750</td>\n",
       "      <td>0.602190</td>\n",
       "      <td>0.097250</td>\n",
       "      <td>0.370118</td>\n",
       "      <td>0.000000</td>\n",
       "      <td>0.102500</td>\n",
       "    </tr>\n",
       "    <tr>\n",
       "      <th>max</th>\n",
       "      <td>1.000000</td>\n",
       "      <td>1.000000</td>\n",
       "      <td>1.000000</td>\n",
       "      <td>1.000000</td>\n",
       "      <td>1.000000</td>\n",
       "      <td>1.000000</td>\n",
       "      <td>1.000000</td>\n",
       "      <td>1.000000</td>\n",
       "      <td>1.000000</td>\n",
       "    </tr>\n",
       "  </tbody>\n",
       "</table>\n",
       "</div>"
      ],
      "text/plain": [
       "               x1          x2          x3          x4          x5          x6  \\\n",
       "count  160.000000  160.000000  160.000000  160.000000  160.000000  160.000000   \n",
       "mean     0.294187    0.535540    0.603044    0.361756    0.523921    0.081181   \n",
       "std      0.150068    0.152206    0.315731    0.160188    0.144498    0.116878   \n",
       "min      0.000000    0.000000    0.000000    0.000000    0.000000    0.000000   \n",
       "25%      0.195381    0.446124    0.489500    0.279250    0.459072    0.018000   \n",
       "50%      0.257179    0.513798    0.776000    0.334500    0.548488    0.089500   \n",
       "75%      0.338639    0.621222    0.804000    0.418750    0.602190    0.097250   \n",
       "max      1.000000    1.000000    1.000000    1.000000    1.000000    1.000000   \n",
       "\n",
       "               x7          x8          x9  \n",
       "count  160.000000  160.000000  160.000000  \n",
       "mean     0.337537    0.057319    0.076813  \n",
       "std      0.140257    0.158781    0.178023  \n",
       "min      0.000000    0.000000    0.000000  \n",
       "25%      0.260355    0.000000    0.000000  \n",
       "50%      0.301183    0.000000    0.000000  \n",
       "75%      0.370118    0.000000    0.102500  \n",
       "max      1.000000    1.000000    1.000000  "
      ]
     },
     "metadata": {},
     "output_type": "display_data"
    }
   ],
   "source": [
    "# 최소 - 최대 정규화 예제\n",
    "from sklearn.preprocessing import MinMaxScaler\n",
    "\n",
    "scaler = MinMaxScaler().fit(X_train)\n",
    "\n",
    "Z_train = pd.DataFrame(scaler.transform(X_train), columns=X_train.columns)\n",
    "Z_test = pd.DataFrame(scaler.transform(X_test), columns=X_test.columns)\n",
    "\n",
    "display(Z_train.describe())"
   ]
  },
  {
   "attachments": {},
   "cell_type": "markdown",
   "metadata": {},
   "source": [
    "- 모든 특징의 최솟값이 0으로 최댓값이 1로 변했음"
   ]
  },
  {
   "attachments": {},
   "cell_type": "markdown",
   "metadata": {},
   "source": [
    "## 표준화\n",
    "표준화는 사이킷런의 StandardScaler를 이용해 구현할 수 있습니다."
   ]
  },
  {
   "cell_type": "code",
   "execution_count": 18,
   "metadata": {},
   "outputs": [
    {
     "data": {
      "text/html": [
       "<div>\n",
       "<style scoped>\n",
       "    .dataframe tbody tr th:only-of-type {\n",
       "        vertical-align: middle;\n",
       "    }\n",
       "\n",
       "    .dataframe tbody tr th {\n",
       "        vertical-align: top;\n",
       "    }\n",
       "\n",
       "    .dataframe thead th {\n",
       "        text-align: right;\n",
       "    }\n",
       "</style>\n",
       "<table border=\"1\" class=\"dataframe\">\n",
       "  <thead>\n",
       "    <tr style=\"text-align: right;\">\n",
       "      <th></th>\n",
       "      <th>x1</th>\n",
       "      <th>x2</th>\n",
       "      <th>x3</th>\n",
       "      <th>x4</th>\n",
       "      <th>x5</th>\n",
       "      <th>x6</th>\n",
       "      <th>x7</th>\n",
       "      <th>x8</th>\n",
       "      <th>x9</th>\n",
       "    </tr>\n",
       "  </thead>\n",
       "  <tbody>\n",
       "    <tr>\n",
       "      <th>count</th>\n",
       "      <td>1.600000e+02</td>\n",
       "      <td>1.600000e+02</td>\n",
       "      <td>1.600000e+02</td>\n",
       "      <td>1.600000e+02</td>\n",
       "      <td>1.600000e+02</td>\n",
       "      <td>1.600000e+02</td>\n",
       "      <td>1.600000e+02</td>\n",
       "      <td>1.600000e+02</td>\n",
       "      <td>1.600000e+02</td>\n",
       "    </tr>\n",
       "    <tr>\n",
       "      <th>mean</th>\n",
       "      <td>-3.456124e-14</td>\n",
       "      <td>-1.498801e-15</td>\n",
       "      <td>6.661338e-17</td>\n",
       "      <td>-3.053113e-17</td>\n",
       "      <td>1.424971e-14</td>\n",
       "      <td>9.992007e-17</td>\n",
       "      <td>-4.274359e-16</td>\n",
       "      <td>1.110223e-17</td>\n",
       "      <td>4.996004e-17</td>\n",
       "    </tr>\n",
       "    <tr>\n",
       "      <th>std</th>\n",
       "      <td>1.003140e+00</td>\n",
       "      <td>1.003140e+00</td>\n",
       "      <td>1.003140e+00</td>\n",
       "      <td>1.003140e+00</td>\n",
       "      <td>1.003140e+00</td>\n",
       "      <td>1.003140e+00</td>\n",
       "      <td>1.003140e+00</td>\n",
       "      <td>1.003140e+00</td>\n",
       "      <td>1.003140e+00</td>\n",
       "    </tr>\n",
       "    <tr>\n",
       "      <th>min</th>\n",
       "      <td>-1.966508e+00</td>\n",
       "      <td>-3.529571e+00</td>\n",
       "      <td>-1.915988e+00</td>\n",
       "      <td>-2.265410e+00</td>\n",
       "      <td>-3.637174e+00</td>\n",
       "      <td>-6.967617e-01</td>\n",
       "      <td>-2.414116e+00</td>\n",
       "      <td>-3.621250e-01</td>\n",
       "      <td>-4.328292e-01</td>\n",
       "    </tr>\n",
       "    <tr>\n",
       "      <th>25%</th>\n",
       "      <td>-6.604750e-01</td>\n",
       "      <td>-5.893132e-01</td>\n",
       "      <td>-3.607508e-01</td>\n",
       "      <td>-5.166751e-01</td>\n",
       "      <td>-4.501959e-01</td>\n",
       "      <td>-5.422714e-01</td>\n",
       "      <td>-5.520178e-01</td>\n",
       "      <td>-3.621250e-01</td>\n",
       "      <td>-4.328292e-01</td>\n",
       "    </tr>\n",
       "    <tr>\n",
       "      <th>50%</th>\n",
       "      <td>-2.473847e-01</td>\n",
       "      <td>-1.432947e-01</td>\n",
       "      <td>5.495160e-01</td>\n",
       "      <td>-1.706856e-01</td>\n",
       "      <td>1.705500e-01</td>\n",
       "      <td>7.139809e-02</td>\n",
       "      <td>-2.600070e-01</td>\n",
       "      <td>-3.621250e-01</td>\n",
       "      <td>-4.328292e-01</td>\n",
       "    </tr>\n",
       "    <tr>\n",
       "      <th>75%</th>\n",
       "      <td>2.971433e-01</td>\n",
       "      <td>5.647055e-01</td>\n",
       "      <td>6.384775e-01</td>\n",
       "      <td>3.569093e-01</td>\n",
       "      <td>5.433594e-01</td>\n",
       "      <td>1.379147e-01</td>\n",
       "      <td>2.330258e-01</td>\n",
       "      <td>-3.621250e-01</td>\n",
       "      <td>1.447460e-01</td>\n",
       "    </tr>\n",
       "    <tr>\n",
       "      <th>max</th>\n",
       "      <td>4.718043e+00</td>\n",
       "      <td>3.061110e+00</td>\n",
       "      <td>1.261208e+00</td>\n",
       "      <td>3.996845e+00</td>\n",
       "      <td>3.305045e+00</td>\n",
       "      <td>7.886029e+00</td>\n",
       "      <td>4.738033e+00</td>\n",
       "      <td>5.955617e+00</td>\n",
       "      <td>5.202050e+00</td>\n",
       "    </tr>\n",
       "  </tbody>\n",
       "</table>\n",
       "</div>"
      ],
      "text/plain": [
       "                 x1            x2            x3            x4            x5  \\\n",
       "count  1.600000e+02  1.600000e+02  1.600000e+02  1.600000e+02  1.600000e+02   \n",
       "mean  -3.456124e-14 -1.498801e-15  6.661338e-17 -3.053113e-17  1.424971e-14   \n",
       "std    1.003140e+00  1.003140e+00  1.003140e+00  1.003140e+00  1.003140e+00   \n",
       "min   -1.966508e+00 -3.529571e+00 -1.915988e+00 -2.265410e+00 -3.637174e+00   \n",
       "25%   -6.604750e-01 -5.893132e-01 -3.607508e-01 -5.166751e-01 -4.501959e-01   \n",
       "50%   -2.473847e-01 -1.432947e-01  5.495160e-01 -1.706856e-01  1.705500e-01   \n",
       "75%    2.971433e-01  5.647055e-01  6.384775e-01  3.569093e-01  5.433594e-01   \n",
       "max    4.718043e+00  3.061110e+00  1.261208e+00  3.996845e+00  3.305045e+00   \n",
       "\n",
       "                 x6            x7            x8            x9  \n",
       "count  1.600000e+02  1.600000e+02  1.600000e+02  1.600000e+02  \n",
       "mean   9.992007e-17 -4.274359e-16  1.110223e-17  4.996004e-17  \n",
       "std    1.003140e+00  1.003140e+00  1.003140e+00  1.003140e+00  \n",
       "min   -6.967617e-01 -2.414116e+00 -3.621250e-01 -4.328292e-01  \n",
       "25%   -5.422714e-01 -5.520178e-01 -3.621250e-01 -4.328292e-01  \n",
       "50%    7.139809e-02 -2.600070e-01 -3.621250e-01 -4.328292e-01  \n",
       "75%    1.379147e-01  2.330258e-01 -3.621250e-01  1.447460e-01  \n",
       "max    7.886029e+00  4.738033e+00  5.955617e+00  5.202050e+00  "
      ]
     },
     "metadata": {},
     "output_type": "display_data"
    }
   ],
   "source": [
    "# 표준화 예제\n",
    "from sklearn.preprocessing import StandardScaler\n",
    "\n",
    "scaler = StandardScaler().fit(X_train)\n",
    "\n",
    "Z_train = pd.DataFrame(scaler.transform(X_train), columns=X_train.columns)\n",
    "Z_test = pd.DataFrame(scaler.transform(X_test), columns=X_test.columns)\n",
    "\n",
    "display(Z_train.describe())"
   ]
  },
  {
   "attachments": {},
   "cell_type": "markdown",
   "metadata": {},
   "source": [
    "# 5. 재샘플링\n",
    "## 임밸런 패키지\n",
    "임밸런은 다양한 재샘플링 클래스를 제공하는 패키지 입니다."
   ]
  },
  {
   "cell_type": "code",
   "execution_count": 19,
   "metadata": {},
   "outputs": [
    {
     "name": "stdout",
     "output_type": "stream",
     "text": [
      "Requirement already satisfied: imblearn in c:\\users\\rkfka\\appdata\\local\\programs\\python\\python38\\lib\\site-packages (0.0)\n",
      "Requirement already satisfied: imbalanced-learn in c:\\users\\rkfka\\appdata\\local\\programs\\python\\python38\\lib\\site-packages (from imblearn) (0.10.0)\n",
      "Requirement already satisfied: scipy>=1.3.2 in c:\\users\\rkfka\\appdata\\local\\programs\\python\\python38\\lib\\site-packages (from imbalanced-learn->imblearn) (1.9.0)\n",
      "Requirement already satisfied: joblib>=1.1.1 in c:\\users\\rkfka\\appdata\\local\\programs\\python\\python38\\lib\\site-packages (from imbalanced-learn->imblearn) (1.2.0)\n",
      "Requirement already satisfied: threadpoolctl>=2.0.0 in c:\\users\\rkfka\\appdata\\local\\programs\\python\\python38\\lib\\site-packages (from imbalanced-learn->imblearn) (3.1.0)\n",
      "Requirement already satisfied: scikit-learn>=1.0.2 in c:\\users\\rkfka\\appdata\\local\\programs\\python\\python38\\lib\\site-packages (from imbalanced-learn->imblearn) (1.1.2)\n",
      "Requirement already satisfied: numpy>=1.17.3 in c:\\users\\rkfka\\appdata\\local\\programs\\python\\python38\\lib\\site-packages (from imbalanced-learn->imblearn) (1.23.1)\n",
      "Note: you may need to restart the kernel to use updated packages.\n"
     ]
    },
    {
     "name": "stderr",
     "output_type": "stream",
     "text": [
      "\n",
      "[notice] A new release of pip available: 22.2.1 -> 22.3.1\n",
      "[notice] To update, run: python.exe -m pip install --upgrade pip\n"
     ]
    }
   ],
   "source": [
    "# 임밸런 설치\n",
    "%pip install imblearn"
   ]
  },
  {
   "attachments": {},
   "cell_type": "markdown",
   "metadata": {},
   "source": [
    "![nn](images/imb.png)"
   ]
  },
  {
   "attachments": {},
   "cell_type": "markdown",
   "metadata": {},
   "source": [
    "## 예제 데이터 불러오기\n",
    "재샘플링에 사용할 데이터를 불러오고 value_counts 메서드를 사용해 라벨의 분포를 확인합니다."
   ]
  },
  {
   "cell_type": "code",
   "execution_count": 20,
   "metadata": {},
   "outputs": [],
   "source": [
    "# 데이터 불러오기 예제\n",
    "df = pd.read_csv(\"classification/yeast-1_vs_7.csv\")\n",
    "X = df.drop('y', axis = 1)\n",
    "y = df['y']\n",
    "X_train, X_test, y_train, y_test = train_test_split(X, y, random_state = 2022)"
   ]
  },
  {
   "cell_type": "code",
   "execution_count": 22,
   "metadata": {},
   "outputs": [
    {
     "data": {
      "text/plain": [
       "0    320\n",
       "1     24\n",
       "Name: y, dtype: int64"
      ]
     },
     "metadata": {},
     "output_type": "display_data"
    }
   ],
   "source": [
    "# 라벨의 분포 확인 예제\n",
    "display(y_train.value_counts())"
   ]
  },
  {
   "attachments": {},
   "cell_type": "markdown",
   "metadata": {},
   "source": [
    "- 다수 클래스의 샘플 수가 320, 소수 클래스의 샘플 수가 24로 약 13:1의 비율임을 알 수 있음\n"
   ]
  },
  {
   "attachments": {},
   "cell_type": "markdown",
   "metadata": {},
   "source": [
    "## SMOTE\n",
    "SMOTE는 임밸런의 SMOTE 클래스의 인스턴스로 구현할 수 있습니다."
   ]
  },
  {
   "cell_type": "code",
   "execution_count": 23,
   "metadata": {},
   "outputs": [
    {
     "data": {
      "text/plain": [
       "0    320\n",
       "1    320\n",
       "Name: y, dtype: int64"
      ]
     },
     "metadata": {},
     "output_type": "display_data"
    }
   ],
   "source": [
    "# SMOTE 예제\n",
    "from imblearn.over_sampling import SMOTE\n",
    "\n",
    "smote = SMOTE()\n",
    "\n",
    "s_X_train, s_y_train = smote.fit_resample(X_train, y_train)\n",
    "s_X_train = pd.DataFrame(s_X_train, columns = X_train.columns)\n",
    "s_y_train = pd.Series(s_y_train)\n",
    "\n",
    "display(s_y_train.value_counts())"
   ]
  },
  {
   "attachments": {},
   "cell_type": "markdown",
   "metadata": {},
   "source": [
    "- 소수 클래스의 샘플이 24개에서 320개로 296개가 생성되면서 클래스의 균형이 맞음"
   ]
  },
  {
   "attachments": {},
   "cell_type": "markdown",
   "metadata": {},
   "source": [
    "## NearMiss\n",
    "NearMiss는 임밸런의 NearMiss 클래스로 만든 인스턴스를 사용해 다음과 같이 구현할 수 있습니다."
   ]
  },
  {
   "cell_type": "code",
   "execution_count": 24,
   "metadata": {},
   "outputs": [
    {
     "data": {
      "text/plain": [
       "0    24\n",
       "1    24\n",
       "Name: y, dtype: int64"
      ]
     },
     "metadata": {},
     "output_type": "display_data"
    }
   ],
   "source": [
    "# NearMiss 예제\n",
    "from imblearn.under_sampling import NearMiss\n",
    "\n",
    "nm = NearMiss()\n",
    "\n",
    "s_X_train, s_y_train = nm.fit_resample(X_train, y_train)\n",
    "s_X_train = pd.DataFrame(s_X_train, columns = X_train.columns)\n",
    "s_y_train = pd.Series(s_y_train)\n",
    "\n",
    "display(s_y_train.value_counts())"
   ]
  },
  {
   "attachments": {},
   "cell_type": "markdown",
   "metadata": {},
   "source": [
    "- 다수 클래스의 샘플이 320개에서 24개로 296개가 제거되면서 클래스의 균형이 맞음"
   ]
  },
  {
   "attachments": {},
   "cell_type": "markdown",
   "metadata": {},
   "source": [
    "# 6. 특징 선택\n",
    "## 예제 데이터 불러오기\n",
    "특징 선택에 사용할 데이터를 불러옵니다."
   ]
  },
  {
   "cell_type": "code",
   "execution_count": 25,
   "metadata": {},
   "outputs": [],
   "source": [
    "# 데이터 불러오기 예제\n",
    "df = pd.read_csv(\"classification/wdbc.csv\")\n",
    "X = df.drop('y', axis = 1)\n",
    "y = df['y']\n",
    "X_train, X_test, y_train, y_test = train_test_split(X, y, random_state = 2022)"
   ]
  },
  {
   "attachments": {},
   "cell_type": "markdown",
   "metadata": {},
   "source": [
    "## SelectKBest\n",
    "SelectKBest 클래스는 이름에서 알 수 있듯이 클래스 관련성이 높은 K개의 특징을 선택하는 클래스 입니다."
   ]
  },
  {
   "attachments": {},
   "cell_type": "markdown",
   "metadata": {},
   "source": [
    "![nn](images/SelectKBest.png)"
   ]
  },
  {
   "attachments": {},
   "cell_type": "markdown",
   "metadata": {},
   "source": [
    "## 특징 선택\n",
    "SelectKBest 클래스를 이용해 F-통계량(f_classif)이 큰 특징 10개를 선택해보겠습니다."
   ]
  },
  {
   "cell_type": "code",
   "execution_count": 26,
   "metadata": {},
   "outputs": [
    {
     "name": "stdout",
     "output_type": "stream",
     "text": [
      "(426, 30)\n",
      "(426, 10)\n"
     ]
    }
   ],
   "source": [
    "from sklearn.feature_selection import *\n",
    "\n",
    "selector = SelectKBest(f_classif, k = 10)\n",
    "selector.fit(X_train, y_train)\n",
    "selected_features = X_train.columns[selector.get_support()]\n",
    "\n",
    "Z_train = X_train.loc[:, selected_features]\n",
    "Z_test = X_test.loc[:, selected_features]\n",
    "\n",
    "print(X_train.shape)\n",
    "print(Z_train.shape)"
   ]
  },
  {
   "attachments": {},
   "cell_type": "markdown",
   "metadata": {},
   "source": [
    "- 특징 개수가 30개에서 10개로 줄었음"
   ]
  },
  {
   "attachments": {},
   "cell_type": "markdown",
   "metadata": {},
   "source": [
    "- 라인 1: SelectKBest 뿐만 아니라 f_classif까지 불러와야 하므로, sklearn.feature_selection 세부 클래스의 모든 함수를 불러옵니다. \n",
    "- 라인 2: f_classif를 기준으로 상위 10개의 특징을 선택하는 인스턴스 selector를 생성합니다. \n",
    "- 라인 4: selector.get_support()를 인덱스로 사용해 선택한 특징 목록을 selected_features에 저장합니다.\n",
    "- 라인 5: selected_features를 사용해 특징을 선택합니다"
   ]
  }
 ],
 "metadata": {
  "kernelspec": {
   "display_name": "Python 3",
   "language": "python",
   "name": "python3"
  },
  "language_info": {
   "codemirror_mode": {
    "name": "ipython",
    "version": 3
   },
   "file_extension": ".py",
   "mimetype": "text/x-python",
   "name": "python",
   "nbconvert_exporter": "python",
   "pygments_lexer": "ipython3",
   "version": "3.8.6"
  },
  "orig_nbformat": 4,
  "vscode": {
   "interpreter": {
    "hash": "107109ef1f3d2c1d8ef2422d7f3c7553b0305ed5b701a76fbc5bdcb10e21ee2d"
   }
  }
 },
 "nbformat": 4,
 "nbformat_minor": 2
}
